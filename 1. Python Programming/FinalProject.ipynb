{
 "cells": [
  {
   "cell_type": "markdown",
   "metadata": {},
   "source": [
    "# Python Programming"
   ]
  },
  {
   "cell_type": "markdown",
   "metadata": {},
   "source": [
    "# Final Project"
   ]
  },
  {
   "cell_type": "markdown",
   "metadata": {},
   "source": [
    "> ## 개인 가계부 프로그램\n",
    ">  1. 카테고리 설정 및 집계\n",
    ">  2. 자산별 집계\n",
    ">  3. 시계열 조회"
   ]
  },
  {
   "cell_type": "markdown",
   "metadata": {},
   "source": [
    "분류|일자|자산|카테고리|내용|금액\n",
    "--|--|--|--|--|--\n",
    "지출|20160401|국민카드|기타|CJMALL|82157\n",
    "지출|20160404|국민카드|의복|11번가|19860\n",
    "지출|20160405|국민카드|공과금|전기요금|29430\n",
    "지출|20160406|국민카드|식대|ES푸드시스템|13500\n",
    "지출|20160411|국민카드|공과금|가스요금|23390\n",
    "지출|20160412|국민카드|교통통신비|OLLEH모바일|45310\n",
    "지출|20160413|현금|생활용품|에어컨설치|50000\n",
    "지출|20160414|국민카드|건강|흥국화재해상보험|30717\n",
    "지출|20160420|국민카드|건강|동부화재|47500"
   ]
  },
  {
   "cell_type": "code",
   "execution_count": 166,
   "metadata": {
    "collapsed": false
   },
   "outputs": [],
   "source": [
    "#-*- coding: utf-8 -*-\n",
    "import numpy as np\n",
    "import pandas as pd\n",
    "import matplotlib.pyplot as plt\n",
    "plt.style.use('ggplot')\n",
    "from datetime import datetime\n",
    "%matplotlib inline"
   ]
  },
  {
   "cell_type": "markdown",
   "metadata": {},
   "source": [
    "### 변수 초기화"
   ]
  },
  {
   "cell_type": "code",
   "execution_count": 356,
   "metadata": {
    "collapsed": false
   },
   "outputs": [
    {
     "data": {
      "text/plain": [
       "datetime.date(2016, 6, 25)"
      ]
     },
     "execution_count": 356,
     "metadata": {},
     "output_type": "execute_result"
    }
   ],
   "source": [
    "datetime.now().date()"
   ]
  },
  {
   "cell_type": "code",
   "execution_count": 357,
   "metadata": {
    "collapsed": false
   },
   "outputs": [
    {
     "data": {
      "text/plain": [
       "array(['', datetime.date(2016, 6, 25), '', '', '', 0], dtype=object)"
      ]
     },
     "execution_count": 357,
     "metadata": {},
     "output_type": "execute_result"
    }
   ],
   "source": [
    "hd = ['분류','일자','자산','카테고리','내용','금액']\n",
    "v = np.array([\"\", datetime.now().date(),\"\",\"\",\"\",0])\n",
    "v"
   ]
  },
  {
   "cell_type": "markdown",
   "metadata": {},
   "source": [
    "### 초기데이터 입력"
   ]
  },
  {
   "cell_type": "code",
   "execution_count": 392,
   "metadata": {
    "collapsed": false
   },
   "outputs": [],
   "source": [
    "df = pd.read_excel('data.xlsx')  #, index_col = [0,1]"
   ]
  },
  {
   "cell_type": "code",
   "execution_count": 393,
   "metadata": {
    "collapsed": false,
    "scrolled": true
   },
   "outputs": [
    {
     "data": {
      "text/html": [
       "<div>\n",
       "<table border=\"1\" class=\"dataframe\">\n",
       "  <thead>\n",
       "    <tr style=\"text-align: right;\">\n",
       "      <th></th>\n",
       "      <th>Date</th>\n",
       "      <th>Asset</th>\n",
       "      <th>Category</th>\n",
       "      <th>Description</th>\n",
       "      <th>Amount</th>\n",
       "    </tr>\n",
       "  </thead>\n",
       "  <tbody>\n",
       "    <tr>\n",
       "      <th>0</th>\n",
       "      <td>2016-04-01</td>\n",
       "      <td>국민카드</td>\n",
       "      <td>기타</td>\n",
       "      <td>CJMALL</td>\n",
       "      <td>82157</td>\n",
       "    </tr>\n",
       "    <tr>\n",
       "      <th>1</th>\n",
       "      <td>2016-04-04</td>\n",
       "      <td>국민카드</td>\n",
       "      <td>의복</td>\n",
       "      <td>11번가</td>\n",
       "      <td>19860</td>\n",
       "    </tr>\n",
       "    <tr>\n",
       "      <th>2</th>\n",
       "      <td>2016-04-05</td>\n",
       "      <td>국민카드</td>\n",
       "      <td>공과금</td>\n",
       "      <td>전기요금</td>\n",
       "      <td>29430</td>\n",
       "    </tr>\n",
       "    <tr>\n",
       "      <th>3</th>\n",
       "      <td>2016-04-06</td>\n",
       "      <td>국민카드</td>\n",
       "      <td>식대</td>\n",
       "      <td>ES푸드시스템</td>\n",
       "      <td>13500</td>\n",
       "    </tr>\n",
       "    <tr>\n",
       "      <th>4</th>\n",
       "      <td>2016-04-11</td>\n",
       "      <td>국민카드</td>\n",
       "      <td>공과금</td>\n",
       "      <td>가스요금</td>\n",
       "      <td>23390</td>\n",
       "    </tr>\n",
       "    <tr>\n",
       "      <th>5</th>\n",
       "      <td>2016-04-12</td>\n",
       "      <td>국민카드</td>\n",
       "      <td>교통통신비</td>\n",
       "      <td>OLLEH모바일</td>\n",
       "      <td>45310</td>\n",
       "    </tr>\n",
       "    <tr>\n",
       "      <th>6</th>\n",
       "      <td>2016-04-13</td>\n",
       "      <td>현금</td>\n",
       "      <td>생활용품</td>\n",
       "      <td>에어컨 설치</td>\n",
       "      <td>50000</td>\n",
       "    </tr>\n",
       "    <tr>\n",
       "      <th>7</th>\n",
       "      <td>2016-04-14</td>\n",
       "      <td>국민카드</td>\n",
       "      <td>건강</td>\n",
       "      <td>흥국화재해상보험</td>\n",
       "      <td>30717</td>\n",
       "    </tr>\n",
       "    <tr>\n",
       "      <th>8</th>\n",
       "      <td>2016-04-20</td>\n",
       "      <td>국민카드</td>\n",
       "      <td>건강</td>\n",
       "      <td>동부화재</td>\n",
       "      <td>47500</td>\n",
       "    </tr>\n",
       "    <tr>\n",
       "      <th>9</th>\n",
       "      <td>2016-04-20</td>\n",
       "      <td>국민은행</td>\n",
       "      <td>공과금</td>\n",
       "      <td>관리비</td>\n",
       "      <td>10000</td>\n",
       "    </tr>\n",
       "    <tr>\n",
       "      <th>10</th>\n",
       "      <td>2016-05-02</td>\n",
       "      <td>국민카드</td>\n",
       "      <td>식대</td>\n",
       "      <td>삼성웰스토리</td>\n",
       "      <td>10000</td>\n",
       "    </tr>\n",
       "    <tr>\n",
       "      <th>11</th>\n",
       "      <td>2016-05-03</td>\n",
       "      <td>국민카드</td>\n",
       "      <td>식대</td>\n",
       "      <td>케이티문화재단</td>\n",
       "      <td>4000</td>\n",
       "    </tr>\n",
       "    <tr>\n",
       "      <th>12</th>\n",
       "      <td>2016-05-05</td>\n",
       "      <td>국민카드</td>\n",
       "      <td>식대</td>\n",
       "      <td>원조연탄갈비</td>\n",
       "      <td>53000</td>\n",
       "    </tr>\n",
       "    <tr>\n",
       "      <th>13</th>\n",
       "      <td>2016-05-09</td>\n",
       "      <td>국민카드</td>\n",
       "      <td>공과금</td>\n",
       "      <td>전기요금</td>\n",
       "      <td>25780</td>\n",
       "    </tr>\n",
       "    <tr>\n",
       "      <th>14</th>\n",
       "      <td>2016-05-09</td>\n",
       "      <td>국민카드</td>\n",
       "      <td>식대</td>\n",
       "      <td>케이티문화재단</td>\n",
       "      <td>4000</td>\n",
       "    </tr>\n",
       "    <tr>\n",
       "      <th>15</th>\n",
       "      <td>2016-05-11</td>\n",
       "      <td>국민카드</td>\n",
       "      <td>식대</td>\n",
       "      <td>케이티문화재단</td>\n",
       "      <td>4000</td>\n",
       "    </tr>\n",
       "    <tr>\n",
       "      <th>16</th>\n",
       "      <td>2016-05-12</td>\n",
       "      <td>국민카드</td>\n",
       "      <td>식대</td>\n",
       "      <td>케이티문화재단</td>\n",
       "      <td>4000</td>\n",
       "    </tr>\n",
       "  </tbody>\n",
       "</table>\n",
       "</div>"
      ],
      "text/plain": [
       "         Date Asset Category Description  Amount\n",
       "0  2016-04-01  국민카드       기타      CJMALL   82157\n",
       "1  2016-04-04  국민카드       의복        11번가   19860\n",
       "2  2016-04-05  국민카드      공과금        전기요금   29430\n",
       "3  2016-04-06  국민카드       식대     ES푸드시스템   13500\n",
       "4  2016-04-11  국민카드      공과금        가스요금   23390\n",
       "5  2016-04-12  국민카드    교통통신비    OLLEH모바일   45310\n",
       "6  2016-04-13    현금     생활용품      에어컨 설치   50000\n",
       "7  2016-04-14  국민카드       건강    흥국화재해상보험   30717\n",
       "8  2016-04-20  국민카드       건강        동부화재   47500\n",
       "9  2016-04-20  국민은행      공과금         관리비   10000\n",
       "10 2016-05-02  국민카드       식대      삼성웰스토리   10000\n",
       "11 2016-05-03  국민카드       식대     케이티문화재단    4000\n",
       "12 2016-05-05  국민카드       식대      원조연탄갈비   53000\n",
       "13 2016-05-09  국민카드      공과금        전기요금   25780\n",
       "14 2016-05-09  국민카드       식대     케이티문화재단    4000\n",
       "15 2016-05-11  국민카드       식대     케이티문화재단    4000\n",
       "16 2016-05-12  국민카드       식대     케이티문화재단    4000"
      ]
     },
     "execution_count": 393,
     "metadata": {},
     "output_type": "execute_result"
    }
   ],
   "source": [
    "#df.index = df['Date']\n",
    "df"
   ]
  },
  {
   "cell_type": "markdown",
   "metadata": {},
   "source": [
    "### 사용자 입력 받기"
   ]
  },
  {
   "cell_type": "code",
   "execution_count": 360,
   "metadata": {
    "collapsed": false,
    "scrolled": false
   },
   "outputs": [
    {
     "name": "stdout",
     "output_type": "stream",
     "text": [
      "수입[0]/지출[1] 선택 : ) : 1\n",
      "지출\n",
      "일자(YYYYMMDD, 미입력시 금일) : \n",
      "2016-06-25\n",
      "자산 : 현대카드\n",
      "분류 : 교통통신비\n",
      "내용 : 택시\n",
      "금액 : 5000\n"
     ]
    }
   ],
   "source": [
    "# 0. 수입/지출 구분\n",
    "a = input(\"수입[0]/지출[1] 선택 : ) : \")\n",
    "if a == 0 :\n",
    "    v[0] = \"In\"; print(\"수입\")\n",
    "else :\n",
    "    v[0] = \"Ex\"; print(\"지출\")\n",
    "    \n",
    "# 1. 일자\n",
    "a = input(\"일자(YYYYMMDD, 미입력시 금일) : \")\n",
    "if a == \"\" :\n",
    "    print(v[1])\n",
    "else :\n",
    "    v[1] = a\n",
    "    print(a)\n",
    "\n",
    "v[2] = input(\"자산 : \")\n",
    "v[3] = input(\"분류 : \")\n",
    "v[4] = input(\"내용 : \")\n",
    "v[5] = input(\"금액 : \")"
   ]
  },
  {
   "cell_type": "code",
   "execution_count": 387,
   "metadata": {
    "collapsed": false
   },
   "outputs": [
    {
     "data": {
      "text/plain": [
       "array([datetime.date(2016, 6, 25), '현대카드', '교통통신비', '택시', 5000], dtype=object)"
      ]
     },
     "execution_count": 387,
     "metadata": {},
     "output_type": "execute_result"
    }
   ],
   "source": [
    "v[5] = int(v[5])\n",
    "v"
   ]
  },
  {
   "cell_type": "code",
   "execution_count": 361,
   "metadata": {
    "collapsed": false,
    "scrolled": true
   },
   "outputs": [],
   "source": [
    "v = v[1:]"
   ]
  },
  {
   "cell_type": "code",
   "execution_count": 362,
   "metadata": {
    "collapsed": false
   },
   "outputs": [],
   "source": [
    "newidx = max(df.index)+1"
   ]
  },
  {
   "cell_type": "code",
   "execution_count": 388,
   "metadata": {
    "collapsed": false
   },
   "outputs": [
    {
     "data": {
      "text/html": [
       "<div>\n",
       "<table border=\"1\" class=\"dataframe\">\n",
       "  <thead>\n",
       "    <tr style=\"text-align: right;\">\n",
       "      <th></th>\n",
       "      <th>Date</th>\n",
       "      <th>Asset</th>\n",
       "      <th>Category</th>\n",
       "      <th>Description</th>\n",
       "      <th>Amount</th>\n",
       "    </tr>\n",
       "  </thead>\n",
       "  <tbody>\n",
       "    <tr>\n",
       "      <th>17</th>\n",
       "      <td>2016-06-25</td>\n",
       "      <td>현대카드</td>\n",
       "      <td>교통통신비</td>\n",
       "      <td>택시</td>\n",
       "      <td>5000</td>\n",
       "    </tr>\n",
       "  </tbody>\n",
       "</table>\n",
       "</div>"
      ],
      "text/plain": [
       "          Date Asset Category Description  Amount\n",
       "17  2016-06-25  현대카드    교통통신비          택시    5000"
      ]
     },
     "execution_count": 388,
     "metadata": {},
     "output_type": "execute_result"
    }
   ],
   "source": [
    "df2 = pd.DataFrame([v], columns=['Date','Asset','Category','Description','Amount'], index=[newidx]) \n",
    "df2"
   ]
  },
  {
   "cell_type": "code",
   "execution_count": 376,
   "metadata": {
    "collapsed": false,
    "scrolled": true
   },
   "outputs": [
    {
     "data": {
      "text/html": [
       "<div>\n",
       "<table border=\"1\" class=\"dataframe\">\n",
       "  <thead>\n",
       "    <tr style=\"text-align: right;\">\n",
       "      <th></th>\n",
       "      <th>Date</th>\n",
       "      <th>Asset</th>\n",
       "      <th>Category</th>\n",
       "      <th>Description</th>\n",
       "      <th>Amount</th>\n",
       "    </tr>\n",
       "  </thead>\n",
       "  <tbody>\n",
       "    <tr>\n",
       "      <th>0</th>\n",
       "      <td>2016-04-01 00:00:00</td>\n",
       "      <td>국민카드</td>\n",
       "      <td>기타</td>\n",
       "      <td>CJMALL</td>\n",
       "      <td>82157</td>\n",
       "    </tr>\n",
       "    <tr>\n",
       "      <th>1</th>\n",
       "      <td>2016-04-04 00:00:00</td>\n",
       "      <td>국민카드</td>\n",
       "      <td>의복</td>\n",
       "      <td>11번가</td>\n",
       "      <td>19860</td>\n",
       "    </tr>\n",
       "    <tr>\n",
       "      <th>2</th>\n",
       "      <td>2016-04-05 00:00:00</td>\n",
       "      <td>국민카드</td>\n",
       "      <td>공과금</td>\n",
       "      <td>전기요금</td>\n",
       "      <td>29430</td>\n",
       "    </tr>\n",
       "    <tr>\n",
       "      <th>3</th>\n",
       "      <td>2016-04-06 00:00:00</td>\n",
       "      <td>국민카드</td>\n",
       "      <td>식대</td>\n",
       "      <td>ES푸드시스템</td>\n",
       "      <td>13500</td>\n",
       "    </tr>\n",
       "    <tr>\n",
       "      <th>4</th>\n",
       "      <td>2016-04-11 00:00:00</td>\n",
       "      <td>국민카드</td>\n",
       "      <td>공과금</td>\n",
       "      <td>가스요금</td>\n",
       "      <td>23390</td>\n",
       "    </tr>\n",
       "    <tr>\n",
       "      <th>5</th>\n",
       "      <td>2016-04-12 00:00:00</td>\n",
       "      <td>국민카드</td>\n",
       "      <td>교통통신비</td>\n",
       "      <td>OLLEH모바일</td>\n",
       "      <td>45310</td>\n",
       "    </tr>\n",
       "    <tr>\n",
       "      <th>6</th>\n",
       "      <td>2016-04-13 00:00:00</td>\n",
       "      <td>현금</td>\n",
       "      <td>생활용품</td>\n",
       "      <td>에어컨 설치</td>\n",
       "      <td>50000</td>\n",
       "    </tr>\n",
       "    <tr>\n",
       "      <th>7</th>\n",
       "      <td>2016-04-14 00:00:00</td>\n",
       "      <td>국민카드</td>\n",
       "      <td>건강</td>\n",
       "      <td>흥국화재해상보험</td>\n",
       "      <td>30717</td>\n",
       "    </tr>\n",
       "    <tr>\n",
       "      <th>8</th>\n",
       "      <td>2016-04-20 00:00:00</td>\n",
       "      <td>국민카드</td>\n",
       "      <td>건강</td>\n",
       "      <td>동부화재</td>\n",
       "      <td>47500</td>\n",
       "    </tr>\n",
       "    <tr>\n",
       "      <th>9</th>\n",
       "      <td>2016-04-20 00:00:00</td>\n",
       "      <td>국민은행</td>\n",
       "      <td>공과금</td>\n",
       "      <td>관리비</td>\n",
       "      <td>10000</td>\n",
       "    </tr>\n",
       "    <tr>\n",
       "      <th>10</th>\n",
       "      <td>2016-05-02 00:00:00</td>\n",
       "      <td>국민카드</td>\n",
       "      <td>식대</td>\n",
       "      <td>삼성웰스토리</td>\n",
       "      <td>10000</td>\n",
       "    </tr>\n",
       "    <tr>\n",
       "      <th>11</th>\n",
       "      <td>2016-05-03 00:00:00</td>\n",
       "      <td>국민카드</td>\n",
       "      <td>식대</td>\n",
       "      <td>케이티문화재단</td>\n",
       "      <td>4000</td>\n",
       "    </tr>\n",
       "    <tr>\n",
       "      <th>12</th>\n",
       "      <td>2016-05-05 00:00:00</td>\n",
       "      <td>국민카드</td>\n",
       "      <td>식대</td>\n",
       "      <td>원조연탄갈비</td>\n",
       "      <td>53000</td>\n",
       "    </tr>\n",
       "    <tr>\n",
       "      <th>13</th>\n",
       "      <td>2016-05-09 00:00:00</td>\n",
       "      <td>국민카드</td>\n",
       "      <td>공과금</td>\n",
       "      <td>전기요금</td>\n",
       "      <td>25780</td>\n",
       "    </tr>\n",
       "    <tr>\n",
       "      <th>14</th>\n",
       "      <td>2016-05-09 00:00:00</td>\n",
       "      <td>국민카드</td>\n",
       "      <td>식대</td>\n",
       "      <td>케이티문화재단</td>\n",
       "      <td>4000</td>\n",
       "    </tr>\n",
       "    <tr>\n",
       "      <th>15</th>\n",
       "      <td>2016-05-11 00:00:00</td>\n",
       "      <td>국민카드</td>\n",
       "      <td>식대</td>\n",
       "      <td>케이티문화재단</td>\n",
       "      <td>4000</td>\n",
       "    </tr>\n",
       "    <tr>\n",
       "      <th>16</th>\n",
       "      <td>2016-05-12 00:00:00</td>\n",
       "      <td>국민카드</td>\n",
       "      <td>식대</td>\n",
       "      <td>케이티문화재단</td>\n",
       "      <td>4000</td>\n",
       "    </tr>\n",
       "    <tr>\n",
       "      <th>17</th>\n",
       "      <td>2016-06-25</td>\n",
       "      <td>현대카드</td>\n",
       "      <td>교통통신비</td>\n",
       "      <td>택시</td>\n",
       "      <td>5000</td>\n",
       "    </tr>\n",
       "    <tr>\n",
       "      <th>17</th>\n",
       "      <td>2016-06-25</td>\n",
       "      <td>현대카드</td>\n",
       "      <td>교통통신비</td>\n",
       "      <td>택시</td>\n",
       "      <td>5000</td>\n",
       "    </tr>\n",
       "  </tbody>\n",
       "</table>\n",
       "</div>"
      ],
      "text/plain": [
       "                   Date Asset Category Description Amount\n",
       "0   2016-04-01 00:00:00  국민카드       기타      CJMALL  82157\n",
       "1   2016-04-04 00:00:00  국민카드       의복        11번가  19860\n",
       "2   2016-04-05 00:00:00  국민카드      공과금        전기요금  29430\n",
       "3   2016-04-06 00:00:00  국민카드       식대     ES푸드시스템  13500\n",
       "4   2016-04-11 00:00:00  국민카드      공과금        가스요금  23390\n",
       "5   2016-04-12 00:00:00  국민카드    교통통신비    OLLEH모바일  45310\n",
       "6   2016-04-13 00:00:00    현금     생활용품      에어컨 설치  50000\n",
       "7   2016-04-14 00:00:00  국민카드       건강    흥국화재해상보험  30717\n",
       "8   2016-04-20 00:00:00  국민카드       건강        동부화재  47500\n",
       "9   2016-04-20 00:00:00  국민은행      공과금         관리비  10000\n",
       "10  2016-05-02 00:00:00  국민카드       식대      삼성웰스토리  10000\n",
       "11  2016-05-03 00:00:00  국민카드       식대     케이티문화재단   4000\n",
       "12  2016-05-05 00:00:00  국민카드       식대      원조연탄갈비  53000\n",
       "13  2016-05-09 00:00:00  국민카드      공과금        전기요금  25780\n",
       "14  2016-05-09 00:00:00  국민카드       식대     케이티문화재단   4000\n",
       "15  2016-05-11 00:00:00  국민카드       식대     케이티문화재단   4000\n",
       "16  2016-05-12 00:00:00  국민카드       식대     케이티문화재단   4000\n",
       "17           2016-06-25  현대카드    교통통신비          택시   5000\n",
       "17           2016-06-25  현대카드    교통통신비          택시   5000"
      ]
     },
     "execution_count": 376,
     "metadata": {},
     "output_type": "execute_result"
    }
   ],
   "source": [
    "df = df.append(df2)\n",
    "df"
   ]
  },
  {
   "cell_type": "markdown",
   "metadata": {},
   "source": [
    "### 날짜타입을 문자타입으로 변경"
   ]
  },
  {
   "cell_type": "code",
   "execution_count": 389,
   "metadata": {
    "collapsed": true
   },
   "outputs": [
    {
     "ename": "AttributeError",
     "evalue": "Can only use .dt accessor with datetimelike values",
     "output_type": "error",
     "traceback": [
      "\u001b[1;31m---------------------------------------------------------------------------\u001b[0m",
      "\u001b[1;31mTypeError\u001b[0m                                 Traceback (most recent call last)",
      "\u001b[1;32mC:\\Anaconda3\\lib\\site-packages\\pandas\\core\\series.py\u001b[0m in \u001b[0;36m_make_dt_accessor\u001b[1;34m(self)\u001b[0m\n\u001b[0;32m   2761\u001b[0m         \u001b[1;32mtry\u001b[0m\u001b[1;33m:\u001b[0m\u001b[1;33m\u001b[0m\u001b[0m\n\u001b[1;32m-> 2762\u001b[1;33m             \u001b[1;32mreturn\u001b[0m \u001b[0mmaybe_to_datetimelike\u001b[0m\u001b[1;33m(\u001b[0m\u001b[0mself\u001b[0m\u001b[1;33m)\u001b[0m\u001b[1;33m\u001b[0m\u001b[0m\n\u001b[0m\u001b[0;32m   2763\u001b[0m         \u001b[1;32mexcept\u001b[0m \u001b[0mException\u001b[0m\u001b[1;33m:\u001b[0m\u001b[1;33m\u001b[0m\u001b[0m\n",
      "\u001b[1;32mC:\\Anaconda3\\lib\\site-packages\\pandas\\tseries\\common.py\u001b[0m in \u001b[0;36mmaybe_to_datetimelike\u001b[1;34m(data, copy)\u001b[0m\n\u001b[0;32m     81\u001b[0m     raise TypeError(\"cannot convert an object of type {0} to a \"\n\u001b[1;32m---> 82\u001b[1;33m                     \"datetimelike index\".format(type(data)))\n\u001b[0m\u001b[0;32m     83\u001b[0m \u001b[1;33m\u001b[0m\u001b[0m\n",
      "\u001b[1;31mTypeError\u001b[0m: cannot convert an object of type <class 'pandas.core.series.Series'> to a datetimelike index",
      "\nDuring handling of the above exception, another exception occurred:\n",
      "\u001b[1;31mAttributeError\u001b[0m                            Traceback (most recent call last)",
      "\u001b[1;32m<ipython-input-389-502327ee9830>\u001b[0m in \u001b[0;36m<module>\u001b[1;34m()\u001b[0m\n\u001b[0;32m      1\u001b[0m \u001b[1;33m\u001b[0m\u001b[0m\n\u001b[0;32m      2\u001b[0m \u001b[1;31m#df['Date'] =\u001b[0m\u001b[1;33m\u001b[0m\u001b[1;33m\u001b[0m\u001b[0m\n\u001b[1;32m----> 3\u001b[1;33m \u001b[0mdf\u001b[0m\u001b[1;33m[\u001b[0m\u001b[1;34m'Date'\u001b[0m\u001b[1;33m]\u001b[0m\u001b[1;33m.\u001b[0m\u001b[0mdt\u001b[0m\u001b[1;33m.\u001b[0m\u001b[0mstrftime\u001b[0m\u001b[1;33m(\u001b[0m\u001b[1;34m'%Y-%m-%d'\u001b[0m\u001b[1;33m)\u001b[0m\u001b[1;33m\u001b[0m\u001b[0m\n\u001b[0m",
      "\u001b[1;32mC:\\Anaconda3\\lib\\site-packages\\pandas\\core\\generic.py\u001b[0m in \u001b[0;36m__getattr__\u001b[1;34m(self, name)\u001b[0m\n\u001b[0;32m   2663\u001b[0m         if (name in self._internal_names_set or name in self._metadata or\n\u001b[0;32m   2664\u001b[0m                 name in self._accessors):\n\u001b[1;32m-> 2665\u001b[1;33m             \u001b[1;32mreturn\u001b[0m \u001b[0mobject\u001b[0m\u001b[1;33m.\u001b[0m\u001b[0m__getattribute__\u001b[0m\u001b[1;33m(\u001b[0m\u001b[0mself\u001b[0m\u001b[1;33m,\u001b[0m \u001b[0mname\u001b[0m\u001b[1;33m)\u001b[0m\u001b[1;33m\u001b[0m\u001b[0m\n\u001b[0m\u001b[0;32m   2666\u001b[0m         \u001b[1;32melse\u001b[0m\u001b[1;33m:\u001b[0m\u001b[1;33m\u001b[0m\u001b[0m\n\u001b[0;32m   2667\u001b[0m             \u001b[1;32mif\u001b[0m \u001b[0mname\u001b[0m \u001b[1;32min\u001b[0m \u001b[0mself\u001b[0m\u001b[1;33m.\u001b[0m\u001b[0m_info_axis\u001b[0m\u001b[1;33m:\u001b[0m\u001b[1;33m\u001b[0m\u001b[0m\n",
      "\u001b[1;32mC:\\Anaconda3\\lib\\site-packages\\pandas\\core\\base.py\u001b[0m in \u001b[0;36m__get__\u001b[1;34m(self, instance, owner)\u001b[0m\n\u001b[0;32m    231\u001b[0m             \u001b[1;31m# this ensures that Series.str.<method> is well defined\u001b[0m\u001b[1;33m\u001b[0m\u001b[1;33m\u001b[0m\u001b[0m\n\u001b[0;32m    232\u001b[0m             \u001b[1;32mreturn\u001b[0m \u001b[0mself\u001b[0m\u001b[1;33m.\u001b[0m\u001b[0maccessor_cls\u001b[0m\u001b[1;33m\u001b[0m\u001b[0m\n\u001b[1;32m--> 233\u001b[1;33m         \u001b[1;32mreturn\u001b[0m \u001b[0mself\u001b[0m\u001b[1;33m.\u001b[0m\u001b[0mconstruct_accessor\u001b[0m\u001b[1;33m(\u001b[0m\u001b[0minstance\u001b[0m\u001b[1;33m)\u001b[0m\u001b[1;33m\u001b[0m\u001b[0m\n\u001b[0m\u001b[0;32m    234\u001b[0m \u001b[1;33m\u001b[0m\u001b[0m\n\u001b[0;32m    235\u001b[0m     \u001b[1;32mdef\u001b[0m \u001b[0m__set__\u001b[0m\u001b[1;33m(\u001b[0m\u001b[0mself\u001b[0m\u001b[1;33m,\u001b[0m \u001b[0minstance\u001b[0m\u001b[1;33m,\u001b[0m \u001b[0mvalue\u001b[0m\u001b[1;33m)\u001b[0m\u001b[1;33m:\u001b[0m\u001b[1;33m\u001b[0m\u001b[0m\n",
      "\u001b[1;32mC:\\Anaconda3\\lib\\site-packages\\pandas\\core\\series.py\u001b[0m in \u001b[0;36m_make_dt_accessor\u001b[1;34m(self)\u001b[0m\n\u001b[0;32m   2762\u001b[0m             \u001b[1;32mreturn\u001b[0m \u001b[0mmaybe_to_datetimelike\u001b[0m\u001b[1;33m(\u001b[0m\u001b[0mself\u001b[0m\u001b[1;33m)\u001b[0m\u001b[1;33m\u001b[0m\u001b[0m\n\u001b[0;32m   2763\u001b[0m         \u001b[1;32mexcept\u001b[0m \u001b[0mException\u001b[0m\u001b[1;33m:\u001b[0m\u001b[1;33m\u001b[0m\u001b[0m\n\u001b[1;32m-> 2764\u001b[1;33m             raise AttributeError(\"Can only use .dt accessor with datetimelike \"\n\u001b[0m\u001b[0;32m   2765\u001b[0m                                  \"values\")\n\u001b[0;32m   2766\u001b[0m \u001b[1;33m\u001b[0m\u001b[0m\n",
      "\u001b[1;31mAttributeError\u001b[0m: Can only use .dt accessor with datetimelike values"
     ]
    }
   ],
   "source": [
    "\n",
    "#df['Date'] = \n",
    "df['Date'].dt.strftime('%Y-%m-%d')\n"
   ]
  },
  {
   "cell_type": "markdown",
   "metadata": {},
   "source": [
    "### 인덱스 재지정"
   ]
  },
  {
   "cell_type": "code",
   "execution_count": 336,
   "metadata": {
    "collapsed": false
   },
   "outputs": [],
   "source": [
    "df.index = df['Date']"
   ]
  },
  {
   "cell_type": "markdown",
   "metadata": {},
   "source": [
    "### 차트 그리기 - 일자별 구매금액"
   ]
  },
  {
   "cell_type": "code",
   "execution_count": 402,
   "metadata": {
    "collapsed": false
   },
   "outputs": [
    {
     "data": {
      "text/plain": [
       "<matplotlib.axes._subplots.AxesSubplot at 0x261fc67cf28>"
      ]
     },
     "execution_count": 402,
     "metadata": {},
     "output_type": "execute_result"
    },
    {
     "data": {
      "image/png": "[encoded data removed]",
      "text/plain": [
       "<matplotlib.figure.Figure at 0x261fc71f748>"
      ]
     },
     "metadata": {},
     "output_type": "display_data"
    }
   ],
   "source": [
    "df.plot(kind='line', figsize=(15, 4), x=df['Date'].dt.strftime('%m-%d'))"
   ]
  },
  {
   "cell_type": "code",
   "execution_count": 437,
   "metadata": {
    "collapsed": false,
    "scrolled": false
   },
   "outputs": [
    {
     "data": {
      "text/plain": [
       "<matplotlib.axes._subplots.AxesSubplot at 0x261ffa01e10>"
      ]
     },
     "execution_count": 437,
     "metadata": {},
     "output_type": "execute_result"
    },
    {
     "data": {
      "image/png": "[encoded data removed]",
      "text/plain": [
       "<matplotlib.figure.Figure at 0x261ff9c96d8>"
      ]
     },
     "metadata": {},
     "output_type": "display_data"
    }
   ],
   "source": [
    "df.plot(kind='bar', figsize=(15, 4), x=df['Date'].dt.strftime('%m-%d'), colormap='Reds')\n"
   ]
  },
  {
   "cell_type": "code",
   "execution_count": 410,
   "metadata": {
    "collapsed": false
   },
   "outputs": [
    {
     "data": {
      "text/plain": [
       "<matplotlib.axes._subplots.AxesSubplot at 0x261fd8e6400>"
      ]
     },
     "execution_count": 410,
     "metadata": {},
     "output_type": "execute_result"
    },
    {
     "data": {
      "image/png": "[encoded data removed]",
      "text/plain": [
       "<matplotlib.figure.Figure at 0x261fda47e10>"
      ]
     },
     "metadata": {},
     "output_type": "display_data"
    }
   ],
   "source": [
    "df.plot(kind='area', figsize=(15, 4), x=df['Date'].dt.strftime('%m-%d'), colormap='Blues')"
   ]
  },
  {
   "cell_type": "markdown",
   "metadata": {},
   "source": [
    "### 자산별 지출 집계 - 금액\n",
    "- 한글이 깨지나, 해결방법을 찾지 못함."
   ]
  },
  {
   "cell_type": "code",
   "execution_count": 382,
   "metadata": {
    "collapsed": false,
    "scrolled": true
   },
   "outputs": [
    {
     "data": {
      "text/plain": [
       "Asset\n",
       "국민은행       10000\n",
       "국민카드      396644\n",
       "현금         50000\n",
       "현대카드    50005000\n",
       "Name: Amount, dtype: object"
      ]
     },
     "execution_count": 382,
     "metadata": {},
     "output_type": "execute_result"
    }
   ],
   "source": [
    "df.groupby(\"Asset\")['Amount'].sum()"
   ]
  },
  {
   "cell_type": "code",
   "execution_count": 429,
   "metadata": {
    "collapsed": false
   },
   "outputs": [
    {
     "data": {
      "text/plain": [
       "<matplotlib.axes._subplots.AxesSubplot at 0x261ff1d4a90>"
      ]
     },
     "execution_count": 429,
     "metadata": {},
     "output_type": "execute_result"
    },
    {
     "data": {
      "image/png": "[encoded data removed]",
      "text/plain": [
       "<matplotlib.figure.Figure at 0x261fc4c8470>"
      ]
     },
     "metadata": {},
     "output_type": "display_data"
    }
   ],
   "source": [
    "df.groupby(\"Asset\").sum().plot(kind='bar', figsize=(10, 4), color='blue')"
   ]
  },
  {
   "cell_type": "code",
   "execution_count": 415,
   "metadata": {
    "collapsed": false
   },
   "outputs": [
    {
     "data": {
      "text/plain": [
       "Asset\n",
       "국민은행     1\n",
       "국민카드    15\n",
       "현금       1\n",
       "Name: Amount, dtype: int64"
      ]
     },
     "execution_count": 415,
     "metadata": {},
     "output_type": "execute_result"
    }
   ],
   "source": [
    "df.groupby(\"Asset\")['Amount'].count()"
   ]
  },
  {
   "cell_type": "markdown",
   "metadata": {},
   "source": [
    "### 자산별 지출 집계 - 횟수\n",
    "- 한글이 깨지나, 해결방법을 찾지 못함."
   ]
  },
  {
   "cell_type": "code",
   "execution_count": 428,
   "metadata": {
    "collapsed": false
   },
   "outputs": [
    {
     "data": {
      "text/plain": [
       "<matplotlib.axes._subplots.AxesSubplot at 0x261ff29f6a0>"
      ]
     },
     "execution_count": 428,
     "metadata": {},
     "output_type": "execute_result"
    },
    {
     "data": {
      "image/png": "[encoded data removed]",
      "text/plain": [
       "<matplotlib.figure.Figure at 0x261ff2afb70>"
      ]
     },
     "metadata": {},
     "output_type": "display_data"
    }
   ],
   "source": [
    "df.groupby(\"Asset\")['Amount'].count().plot()"
   ]
  },
  {
   "cell_type": "markdown",
   "metadata": {},
   "source": [
    "> 한 학기 동안 좋은 강의 감사합니다.\n",
    "> - 빅데이터경영MBA 3기 김정미"
   ]
  }
 ],
 "metadata": {
  "kernelspec": {
   "display_name": "Python 3",
   "language": "python",
   "name": "python3"
  },
  "language_info": {
   "codemirror_mode": {
    "name": "ipython",
    "version": 3
   },
   "file_extension": ".py",
   "mimetype": "text/x-python",
   "name": "python",
   "nbconvert_exporter": "python",
   "pygments_lexer": "ipython3",
   "version": "3.5.1"
  }
 },
 "nbformat": 4,
 "nbformat_minor": 0
}

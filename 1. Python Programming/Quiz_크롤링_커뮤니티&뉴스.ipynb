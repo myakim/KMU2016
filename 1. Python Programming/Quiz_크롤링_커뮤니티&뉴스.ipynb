{
 "cells": [
  {
   "cell_type": "code",
   "execution_count": 7,
   "metadata": {
    "collapsed": false
   },
   "outputs": [],
   "source": [
    "import requests\n",
    "import lxml.html\n",
    "from urllib.parse import urljoin\n",
    "\n",
    "# 보배드림\n",
    "board_url = 'http://www.bobaedream.co.kr/list?code=nnews'\n",
    "response = requests.get(board_url)\n",
    "#response.content.decode('utf8')\n",
    "\n",
    "root = lxml.html.fromstring(response.content)"
   ]
  },
  {
   "cell_type": "code",
   "execution_count": 9,
   "metadata": {
    "collapsed": false
   },
   "outputs": [
    {
     "name": "stdout",
     "output_type": "stream",
     "text": [
      "현대차, 승용 점유율 30%선 무너지나\n",
      "http://www.bobaedream.co.kr/view?code=nnews&No=163457\n",
      "[칼럼] 예견된 SM6의 쏘나타 뛰어넘기\n",
      "http://www.bobaedream.co.kr/view?code=nnews&No=163340\n",
      "제네시스, 미국서 BMW 5시리즈 제쳤다\n",
      "http://www.bobaedream.co.kr/view?code=nnews&No=163377\n",
      "인피니티코리아, Q30 6월 출격···프리미엄 '톱4' 노린다\n",
      "http://www.bobaedream.co.kr/view?code=nnews&No=163456\n",
      "한국지엠, 쉐보레 임팔라 국내 생산 안한다\n",
      "http://www.bobaedream.co.kr/view?code=nnews&No=163415\n",
      "현대차, 승용 점유율 30%선 무너지나\n",
      "http://www.bobaedream.co.kr/view?code=nnews&No=163457&bm=1\n",
      "인피니티코리아, Q30 6월 출격···프리미엄 '톱4' 노린다\n",
      "http://www.bobaedream.co.kr/view?code=nnews&No=163456&bm=1\n",
      "스마트코리아, 4인승 포포 출시\n",
      "http://www.bobaedream.co.kr/view?code=nnews&No=163455&bm=1\n",
      "1분기, 국산차는 '활짝' 수입차는 '울적'\n",
      "http://www.bobaedream.co.kr/view?code=nnews&No=163454&bm=1\n",
      "마쓰다, 2016년형 CX-4 도로주행 모습..4월말 공개\n",
      "http://www.bobaedream.co.kr/view?code=nnews&No=163453&bm=1\n",
      "마힌드라, 롱비치 챔피언십 대회서 팀 역대 최고 점수 기록\n",
      "http://www.bobaedream.co.kr/view?code=nnews&No=163452&bm=1\n",
      "서울, 전기차 33대에 충전기 1개…미국은 2대당 1개꼴\n",
      "http://www.bobaedream.co.kr/view?code=nnews&No=163451&bm=1\n",
      "'강남 싼타페' 카이엔, 브레이크 결함에 6000여대 리콜\n",
      "http://www.bobaedream.co.kr/view?code=nnews&No=163450&bm=1\n",
      "르노, 디젤차 배출저감으로 시장 대응 나서\n",
      "http://www.bobaedream.co.kr/view?code=nnews&No=163446&bm=1\n",
      "기아차, 모닝 구입시 ‘무풍 에어컨’ 증정..프로모션 강화\n",
      "http://www.bobaedream.co.kr/view?code=nnews&No=163444&bm=1\n",
      "그린카, ‘아이오닉’ 무료 시승 이벤트 진행..5시간 무료\n",
      "http://www.bobaedream.co.kr/view?code=nnews&No=163442&bm=1\n",
      "한국토요타, 하이브리드 대표 3종 '혜택이 빵빵'\n",
      "http://www.bobaedream.co.kr/view?code=nnews&No=163438&bm=1\n",
      "BMW·벤츠, 의정부에서 맞붙는다\n",
      "http://www.bobaedream.co.kr/view?code=nnews&No=163433&bm=1\n",
      "자율주행차 윤리적 이슈 부상…“사회적 합의 필요”\n",
      "http://www.bobaedream.co.kr/view?code=nnews&No=163427&bm=1\n",
      "벤츠, BMW 제치고 1분기 수입차 판매 1위\n",
      "http://www.bobaedream.co.kr/view?code=nnews&No=163425&bm=1\n",
      "'괴짜 아이언맨' 머스크, 자동차시장 판도 바꾸나\n",
      "http://www.bobaedream.co.kr/view?code=nnews&No=163422&bm=1\n",
      "한국지엠, 쉐보레 임팔라 국내 생산 안한다\n",
      "http://www.bobaedream.co.kr/view?code=nnews&No=163415&bm=1\n",
      "벤츠코리아, C200 쿠페 출시\n",
      "http://www.bobaedream.co.kr/view?code=nnews&No=163414&bm=1\n",
      "국토부, 내년부터 대형화물차에 ‘비상자동제동장치’ 의무화\n",
      "http://www.bobaedream.co.kr/view?code=nnews&No=163413&bm=1\n",
      "현대·기아차, 지능형 자동차 만든다\n",
      "http://www.bobaedream.co.kr/view?code=nnews&No=163412&bm=1\n",
      "혼다코리아, 스마트키 더한 스쿠터 'PCX' 출시\n",
      "http://www.bobaedream.co.kr/view?code=nnews&No=163411&bm=1\n",
      "국토부, 교통사고 사상자 감소 종합대책 시행계획 추진\n",
      "http://www.bobaedream.co.kr/view?code=nnews&No=163410&bm=1\n",
      "FCA코리아, “크라이슬러 200 단종 확실치 않다”\n",
      "http://www.bobaedream.co.kr/view?code=nnews&No=163409&bm=1\n",
      "[기자파일] 올드카, 보존과 재해석의 차이\n",
      "http://www.bobaedream.co.kr/view?code=nnews&No=163408&bm=1\n",
      "포드코리아, 디젤 제품에 무이자 할부 제공\n",
      "http://www.bobaedream.co.kr/view?code=nnews&No=163403&bm=1\n",
      "시트로엥, 2016 WTCC 개막전 우승\n",
      "http://www.bobaedream.co.kr/view?code=nnews&No=163402&bm=1\n",
      "FCA코리아, 주요 제품 할인에 나서\n",
      "http://www.bobaedream.co.kr/view?code=nnews&No=163401&bm=1\n",
      "기아차 모닝, 할인 통해 쉐보레 스파크 견제 나섰다\n",
      "http://www.bobaedream.co.kr/view?code=nnews&No=163397&bm=1\n",
      "테슬라 1분기 판매량 목표치 미달…“모델3 제작 차질 우려”\n",
      "http://www.bobaedream.co.kr/view?code=nnews&No=163390&bm=1\n",
      "슈퍼카 '으르렁'소리 버리나…포르쉐·맥라렌도 전기차 도입\n",
      "http://www.bobaedream.co.kr/view?code=nnews&No=163383&bm=1\n"
     ]
    }
   ],
   "source": [
    "# print(root.xpath('.//a[@class=\"bsubject\"]')[0].text_content())\n",
    "\n",
    "for node in root.xpath('.//a[@class=\"bsubject\"]'):\n",
    "    print(node.text_content())\n",
    "    print(urljoin(board_url, node.attrib['href']))\n"
   ]
  },
  {
   "cell_type": "code",
   "execution_count": 79,
   "metadata": {
    "collapsed": false
   },
   "outputs": [
    {
     "data": {
      "text/plain": [
       "'/view?code=nnews&No=163383&bm=1'"
      ]
     },
     "execution_count": 79,
     "metadata": {},
     "output_type": "execute_result"
    }
   ],
   "source": [
    "node.attrib['href']"
   ]
  },
  {
   "cell_type": "code",
   "execution_count": null,
   "metadata": {
    "collapsed": false
   },
   "outputs": [],
   "source": []
  }
 ],
 "metadata": {
  "kernelspec": {
   "display_name": "Python 3",
   "language": "python",
   "name": "python3"
  },
  "language_info": {
   "codemirror_mode": {
    "name": "ipython",
    "version": 3
   },
   "file_extension": ".py",
   "mimetype": "text/x-python",
   "name": "python",
   "nbconvert_exporter": "python",
   "pygments_lexer": "ipython3",
   "version": "3.5.1"
  }
 },
 "nbformat": 4,
 "nbformat_minor": 0
}

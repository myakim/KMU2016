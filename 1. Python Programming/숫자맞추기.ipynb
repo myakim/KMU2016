{
 "cells": [
  {
   "cell_type": "markdown",
   "metadata": {},
   "source": [
    "# < Random number 맞추기 - Up&Down >\n",
    "# package 활용, 변수, print, 조건문, 반복문"
   ]
  },
  {
   "cell_type": "markdown",
   "metadata": {},
   "source": [
    "### * Random number 생성을 위한 패키지 import"
   ]
  },
  {
   "cell_type": "code",
   "execution_count": 2,
   "metadata": {
    "collapsed": true
   },
   "outputs": [],
   "source": [
    "import random"
   ]
  },
  {
   "cell_type": "markdown",
   "metadata": {},
   "source": [
    "#### - '정수'인 Random number 생성  - 1 이상, 100 이하\n",
    "\n",
    "\n",
    "\n",
    "##### random.randint(a, b) :\n",
    "Return a random integer N such that a <= N <= b.\n",
    "\n",
    "##### random.randrange(start, stop[, step]) :\n",
    "Return a randomly selected element from range(start, stop, step). This is equivalent to choice(range(start, stop, step)), but doesn’t actually build a range object.\n",
    "\n",
    "https://docs.python.org/2/library/random.html"
   ]
  },
  {
   "cell_type": "code",
   "execution_count": 13,
   "metadata": {
    "collapsed": false
   },
   "outputs": [
    {
     "data": {
      "text/plain": [
       "70"
      ]
     },
     "execution_count": 13,
     "metadata": {},
     "output_type": "execute_result"
    }
   ],
   "source": [
    "rn = random.randint(1, 100)\n",
    "rn"
   ]
  },
  {
   "cell_type": "markdown",
   "metadata": {},
   "source": [
    "####   - input number, input count의 초기화"
   ]
  },
  {
   "cell_type": "code",
   "execution_count": null,
   "metadata": {
    "collapsed": true
   },
   "outputs": [],
   "source": [
    "input_num = 0  # 입력한 숫자\n",
    "input_cnt = 0  # 입력한 횟수"
   ]
  },
  {
   "cell_type": "markdown",
   "metadata": {},
   "source": [
    "####   - 반복적으로 숫자를 입력 받고, 숫자를 맞췄는지 확인"
   ]
  },
  {
   "cell_type": "code",
   "execution_count": null,
   "metadata": {
    "collapsed": false
   },
   "outputs": [],
   "source": [
    "print(\"숫자 맞추기 (1~100)\")\n",
    "print(\"-\" * 50)\n",
    "\n",
    "while ( rn != input_num ):\n",
    "\n",
    "    input_num = int(input(\"1 ~ 100 사이의 숫자를 입력하세요 : \"))\n",
    "\n",
    "    if (input_num > rn):\n",
    "        print(\" ~~ Down ~~ \")\n",
    "    elif (input_num < rn):\n",
    "        print(\" ~~ Up ~~ \")\n",
    "\n",
    "    input_cnt += 1\n",
    "    \n",
    "print(\"-\" * 50)\n",
    "print(input_cnt, \"번 만에 정답을 맞추셨습니다.\")"
   ]
  },
  {
   "cell_type": "markdown",
   "metadata": {},
   "source": [
    "# Print 여러 번 하기"
   ]
  },
  {
   "cell_type": "code",
   "execution_count": null,
   "metadata": {
    "collapsed": false
   },
   "outputs": [],
   "source": [
    "print(\"-\" * 50)"
   ]
  },
  {
   "cell_type": "code",
   "execution_count": null,
   "metadata": {
    "collapsed": false
   },
   "outputs": [],
   "source": [
    "for i in range(10):\n",
    "    print(\"*\" * i)"
   ]
  },
  {
   "cell_type": "code",
   "execution_count": null,
   "metadata": {
    "collapsed": false
   },
   "outputs": [],
   "source": [
    "for i in range(10):\n",
    "    print(\" \" * (10-i), \"*\" * i)"
   ]
  },
  {
   "cell_type": "markdown",
   "metadata": {},
   "source": [
    "# 숫자를 입력 받고, 형변환 하기"
   ]
  },
  {
   "cell_type": "code",
   "execution_count": null,
   "metadata": {
    "collapsed": false
   },
   "outputs": [],
   "source": [
    "input(\"1 ~ 100 사이의 숫자를 입력하세요 : \")"
   ]
  },
  {
   "cell_type": "code",
   "execution_count": null,
   "metadata": {
    "collapsed": false
   },
   "outputs": [],
   "source": [
    "int(input(\"1 ~ 100 사이의 숫자를 입력하세요 : \"))"
   ]
  }
 ],
 "metadata": {
  "kernelspec": {
   "display_name": "Python 3",
   "language": "python",
   "name": "python3"
  },
  "language_info": {
   "codemirror_mode": {
    "name": "ipython",
    "version": 3
   },
   "file_extension": ".py",
   "mimetype": "text/x-python",
   "name": "python",
   "nbconvert_exporter": "python",
   "pygments_lexer": "ipython3",
   "version": "3.5.1"
  }
 },
 "nbformat": 4,
 "nbformat_minor": 0
}

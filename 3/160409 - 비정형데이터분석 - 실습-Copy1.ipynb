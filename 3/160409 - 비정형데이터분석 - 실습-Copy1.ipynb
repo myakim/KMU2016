{
 "cells": [
  {
   "cell_type": "code",
   "execution_count": 47,
   "metadata": {
    "collapsed": false
   },
   "outputs": [],
   "source": [
    "import requests\n",
    "response = requests.get('http://clien.net/cs2/bbs/board.php?bo_table=news')\n"
   ]
  },
  {
   "cell_type": "code",
   "execution_count": 48,
   "metadata": {
    "collapsed": false,
    "scrolled": false
   },
   "outputs": [
    {
     "name": "stdout",
     "output_type": "stream",
     "text": [
      "ISO-8859-1\n",
      "cp949\n"
     ]
    }
   ],
   "source": [
    "print(response.encoding)\n",
    "if response.encoding == 'ISO-8859-1':\n",
    "    response.encoding = 'cp949'\n",
    "print(response.encoding)"
   ]
  },
  {
   "cell_type": "code",
   "execution_count": 50,
   "metadata": {
    "collapsed": true
   },
   "outputs": [],
   "source": [
    "response.encoding = 'utf8'"
   ]
  },
  {
   "cell_type": "code",
   "execution_count": 51,
   "metadata": {
    "collapsed": false
   },
   "outputs": [
    {
     "data": {
      "text/plain": [
       "'\\n<!DOCTYPE html PUBLIC \"-//W3C//DTD XHTML 1.0 Transitional//EN\" \"http://www.w3.org/TR/xhtml1/DTD/xhtml1-transitional.dtd\">\\n<html xmlns=\"http://www.w3.org/1999/xhtml\" xmlns:fb=\"http://www.facebook.com/2008/fbml\">\\n<head>\\n<link rel=\"shortcut icon\" href=\"/favicon.ico\">\\n<link href=\"../css/style.css?date=20140929\" rel=\"stylesheet\" type=\"text/css\" />\\n\\n<meta name=\"Author\" content=\"cipher\"><meta name=\"Keywords\" content=\"clien,PDA,gadget,apple,smartphone,mac,iphone,notebook,휴대폰,노트북,아이폰,애플,클리에,클리앙,커뮤니티,전자기기,취미,hobby,지름,구매\"><meta http-equiv=\"content-type\" content=\"text/html; charset=utf-8\" />\\n<meta http-equiv=\"Imagetoolbar\" content=\"no\" />\\n\\n<title>클리앙 > 새로운소식 1 페이지</title>\\n\\n\\n<link rel=\"stylesheet\" href=\"../style.css?date=20120827\" type=\"text/css\" />\\n\\n\\t\\n<script type=\\'text/javascript\\' src=\\'http://pub1504.clien.net/delivery/spcjs.php?id=1&o=modern\\'></script>\\n<!--script type=\\'text/javascript\\' src=\\'http://pub1504.clien.net/delivery/spcjs.php?id=1\\'></script-->\\n<!--script async src=\"//pagead2.googlesyndication.com/pagead/js/adsbygoogle.js\"></script-->\\n\\n<!--google universal analytics code -->\\n<script>\\n  (function(i,s,o,g,r,a,m){i[\\'GoogleAnalyticsObject\\']=r;i[r]=i[r]||function(){\\n  (i[r].q=i[r].q||[]).push(arguments)},i[r].l=1*new Date();a=s.createElement(o),\\n  m=s.getElementsByTagName(o)[0];a.async=1;a.src=g;m.parentNode.insertBefore(a,m)\\n  })(window,document,\\'script\\',\\'//www.google-analytics.com/analytics.js\\',\\'ga\\');\\n  ga(\\'create\\', \\'UA-682411-1\\', \\'auto\\');\\n  ga(\\'require\\', \\'displayfeatures\\');\\n  ga(\\'send\\', \\'pageview\\');\\n</script>\\n\\n\\n\\n<script type=\"text/javascript\">\\n// 자바스크립트에서 사용하는 전역변수 선언\\nvar g4_path      = \"..\";\\nvar g4_bbs       = \"bbs\";\\nvar g4_bbs_img   = \"img\";\\nvar g4_url       = \"http://clien.net/cs2\";\\nvar g4_is_member = \"\";\\nvar g4_is_admin  = \"\";\\nvar g4_bo_table  = \"news\";\\nvar g4_sca       = \"\";\\nvar g4_charset   = \"utf-8\";\\nvar g4_cookie_domain = \"\";\\nvar g4_is_gecko  = navigator.userAgent.toLowerCase().indexOf(\"gecko\") != -1;\\nvar g4_is_ie     = navigator.userAgent.toLowerCase().indexOf(\"msie\") != -1;\\nvar g4_sms4      = \"\";\\nvar g4_is_mobile = \"\";\\n\\ndocument.domain = \"clien.net\";\\nvar c_admin = false;var is_block_use = false;</script>\\n<script type=\"text/javascript\" src=\"../js/common.js\"></script>\\n<script type=\"text/javascript\" src=\"../js/b4.common.js?v=1\"></script>\\n<script type=\"text/javascript\" src=\"../js/jquery.js\"></script>\\n<script type=\"text/javascript\" src=\"../js/clien.js?dt=20140929\"></script>\\n\\n<script language=\"javascript\" src=\"../js/jquery.selectboxes.js\"></script>\\n<script type=\"text/javascript\" src=\"../js/jquery.tooltip.js\"></script>\\n<!-- 플레쉬 주변에 점선 생기는 것 방지 http://www.sir.co.kr/bbs/board.php?bo_table=pl_flash&wr_id=1827 -->\\n\\n\\n<!-- 마우스를 더블클릭시 맨위/맨아래로 이동하기 http://www.sir.co.kr/bbs/board.php?bo_table=g4_tiptech&wr_id=12611 -->\\n<script type=\"text/javascript\">\\nfunction totopbottom() { }\\nfunction topbottom() {}\\n</script>\\n\\n<script type=\"text/javascript\">\\n/*\\nvar clickmessage=\"그림에는 오른쪽마우스버튼을 사용할 수 없습니다.\"\\n*/\\n\\nfunction disableclick(e) {\\n/*\\n\\tif (document.all) {\\n    if (event.button==2||event.button==3) {\\n    if (event.srcElement.tagName==\"IMG\"){\\n        alert(clickmessage);\\n        return false;\\n        }\\n    }\\n}\\n    else if (document.layers) {\\n    if (e.which == 3) {\\n        alert(clickmessage);\\n        return false;\\n    }\\n}\\n    else if (document.getElementById){\\n    if (e.which==3&&e.target.tagName==\"IMG\"){\\n        alert(clickmessage)\\n        return false\\n        }\\n    }\\n\\t*/\\n}\\nfunction associateimages(){\\n    for(i=0;i<document.images.length;i++)\\n        document.images[i].onmousedown=disableclick;\\n}\\n    if (document.all)\\n        document.onmousedown=disableclick\\n    else if (document.getElementById)\\n        document.onmouseup=disableclick\\n    else if (document.layers)\\n        associateimages();\\n// -->\\n\\n\\n\\t</script>\\n\\n\\n</head>\\n\\n\\n<body topmargin=\"0\" leftmargin=\"0\" >\\n\\n<a name=\"g4_head\"></a>\\n<div id=\"clienbox\" class=\"menuRay\" style=\"display:none\"></div>\\n<script type=\"text/javascript\">\\n/*\\ndocument.onkeydown = function(e) {\\n  var evtK = (e) ? e.which : window.event.keyCode;\\n  var isCtrl = ((typeof isCtrl != \\'undefined\\' && isCtrl) || ((e && evtK == 17) || (!e && event.ctrlKey))) ? true : false;\\n\\n  if ((isCtrl && evtK == 82) || evtK == 116) {\\n    if (e) { evtK = 505; } else { event.keyCode = evtK = 505; }\\n  }\\n  if (evtK == 505) {\\n    return false;\\n  }\\n}\\n*/\\nvar bo_table = \"news\";\\n</script>\\n\\n\\n\\n\\n\\n<script language=\"javascript\" src=\"../js/sideview.js\"></script>\\n\\n<div id=\"wrapper\">\\n  <!-- 레이아웃 구조 때문에 감싸는 영역을 2개 생성 했습니다 -->\\n  <div id=\"wrap\">\\n    <div id=\"container\">\\n      <!-- 오른쪽 aside부분을 제외한 영역 -->\\n      <div id=\"header\">\\n        <div id=\"gnb\">\\n          <h1><a href=\"/\"><img src=\"../img/h1_logo.gif\" alt=\"clien\" /></a></h1>\\n          <ul>\\n<!--        <li>클리앙#151</li>-->\\n                      </ul>\\n          <!-- 구글 검색\\n\\t\\t  <form action=\"http://www.clien.net/cs2/g_search.php\" id=\"cse-search-box\">\\n\\t\\t    <div class=\"search_google\">\\n\\t\\t\\t<input type=\"hidden\" name=\"cx\" value=\"partner-pub-2123717546759689:xuezjh-z3gi\" />\\n\\t\\t\\t<input type=\"hidden\" name=\"cof\" value=\"FORID:11\" />\\n\\t\\t\\t<input type=\"hidden\" name=\"ie\" value=\"UTF-8\" />\\n\\t\\t\\t<input type=\"text\" name=\"q\" size=\"10\" />\\n\\t\\t\\t<input type=\"image\" name=\"sa\" src=\"../img/btn_search_google.gif\" alt=\"검색\" class=\"btn_search_google\" />\\n\\t\\t\\t</div>\\n\\t\\t\\t</form>\\n\\t\\t\\t<script type=\"text/javascript\" src=\"http://www.google.co.kr/cse/brand?form=cse-search-box&amp;lang=ko\"></script> \\n\\t\\t  -->\\n\\t\\t\\t<form action=\"/cs2/bbs/zsearch.php\" id=\"cse-search-box\" onsubmit=\"if(this.q.value ==\\' 클리앙 통합검색\\'){this.q.focus();return false;}\">\\n\\t\\t    <div class=\"search_google\" style=\"padding: 3px 9px 0 0;\">\\n\\t\\t\\t<input type=\"text\" name=\"q\" size=\"20\" style=\"color: #D2D2D2;font-size: 9pt;height:15px;padding:3px 0 0 2px;\" value=\" 클리앙 통합검색\" onfocus=\"this.value=\\'\\'\" onblur=\"if(!this.value) this.value=\\' 클리앙 통합검색\\';\"/>\\n\\t\\t\\t<input type=\"image\" name=\"sa\" src=\"http://clien.net/cs2/img/btn_search_google.gif\" alt=\"검색\" class=\"btn_search_google\" style=\"position: relative;top: 3px;\"/>\\n\\t\\t\\t</div>\\n\\t\\t\\t</form> \\n        </div>\\n      </div>\\n      <div id=\"snb\">\\n\\n<!-- 로그인 전-->\\r\\n\\t\\t\\t\\t\\r\\n\\t\\t<script type=\"text/javascript\" src=\"../js/capslock.js\"></script>\\r\\n\\t\\t<script type=\"text/javascript\">\\r\\n\\t\\t// 엠파스 로긴 참고\\r\\n\\t\\tvar bReset = false;\\r\\n\\t\\tfunction chkReset(f)\\r\\n\\t\\t{\\r\\n\\t\\t\\t//if (bReset) { if ( f.mb_id.value == \\'아이디\\' ) f.mb_id.value = \\'\\'; bReset = false; }\\r\\n\\t\\t\\t//document.getElementById(\"pw1\").style.display = \"none\";\\r\\n\\t\\t\\t//document.getElementById(\"pw2\").style.display = \"\";\\r\\n\\t\\t}\\r\\n\\r\\n\\r\\n\\t\\t</script>\\r\\n        <div id=\"account\">\\r\\n\\t\\t<form name=\"fhead\" method=\"post\" onsubmit=\"return fhead_submit(this);\" autocomplete=\"off\" style=\"margin:0px;\">\\r\\n\\t\\t<input type=\"hidden\" name=\"url\" value=\"%2Fcs2%2Fbbs%2Fboard.php%3Fbo_table%3Dnews\">\\r\\n          <fieldset>\\r\\n          <legend>로그인</legend>\\r\\n          <dl>\\r\\n            <dt>\\r\\n              <label for=\"\">아이디</label>\\r\\n            </dt>\\r\\n            <dd class=\"user_id\">\\r\\n             <input name=\"mb_id\" id=\"mb_id\" type=\"text\" class=\\'user_id_img\\' size=\"12\" maxlength=\"20\"  value=\\'\\' onclick=\"loginidcheck()\" >\\r\\n            </dd>\\r\\n            <dt>\\r\\n              <label for=\"\">비밀번호</label>\\r\\n            </dt>\\r\\n            <dd class=\"user_pass\">\\r\\n\\r\\n\\t\\t\\t<input name=\"mb_password\" id=\"mb_password\" type=\"password\" class=\\'user_id_pass\\'  size=\"12\" maxlength=\"20\" >\\r\\n            </dd>\\r\\n          </dl>\\r\\n          <ul class=\"login_btn\">\\r\\n            <li>\\r\\n              <input type=\"checkbox\" class=\"input_check\" name=\"auto_login\" value=\"1\" onclick=\"if (this.checked) { if (confirm(\\'자동로그인을 사용하시면 다음부터 회원아이디와 패스워드를 입력하실 필요가 없습니다.\\\\n\\\\n\\\\공공장소에서는 개인정보가 유출될 수 있으니 사용을 자제하여 주십시오.\\\\n\\\\n자동로그인을 사용하시겠습니까?\\')) { this.checked = true; } else { this.checked = false; } }\">\\r\\n              <label for=\"\"><img src=\"../img/account_auto.gif\" alt=\"auto\" /></label>\\r\\n            </li>\\r\\n            <li>\\r\\n              <input type=\"image\" src=\"../img/btn_account_login.gif\" class=\"submit\" />\\r\\n            </li>\\r\\n          </ul>\\r\\n          </fieldset>\\r\\n          <ul class=\"login_join\">\\r\\n            <li class=\"l1\"><a href=\"javascript:win_password_forget();\">ID/PW찾기</a></li>\\r\\n            <li><a href=\"../bbs/register.php?url=%2Fcs2%2Fbbs%2Fboard.php%3Fbo_table%3Dnews\">회원가입</a></li>\\r\\n          </ul>\\r\\n        </div>\\r\\n\\t\\t</form>\\r\\n\\r\\n\\r\\n<script language=\"JavaScript\">\\r\\nfunction loginidcheck(){\\r\\n\\t$(\\'#mb_id\\').val(\\'\\');\\r\\n}\\r\\n\\r\\n$(document).ready(function(){\\r\\n\\r\\n\\t\\t\\t//$(\\'#mb_password1\\').attr(\\'value\\',\\'패스워드\\');\\r\\n\\t\\t\\t$(\\'#mb_id\\').focus(function(){\\r\\n\\t\\t\\t\\t$(\\'#mb_id\\').removeClass(\\'user_id_img\\');\\r\\n\\t\\t\\t});\\r\\n\\r\\n            $(\\'#mb_password\\').focus(function(){\\r\\n\\t\\t\\t\\t$(\\'#mb_password\\').removeClass(\\'user_id_pass\\');\\r\\n\\t\\t\\t});\\r\\n\\r\\n});\\r\\nfunction fhead_submit(f)\\r\\n{\\r\\n\\r\\n\\tif (f.mb_id.value ==\\'아이디\\'){\\r\\n\\t\\t  alert(\"회원아이디를 입력하십시오.\");\\r\\n        f.mb_id.focus();\\r\\n        return false;\\r\\n\\t}\\r\\n    if (!f.mb_id.value) {\\r\\n        alert(\"회원아이디를 입력하십시오.\");\\r\\n        f.mb_id.focus();\\r\\n        return false;\\r\\n    }\\r\\n\\tif (!f.mb_password.value) {\\r\\n        alert(\"패스워드를 입력하십시오.\");\\r\\n      //  f.mb_password.focus();\\r\\n        return false;\\r\\n    }\\r\\n\\r\\n    f.action = \\'https://www.clien.net/cs2/bbs/login_check.php\\';\\r\\n    return true;\\r\\n}\\r\\n</script>\\r\\n\\r\\n\\r\\n\\r\\n\\r\\n\\r\\n\\r\\n\\r\\n        <div id=\"snb_navi1\">\\r\\n          <ul>\\r\\n            <li><a href=\"../bbs/board.php?bo_table=park\"><img src=\"../img/icon_f.gif\" alt=\"f\" />모두의공원</a></li>\\r\\n\\t\\t<li><a href=\"../bbs/board.php?bo_table=image\"><img src=\"../img/icon_i.gif\" alt=\"i\" />사진게시판</a></li>\\r\\n\\t\\t<!--li><a href=\"../bbs/board.php?bo_table=discussion\"><img src=\"../img/icon_d.gif\" alt=\"d\" />토론게시판</a></li-->\\r\\n\\t\\t<li class=\"list_end1\"><a href=\"../bbs/board.php?bo_table=kin\"><img src=\"../img/icon_q.gif\" alt=\"a\" />아무거나질문</a></li>\\r\\n\\t\\t<li><a href=\"../gchat.php\"><img src=\"../img/icon_bdot.gif\" alt=\".\" />클리앙대화방</a></li>\\r\\n            <li><a href=\"../bbs/board.php?bo_table=news\"><img src=\"../img/icon_n.gif\" alt=\"n\" />새로운소식</a></li>\\r\\n            <li><a href=\"../bbs/board.php?bo_table=lecture\"><img src=\"../img/icon_l.gif\" alt=\"i\" />팁과강좌</a></li>\\r\\n            <li><a href=\"../bbs/board.php?bo_table=use\"><img src=\"../img/icon_u.gif\" alt=\"u\" />사용기게시판</a></li>\\r\\n            <li><a href=\"../bbs/board.php?bo_table=chehum\"><img src=\"../img/icon_dot_b.gif\" alt=\".\" />체험단사용기</a></li>\\r\\n            <li class=\"list_end1\"><a href=\"../bbs/board.php?bo_table=useful\"><img src=\"../img/icon_t.gif\" alt=\"t\" />유용한사이트</a></li>\\r\\n            <li><a href=\"../bbs/board.php?bo_table=jirum\"><img src=\"../img/icon_j.gif\" alt=\"b\" />알뜰구매</a></li>\\r\\n            <li><a href=\"../bbs/board.php?bo_table=coupon\"><img src=\"../img/icon_c.gif\" alt=\"c\" />쿠폰/이벤트</a></li>\\r\\n            <li class=\"list_end1\"><a href=\"../bbs/board.php?bo_table=hongbo\"><img src=\"../img/icon_b.gif\" alt=\"b\" />직접홍보</a></li>\\r\\n            <li><a href=\"../bbs/board.php?bo_table=pds\"><img src=\"../img/icon_p.gif\" alt=\"p\" />자료실</a></li>\\r\\n            <li><a href=\"../bbs/board.php?bo_table=sold\"><img src=\"../img/icon_s.gif\" alt=\"s\" />회원중고장터</a></li>\\r\\n\\t\\t\\t<li><a href=\"../bbs/board.php?bo_table=ransome\"><img src=\"../img/icon_dot_b.gif\" alt=\"f\" />임시랜섬게시판</a></li>\\r\\n          </ul>\\r\\n        </div>\\r\\n        <!-- 소모임 사이드 내비게이션 바 -->\\r\\n        <div id=\"snb_navi2\">\\r\\n          <h2>소 모 임 <a href=\"javascript:popup_window(\\'../cm/cm_hotkey.php\\', \\'my_menu_edit\\', \\'width=600, height=450, scrollbars=0\\')\" onfocus=\\'this.blur()\\' title=\\'소모임단축키설정\\'><img src=\\'../img/cm/btn_menu.gif\\' border=0 style=\\'position:relative; top:2px; left:6px;\\'></a></h2> \\r\\n          <ul>\\r\\n\\t\\t\\t<li><a href=\"../cm_index.php\"><img src=\"../img/icon_m.gif\" alt=\"m\" /><font colotr=\"#4e3a97\">소모임 전체</font></a></li>\\r\\n            <li class=\"list_end2\"><a href=\"../bbs/board.php?bo_table=cm_main\"><img src=\"../img/icon_e2.gif\" alt=\"e\" />임시 소모임</a></li>\\r\\n<!--            <li><img src=\"../img/icon_dot.gif\" alt=\".\" />소모임 신청</li>\\r\\n            <li class=\"list_end2\"><a href=\"../cm_index.php\"><img src=\"../img/icon_m.gif\" alt=\"m\" />소모임 전체</a></li>-->\\r\\n            \\r\\n\\t\\t\\t<!-- 우선노출 S-->\\r\\n\\t\\t\\t            <!-- 우선노출 E-->\\r\\n\\t\\t\\t\\r\\n\\t\\t\\t<!-- 사용자 S-->\\r\\n\\t\\t\\t\\t\\t\\t\\t<li><a href=\"../bbs/board.php?bo_table=cm_iphonien\"><img src=\"../img/icon_1.gif\" alt=\"1\" />아이포니앙</a></li>\\r\\n\\t\\t\\t\\t\\t\\t\\t<li><a href=\"../bbs/board.php?bo_table=cm_car\"><img src=\"../img/icon_2.gif\" alt=\"2\" />굴러간당</a></li>\\r\\n\\t\\t\\t\\t\\t\\t\\t<li><a href=\"../bbs/board.php?bo_table=cm_bike\"><img src=\"../img/icon_3.gif\" alt=\"3\" />자전거당</a></li>\\r\\n\\t\\t\\t\\t\\t\\t\\t<li><a href=\"../bbs/board.php?bo_table=cm_dia\"><img src=\"../img/icon_4.gif\" alt=\"4\" />디아블로당</a></li>\\r\\n\\t\\t\\t\\t\\t\\t\\t<li><a href=\"../bbs/board.php?bo_table=cm_gym\"><img src=\"../img/icon_5.gif\" alt=\"5\" />땀흘린당</a></li>\\r\\n\\t\\t\\t\\t\\t\\t\\t<li><a href=\"../bbs/board.php?bo_table=cm_lego\"><img src=\"../img/icon_6.gif\" alt=\"6\" />레고당</a></li>\\r\\n\\t\\t\\t\\t\\t\\t\\t<li><a href=\"../bbs/board.php?bo_table=cm_baseball\"><img src=\"../img/icon_7.gif\" alt=\"7\" />야구당</a></li>\\r\\n\\t\\t\\t\\t\\t\\t\\t<li><a href=\"../bbs/board.php?bo_table=cm_mac\"><img src=\"../img/icon_8.gif\" alt=\"8\" />MaClien</a></li>\\r\\n\\t\\t\\t\\t\\t\\t\\t<li><a href=\"../bbs/board.php?bo_table=cm_andro\"><img src=\"../img/icon_9.gif\" alt=\"9\" />안드로메당</a></li>\\r\\n\\t\\t\\t\\t\\t\\t\\t<li class=\"list_end2\"><a href=\"../bbs/board.php?bo_table=cm_coffee\"><img src=\"../img/icon_0.gif\" alt=\"0\" />클다방</a></li>\\r\\n\\t\\t\\t\\t\\t\\t<!-- 사용자 E-->\\r\\n\\r\\n\\t\\t\\t<!-- 우선노출 S-->\\r\\n\\t\\t\\t\\t\\t\\t\\t<li><a href=\"../bbs/board.php?bo_table=cm_note\"><img src=\"../img/icon_dot.gif\" alt=\"\" />적는당</a></li>\\r\\n\\t\\t\\t\\t\\t\\t\\t<li><a href=\"../bbs/board.php?bo_table=cm_heroes\"><img src=\"../img/icon_dot.gif\" alt=\"\" />히어로즈한당</a></li>\\r\\n\\t\\t\\t\\t\\t\\t\\t<li><a href=\"../bbs/board.php?bo_table=cm_vr\"><img src=\"../img/icon_dot.gif\" alt=\"\" />VR당</a></li>\\r\\n\\t\\t\\t\\t\\t\\t\\t<li class=\"list_end2\"><a href=\"../bbs/board.php?bo_table=cm_watch\"><img src=\"../img/icon_dot.gif\" alt=\"\" />시계찬당</a></li>\\r\\n\\t\\t\\t            <!-- 우선노출 E-->\\r\\n          </ul>\\r\\n\\t\\t  <ul style=\\'padding-top:0px;padding-bottom:0px;\\'><li id=\\'openTitle\\' style=\\'text-align:center\\'><a href=\"javascript:CmAllOpen()\">전체소모임</a></li></ul>\\t\\r\\n\\t\\t  \\t\\t  <ul id=\\'cmList\\' style=\\'padding-top:0px; display:none;\\'>\\r\\n\\t\\t\\t\\t\\t\\t\\t<li><a href=\"../bbs/board.php?bo_table=cm_lol\"><img src=\"../img/icon_dot.gif\" alt=\"0\" />LOLien</a></li>\\r\\n\\t\\t\\t\\t\\t\\t\\t<li><a href=\"../bbs/board.php?bo_table=cm_cat\"><img src=\"../img/icon_dot.gif\" alt=\"0\" />냐옹이당</a></li>\\r\\n\\t\\t\\t\\t\\t\\t\\t<li><a href=\"../bbs/board.php?bo_table=cm_photo\"><img src=\"../img/icon_dot.gif\" alt=\"0\" />찰칵찍당</a></li>\\r\\n\\t\\t\\t\\t\\t\\t\\t<li><a href=\"../bbs/board.php?bo_table=cm_solo\"><img src=\"../img/icon_dot.gif\" alt=\"0\" />혼자산당</a></li>\\r\\n\\t\\t\\t\\t\\t\\t\\t<li><a href=\"../bbs/board.php?bo_table=cm_snow\"><img src=\"../img/icon_dot.gif\" alt=\"0\" />미끄러진당</a></li>\\r\\n\\t\\t\\t\\t\\t\\t\\t<li><a href=\"../bbs/board.php?bo_table=cm_golf\"><img src=\"../img/icon_dot.gif\" alt=\"0\" />골프당</a></li>\\r\\n\\t\\t\\t\\t\\t\\t\\t<li><a href=\"../bbs/board.php?bo_table=cm_swim\"><img src=\"../img/icon_dot.gif\" alt=\"0\" />퐁당퐁당</a></li>\\r\\n\\t\\t\\t\\t\\t\\t\\t<li><a href=\"../bbs/board.php?bo_table=cm_fashion\"><img src=\"../img/icon_dot.gif\" alt=\"0\" />패셔니앙</a></li>\\r\\n\\t\\t\\t\\t\\t\\t\\t<li><a href=\"../bbs/board.php?bo_table=cm_ku\"><img src=\"../img/icon_dot.gif\" alt=\"0\" />덕질한당</a></li>\\r\\n\\t\\t\\t\\t\\t\\t\\t<li><a href=\"../bbs/board.php?bo_table=cm_bear\"><img src=\"../img/icon_dot.gif\" alt=\"0\" />곰돌이당</a></li>\\r\\n\\t\\t\\t\\t\\t\\t\\t<li><a href=\"../bbs/board.php?bo_table=cm_oversea\"><img src=\"../img/icon_dot.gif\" alt=\"0\" />바다건너당</a></li>\\r\\n\\t\\t\\t\\t\\t\\t\\t<li><a href=\"../bbs/board.php?bo_table=cm_movie\"><img src=\"../img/icon_dot.gif\" alt=\"0\" />영화본당</a></li>\\r\\n\\t\\t\\t\\t\\t\\t\\t<li><a href=\"../bbs/board.php?bo_table=cm_werule\"><img src=\"../img/icon_dot.gif\" alt=\"0\" />소셜게임한당</a></li>\\r\\n\\t\\t\\t\\t\\t\\t\\t<li><a href=\"../bbs/board.php?bo_table=cm_baby\"><img src=\"../img/icon_dot.gif\" alt=\"0\" />육아당</a></li>\\r\\n\\t\\t\\t\\t\\t\\t\\t<li><a href=\"../bbs/board.php?bo_table=cm_linux\"><img src=\"../img/icon_dot.gif\" alt=\"0\" />리눅서당</a></li>\\r\\n\\t\\t\\t\\t\\t\\t\\t<li><a href=\"../bbs/board.php?bo_table=cm_slate\"><img src=\"../img/icon_dot.gif\" alt=\"0\" />윈태블릿당</a></li>\\r\\n\\t\\t\\t\\t\\t\\t\\t<li><a href=\"../bbs/board.php?bo_table=cm_havehome\"><img src=\"../img/icon_dot.gif\" alt=\"0\" />내집마련당</a></li>\\r\\n\\t\\t\\t\\t\\t\\t\\t<li><a href=\"../bbs/board.php?bo_table=cm_bb\"><img src=\"../img/icon_dot.gif\" alt=\"0\" />블랙베리당</a></li>\\r\\n\\t\\t\\t\\t\\t\\t\\t<li><a href=\"../bbs/board.php?bo_table=cm_mount\"><img src=\"../img/icon_dot.gif\" alt=\"0\" />오른당</a></li>\\r\\n\\t\\t\\t\\t\\t\\t\\t<li><a href=\"../bbs/board.php?bo_table=cm_food\"><img src=\"../img/icon_dot.gif\" alt=\"0\" />맛있겠당</a></li>\\r\\n\\t\\t\\t\\t\\t\\t\\t<li><a href=\"../bbs/board.php?bo_table=cm_simsik\"><img src=\"../img/icon_dot.gif\" alt=\"0\" />심야식당</a></li>\\r\\n\\t\\t\\t\\t\\t\\t\\t<li><a href=\"../bbs/board.php?bo_table=cm_stock\"><img src=\"../img/icon_dot.gif\" alt=\"0\" />주식한당</a></li>\\r\\n\\t\\t\\t\\t\\t\\t\\t<li><a href=\"../bbs/board.php?bo_table=cm_girl\"><img src=\"../img/icon_dot.gif\" alt=\"0\" />소시당</a></li>\\r\\n\\t\\t\\t\\t\\t\\t\\t<li><a href=\"../bbs/board.php?bo_table=cm_gun\"><img src=\"../img/icon_dot.gif\" alt=\"0\" />총쏜당</a></li>\\r\\n\\t\\t\\t\\t\\t\\t\\t<li><a href=\"../bbs/board.php?bo_table=cm_wow\"><img src=\"../img/icon_dot.gif\" alt=\"0\" />WOW</a></li>\\r\\n\\t\\t\\t\\t\\t\\t\\t<li><a href=\"../bbs/board.php?bo_table=cm_leather\"><img src=\"../img/icon_dot.gif\" alt=\"0\" />가죽당</a></li>\\r\\n\\t\\t\\t\\t\\t\\t\\t<li><a href=\"../bbs/board.php?bo_table=cm_billiards\"><img src=\"../img/icon_dot.gif\" alt=\"0\" />뽀록이당</a></li>\\r\\n\\t\\t\\t\\t\\t\\t\\t<li><a href=\"../bbs/board.php?bo_table=cm_sea\"><img src=\"../img/icon_dot.gif\" alt=\"0\" />Sea 마당</a></li>\\r\\n\\t\\t\\t\\t\\t\\t\\t<li><a href=\"../bbs/board.php?bo_table=cm_tpad\"><img src=\"../img/icon_dot.gif\" alt=\"0\" />터치패드당</a></li>\\r\\n\\t\\t\\t\\t\\t\\t\\t<li><a href=\"../bbs/board.php?bo_table=cm_picnic\"><img src=\"../img/icon_dot.gif\" alt=\"0\" />소풍간당</a></li>\\r\\n\\t\\t\\t\\t\\t\\t\\t<li><a href=\"../bbs/board.php?bo_table=cm_kara\"><img src=\"../img/icon_dot.gif\" alt=\"0\" />KARA</a></li>\\r\\n\\t\\t\\t\\t\\t\\t\\t<li><a href=\"../bbs/board.php?bo_table=cm_ebook\"><img src=\"../img/icon_dot.gif\" alt=\"0\" />e북본당</a></li>\\r\\n\\t\\t\\t\\t\\t\\t\\t<li><a href=\"../bbs/board.php?bo_table=cm_app\"><img src=\"../img/icon_dot.gif\" alt=\"0\" />앱개발자당</a></li>\\r\\n\\t\\t\\t\\t\\t\\t\\t<li><a href=\"../bbs/board.php?bo_table=cm_wp\"><img src=\"../img/icon_dot.gif\" alt=\"0\" />윈폰이당</a></li>\\r\\n\\t\\t\\t\\t\\t\\t\\t<li><a href=\"../bbs/board.php?bo_table=cm_redeem\"><img src=\"../img/icon_dot.gif\" alt=\"0\" />품앱이당</a></li>\\r\\n\\t\\t\\t\\t\\t\\t\\t<li><a href=\"../bbs/board.php?bo_table=cm_lang\"><img src=\"../img/icon_dot.gif\" alt=\"0\" />어학당</a></li>\\r\\n\\t\\t\\t\\t\\t\\t\\t<li><a href=\"../bbs/board.php?bo_table=cm_board\"><img src=\"../img/icon_dot.gif\" alt=\"0\" />보드게임당</a></li>\\r\\n\\t\\t\\t\\t\\t\\t\\t<li><a href=\"../bbs/board.php?bo_table=cm_plant\"><img src=\"../img/icon_dot.gif\" alt=\"0\" />심는당</a></li>\\r\\n\\t\\t\\t\\t\\t\\t\\t<li><a href=\"../bbs/board.php?bo_table=cm_midra\"><img src=\"../img/icon_dot.gif\" alt=\"0\" />미드당</a></li>\\r\\n\\t\\t\\t\\t\\t\\t\\t<li><a href=\"../bbs/board.php?bo_table=cm_cook\"><img src=\"../img/icon_dot.gif\" alt=\"0\" />요리한당</a></li>\\r\\n\\t\\t\\t\\t\\t\\t\\t<li><a href=\"../bbs/board.php?bo_table=cm_pic\"><img src=\"../img/icon_dot.gif\" alt=\"0\" />그림그린당</a></li>\\r\\n\\t\\t\\t\\t\\t\\t\\t<li><a href=\"../bbs/board.php?bo_table=cm_daegu\"><img src=\"../img/icon_dot.gif\" alt=\"0\" />대구당</a></li>\\r\\n\\t\\t\\t\\t\\t\\t\\t<li><a href=\"../bbs/board.php?bo_table=cm_tour\"><img src=\"../img/icon_dot.gif\" alt=\"0\" />여행을 떠난당</a></li>\\r\\n\\t\\t\\t\\t\\t\\t\\t<li><a href=\"../bbs/board.php?bo_table=cm_webos\"><img src=\"../img/icon_dot.gif\" alt=\"0\" />webOS당</a></li>\\r\\n\\t\\t\\t\\t\\t\\t\\t<li><a href=\"../bbs/board.php?bo_table=cm_mtg\"><img src=\"../img/icon_dot.gif\" alt=\"0\" />MTG한당</a></li>\\r\\n\\t\\t\\t\\t\\t\\t\\t<li><a href=\"../bbs/board.php?bo_table=cm_book\"><img src=\"../img/icon_dot.gif\" alt=\"0\" />활자중독당</a></li>\\r\\n\\t\\t\\t\\t\\t\\t\\t<li><a href=\"../bbs/board.php?bo_table=cm_music\"><img src=\"../img/icon_dot.gif\" alt=\"0\" />소리당</a></li>\\r\\n\\t\\t\\t\\t\\t\\t\\t<li><a href=\"../bbs/board.php?bo_table=cm_star\"><img src=\"../img/icon_dot.gif\" alt=\"0\" />스타한당</a></li>\\r\\n\\t\\t\\t\\t\\t\\t\\t<li><a href=\"../bbs/board.php?bo_table=cm_mabi\"><img src=\"../img/icon_dot.gif\" alt=\"0\" />Mabinogien</a></li>\\r\\n\\t\\t\\t\\t\\t\\t\\t<li><a href=\"../bbs/board.php?bo_table=cm_tiwatch\"><img src=\"../img/icon_dot.gif\" alt=\"0\" />공대시계당</a></li>\\r\\n\\t\\t\\t\\t\\t\\t\\t<li><a href=\"../bbs/board.php?bo_table=cm_twit\"><img src=\"../img/icon_dot.gif\" alt=\"0\" />트윗당</a></li>\\r\\n\\t\\t\\t\\t\\t\\t\\t<li><a href=\"../bbs/board.php?bo_table=cm_civilize\"><img src=\"../img/icon_dot.gif\" alt=\"0\" />문명하셨당</a></li>\\r\\n\\t\\t\\t\\t\\t\\t\\t<li><a href=\"../bbs/board.php?bo_table=cm_classic\"><img src=\"../img/icon_dot.gif\" alt=\"0\" />클래시앙</a></li>\\r\\n\\t\\t\\t\\t\\t\\t\\t<li><a href=\"../bbs/board.php?bo_table=cm_nokien\"><img src=\"../img/icon_dot.gif\" alt=\"0\" />노키앙</a></li>\\r\\n\\t\\t\\t\\t\\t\\t\\t<li><a href=\"../bbs/board.php?bo_table=cm_badmin\"><img src=\"../img/icon_dot.gif\" alt=\"0\" />배드민턴당</a></li>\\r\\n\\t\\t\\t\\t\\t\\t\\t<li><a href=\"../bbs/board.php?bo_table=cm_hearth\"><img src=\"../img/icon_dot.gif\" alt=\"0\" />하스스톤한당</a></li>\\r\\n\\t\\t\\t\\t\\t\\t\\t<li><a href=\"../bbs/board.php?bo_table=cm_console\"><img src=\"../img/icon_dot.gif\" alt=\"0\" />콘솔한당</a></li>\\r\\n\\t\\t\\t\\t\\t\\t\\t<li><a href=\"../bbs/board.php?bo_table=cm_fm\"><img src=\"../img/icon_dot.gif\" alt=\"0\" />FM한당</a></li>\\r\\n\\t\\t\\t\\t\\t\\t\\t<li><a href=\"../bbs/board.php?bo_table=cm_steam\"><img src=\"../img/icon_dot.gif\" alt=\"0\" />스팀(마약)한당</a></li>\\r\\n\\t\\t\\t\\t\\t\\t\\t<li><a href=\"../bbs/board.php?bo_table=cm_cookierun\"><img src=\"../img/icon_dot.gif\" alt=\"0\" />쿠키런당</a></li>\\r\\n\\t\\t\\t\\t\\t\\t\\t<li><a href=\"../bbs/board.php?bo_table=cm_monhunt\"><img src=\"../img/icon_dot.gif\" alt=\"0\" />헌팅한당</a></li>\\r\\n\\t\\t\\t\\t\\t\\t\\t<li><a href=\"../bbs/board.php?bo_table=cm_mbike\"><img src=\"../img/icon_dot.gif\" alt=\"0\" />이륜차당</a></li>\\r\\n\\t\\t\\t\\t\\t\\t\\t<li><a href=\"../bbs/board.php?bo_table=cm_nas\"><img src=\"../img/icon_dot.gif\" alt=\"0\" />나스당</a></li>\\r\\n\\t\\t\\t\\t\\t\\t\\t<li><a href=\"../bbs/board.php?bo_table=cm_camp\"><img src=\"../img/icon_dot.gif\" alt=\"0\" />캠핑간당</a></li>\\r\\n\\t\\t\\t\\t\\t\\t\\t<li><a href=\"../bbs/board.php?bo_table=cm_mine\"><img src=\"../img/icon_dot.gif\" alt=\"0\" />땅판당</a></li>\\r\\n\\t\\t\\t\\t\\t\\t\\t<li><a href=\"../bbs/board.php?bo_table=cm_rhythm\"><img src=\"../img/icon_dot.gif\" alt=\"0\" />리듬탄당</a></li>\\r\\n\\t\\t\\t\\t\\t\\t\\t<li><a href=\"../bbs/board.php?bo_table=cm_bowling\"><img src=\"../img/icon_dot.gif\" alt=\"0\" />볼링친당</a></li>\\r\\n\\t\\t\\t\\t\\t\\t\\t<li><a href=\"../bbs/board.php?bo_table=cm_dog\"><img src=\"../img/icon_dot.gif\" alt=\"0\" />개판이당</a></li>\\r\\n\\t\\t\\t\\t\\t\\t\\t<li><a href=\"../bbs/board.php?bo_table=cm_gta\"><img src=\"../img/icon_dot.gif\" alt=\"0\" />차턴당</a></li>\\r\\n\\t\\t\\t\\t\\t\\t\\t<li><a href=\"../bbs/board.php?bo_table=cm_taillist\"><img src=\"../img/icon_dot.gif\" alt=\"0\" />해외직구TV당</a></li>\\r\\n\\t\\t\\t\\t\\t\\t\\t<li><a href=\"../bbs/board.php?bo_table=cm_basket\"><img src=\"../img/icon_dot.gif\" alt=\"0\" />농구당</a></li>\\r\\n\\t\\t\\t\\t\\t\\t\\t<li><a href=\"../bbs/board.php?bo_table=cm_sim\"><img src=\"../img/icon_dot.gif\" alt=\"0\" />SimSim하당</a></li>\\r\\n\\t\\t\\t\\t\\t\\t\\t<li><a href=\"../bbs/board.php?bo_table=cm_70\"><img src=\"../img/icon_dot.gif\" alt=\"0\" />X세대당</a></li>\\r\\n\\t\\t\\t\\t\\t\\t\\t<li><a href=\"../bbs/board.php?bo_table=cm_venture\"><img src=\"../img/icon_dot.gif\" alt=\"0\" />창업한당</a></li>\\r\\n\\t\\t\\t\\t\\t\\t\\t<li><a href=\"../bbs/board.php?bo_table=cm_thinkpad\"><img src=\"../img/icon_dot.gif\" alt=\"0\" />빨콩이당</a></li>\\r\\n\\t\\t\\t\\t\\t\\t\\t<li><a href=\"../bbs/board.php?bo_table=cm_soccer\"><img src=\"../img/icon_dot.gif\" alt=\"0\" />축구당</a></li>\\r\\n\\t\\t\\t\\t\\t\\t\\t<li><a href=\"../bbs/board.php?bo_table=cm_eve\"><img src=\"../img/icon_dot.gif\" alt=\"0\" />이브한당</a></li>\\r\\n\\t\\t\\t\\t\\t\\t\\t<li><a href=\"../bbs/board.php?bo_table=cm_fish\"><img src=\"../img/icon_dot.gif\" alt=\"0\" />물고기당</a></li>\\r\\n\\t\\t\\t\\t\\t  </ul>\\r\\n\\t\\t          </div>\\r\\n\\t\\t<br /><br />\\r\\n\\t\\t\\r\\n      </div>\\r\\n\\r\\n\\r\\n      <!-- include 시에 여기까지 잘라주세요. -->\\r\\n      <div id=\"content\">  <!-- content 는 footer를 포함합니다. -->\\r\\n\\t   \\r\\n\\r\\n\\r\\n\\r\\n\\t\\t  <div class=\"board_title\"> <img src=\"/cs2/img/icon_n.gif\" alt=\"n\" class=\"board_icon\" />\\r\\n          <h2><a href=\"/cs2/bbs/board.php?bo_table=news\">새로운소식 게시판</a></h2>\\r\\n         <p class=\"board_notice\">IT, 과학, 각종 기기의 새로운 소식을<br>전달하는 게시판입니다. <br> (중복기사 임의 삭제됨) </p>\\r\\n<!-- clien_board_header -->\\r\\n<div style=\\'position:absolute; top:10px; left:305px; width:470px; height:70px; z-index:1;\\'>\\r\\n<script type=\\'text/javascript\\'><!--// <![CDATA[\\r\\n    /* [id3] ClienPC03 - board_header */\\r\\n    OA_show(3);\\r\\n// ]]> --></script><noscript><a target=\\'_blank\\' href=\\'http://pub1504.clien.net/delivery/ck.php?n=041380a\\'><img border=\\'0\\' alt=\\'\\' src=\\'http://pub1504.clien.net/delivery/avw.php?zoneid=3&amp;n=041380a\\' /></a></noscript>\\r\\n</div>\\r\\n        </div>\\n<!-- 게시판 시작 -->\\n<div class=\"board_head\">\\n  <!-- 게시물 총 갯수 안보여줌!\\n  <p class=\"total_count\"><img src=\"../skin/board/tinymce/img/icon_board_total.gif\" title=\"total\" /> 73,859</p>-->\\n<!-- 관리, rss, 북마크 -->\\n<ul class=\"head_btn\">\\n\\t\\t\\t<li class=\"btn_bookmark\"><span id=\"my_menu_add\"></span></li>\\n</ul>\\n<!-- 게시판 카테고리 시작  <li>[PDA][272]</li> -->\\n</div>\\n\\n\\n<!-- 게시판 메인 -->\\n<style>\\n.mytr:hover {\\nbackground: #f3f5f8;\\n}\\n</style>\\n\\n<div class=\"board_main\">\\n<table cellpadding=\"0\" cellspacing=\"0\">\\n\\t <!-- 각 셀의 너비를 설정 합니다. -->\\n\\t<colgroup>\\n\\t<col width=\"57\" />\\n\\t\\t\\t<col />\\n\\t<col width=\"82\" />\\n\\t<col width=\"82\" />\\n\\t<col width=\"44\" />\\n\\t</colgroup>\\n\\t<!-- 게시판 테이블의 head -->\\n\\t<thead>\\n\\t<tr>\\n\\t\\t<th><img src=\"../skin/board/tinymce/img/board_no.gif\" title=\"no\" /></th>\\n\\t\\t\\t\\t\\t\\t\\t\\t\\t<th class=\"twl\"><img src=\"../skin/board/tinymce/img/board_subject.gif\" title=\"no\" /></th>\\n\\t\\t<th class=\"twl\"><img src=\"../skin/board/tinymce/img/board_name.gif\" title=\"no\" /></th>\\n\\t\\t<th class=\"twl\"><img src=\"../skin/board/tinymce/img/board_date.gif\" title=\"no\" /></th>\\n\\t\\t<th><img src=\"../skin/board/tinymce/img/board_hit.gif\" title=\"no\" /></th>\\n\\t</tr>\\n\\t</thead>\\n\\n\\t<!-- 게시판 리스트 본문 -->\\n<form name=\"fboardlist\" method=\"post\" style=\"margin:0px;\">\\n\\t<input type=\\'hidden\\' name=\\'bo_table\\' value=\\'news\\'>\\n\\t<input type=\\'hidden\\' name=\\'sfl\\'  value=\\'\\'>\\n\\t<input type=\\'hidden\\' name=\\'stx\\'  value=\\'\\'>\\n\\t<input type=\\'hidden\\' name=\\'spt\\'  value=\\'\\'>\\n\\t<input type=\\'hidden\\' name=\\'page\\' value=\\'1\\'>\\n\\t<input type=\\'hidden\\' name=\\'sw\\'   value=\\'\\'>\\n\\n\\t<tbody>\\n\\t<!-- 공지글 표시 부분 입니다.-->\\n\\t\\t<tr class=\"post_notice\">\\n\\t\\t\\t<td><img src=\"../skin/board/tinymce/img/icon_board_notice.gif\" title=\"공지\" /></td>\\n\\t\\t\\t\\t\\t\\t<td  class=\"post_subject\">&nbsp;&nbsp;<a href=\\'../bbs/board.php?bo_table=news&wr_id=1488647\\' >[공지] 이 게시판에 리플 작성시 포인트가 소진됩니다.</a> <span>[200]</span></td>\\n\\t\\t\\t<td class=\"post_name\"><img src=\\'/cs2/data/member/ci/cipher.gif?dt=20121011\\' align=\\'absmiddle\\' border=\\'0\\'></td>\\n\\t\\t\\t<td>08-29</td>\\n\\t\\t\\t<td>440351</td>\\n\\t\\t\\t</tr>\\n\\t\\t<tr class=\"post_notice\">\\n\\t\\t\\t<td><img src=\"../skin/board/tinymce/img/icon_board_notice.gif\" title=\"공지\" /></td>\\n\\t\\t\\t\\t\\t\\t<td  class=\"post_subject\">&nbsp;&nbsp;<a href=\\'../bbs/board.php?bo_table=news&wr_id=962831\\' >[필독] 새로운 소식 게시판 이용규칙  -  20150728 최종수정</a> <span>[84]</span></td>\\n\\t\\t\\t<td class=\"post_name\"><img src=\\'/cs2/data/member/ci/cipher.gif?dt=20121011\\' align=\\'absmiddle\\' border=\\'0\\'></td>\\n\\t\\t\\t<td>08-01</td>\\n\\t\\t\\t<td>585972</td>\\n\\t\\t\\t</tr>\\n\\t<tr class=\"mytr\">\\n\\t\\t<td>2151668</td>\\n\\t\\t<td class=\"post_subject\">&nbsp;&nbsp;<a href=\\'../bbs/board.php?bo_table=news&wr_id=2151668\\' >강변 테크노마트, 페이백 판매 다시 단속한다</a> <span>[3]</span></td>\\n\\t\\t<td class=\"post_name\"><img src=\\'/cs2/data/member/cj/cjyeon1022.gif?dt=20130711142259\\' align=\\'absmiddle\\' border=\\'0\\'></td>\\n\\t\\t<td><span title=\"2016-04-09 13:51:59\">13:51</a></td>\\n\\t\\t<td>626</td>\\n\\t</tr>\\n\\t<tr class=\"mytr\">\\n\\t\\t<td>2151666</td>\\n\\t\\t<td class=\"post_subject\">&nbsp;&nbsp;<a href=\\'../bbs/board.php?bo_table=news&wr_id=2151666\\' >(루머) 안드로이드 N 프리뷰 비 넥서스기기에도 배포 예정?</a></td>\\n\\t\\t<td class=\"post_name\"><img src=\\'/cs2/data/member/li/lily520121.gif?dt=20140113094447\\' align=\\'absmiddle\\' border=\\'0\\'></td>\\n\\t\\t<td><span title=\"2016-04-09 13:49:17\">13:49</a></td>\\n\\t\\t<td>464</td>\\n\\t</tr>\\n\\t<tr class=\"mytr\">\\n\\t\\t<td>2151632</td>\\n\\t\\t<td class=\"post_subject\">&nbsp;&nbsp;<a href=\\'../bbs/board.php?bo_table=news&wr_id=2151632\\' >SpaceX, 팔콘 9 로켓 드론 바지선 해상착륙 성공 동영상 4K로 공개</a> <span>[19]</span></td>\\n\\t\\t<td class=\"post_name\"><img src=\\'/cs2/data/member/ar/armytom.gif?dt=20121011\\' align=\\'absmiddle\\' border=\\'0\\'></td>\\n\\t\\t<td><span title=\"2016-04-09 12:38:13\">12:38</a></td>\\n\\t\\t<td>1503</td>\\n\\t</tr>\\n\\t<tr class=\"mytr\">\\n\\t\\t<td>2151587</td>\\n\\t\\t<td class=\"post_subject\">&nbsp;&nbsp;<a href=\\'../bbs/board.php?bo_table=news&wr_id=2151587\\' >\"아들 출산 어려워\" 네안데르탈인 사라진 이유</a> <span>[16]</span></td>\\n\\t\\t<td class=\"post_name\"><img src=\\'/cs2/data/member/sc/scweeny.gif?dt=20150710164613\\' align=\\'absmiddle\\' border=\\'0\\'></td>\\n\\t\\t<td><span title=\"2016-04-09 10:11:32\">10:11</a></td>\\n\\t\\t<td>4168</td>\\n\\t</tr>\\n\\t<tr class=\"mytr\">\\n\\t\\t<td>2151534</td>\\n\\t\\t<td class=\"post_subject\">&nbsp;&nbsp;<a href=\\'../bbs/board.php?bo_table=news&wr_id=2151534\\' >[루머] 분석가: 애플워치 2 올 6월 WWDC에서 공개, 최대 40%까지 더 얇아질 것</a> <span>[35]</span></td>\\n\\t\\t<td class=\"post_name\"><span class=\\'member\\'>Myayu</span></td>\\n\\t\\t<td><span title=\"2016-04-09 05:03:24\">05:03</a></td>\\n\\t\\t<td>4560</td>\\n\\t</tr>\\n\\t<tr class=\"mytr\">\\n\\t\\t<td>2151481</td>\\n\\t\\t<td class=\"post_subject\">&nbsp;&nbsp;<a href=\\'../bbs/board.php?bo_table=news&wr_id=2151481\\' >마이크로소프트. Visual Studio \"15\" 프리뷰 배포</a> <span>[6]</span></td>\\n\\t\\t<td class=\"post_name\"><img src=\\'/cs2/data/member/sc/scweeny.gif?dt=20150710164613\\' align=\\'absmiddle\\' border=\\'0\\'></td>\\n\\t\\t<td><span title=\"2016-04-08 23:33:05\">04-08</a></td>\\n\\t\\t<td>4305</td>\\n\\t</tr>\\n\\t<tr class=\"mytr\">\\n\\t\\t<td>2151477</td>\\n\\t\\t<td class=\"post_subject\">&nbsp;&nbsp;<a href=\\'../bbs/board.php?bo_table=news&wr_id=2151477\\' >지문 인식 스캐너를 내장한 &#039;파나소닉 엘루가 아크&#039;</a> <span>[3]</span></td>\\n\\t\\t<td class=\"post_name\"><span class=\\'member\\'>아름다운별</span></td>\\n\\t\\t<td><span title=\"2016-04-08 23:27:19\">04-08</a></td>\\n\\t\\t<td>3261</td>\\n\\t</tr>\\n\\t<tr class=\"mytr\">\\n\\t\\t<td>2151469</td>\\n\\t\\t<td class=\"post_subject\">&nbsp;&nbsp;<a href=\\'../bbs/board.php?bo_table=news&wr_id=2151469\\' >라그나로크 모바일 출시가 얼마 안남은듯. 티저 공개</a> <span>[20]</span></td>\\n\\t\\t<td class=\"post_name\"><img src=\\'/cs2/data/member/sc/scweeny.gif?dt=20150710164613\\' align=\\'absmiddle\\' border=\\'0\\'></td>\\n\\t\\t<td><span title=\"2016-04-08 23:07:58\">04-08</a></td>\\n\\t\\t<td>4446</td>\\n\\t</tr>\\n\\t<tr class=\"mytr\">\\n\\t\\t<td>2151465</td>\\n\\t\\t<td class=\"post_subject\">&nbsp;&nbsp;<a href=\\'../bbs/board.php?bo_table=news&wr_id=2151465\\' >블랙베리CEO, 2개의 중가형 안드로이드 스마트폰 준비중</a> <span>[15]</span></td>\\n\\t\\t<td class=\"post_name\"><img src=\\'/cs2/data/member/sc/scweeny.gif?dt=20150710164613\\' align=\\'absmiddle\\' border=\\'0\\'></td>\\n\\t\\t<td><span title=\"2016-04-08 22:59:40\">04-08</a></td>\\n\\t\\t<td>2091</td>\\n\\t</tr>\\n\\t<tr class=\"mytr\">\\n\\t\\t<td>2151453</td>\\n\\t\\t<td class=\"post_subject\">&nbsp;&nbsp;<a href=\\'../bbs/board.php?bo_table=news&wr_id=2151453\\' >루머)HTC 10에는 전면OIS카메라 센서가 탑재?</a> <span>[5]</span></td>\\n\\t\\t<td class=\"post_name\"><img src=\\'/cs2/data/member/sc/scweeny.gif?dt=20150710164613\\' align=\\'absmiddle\\' border=\\'0\\'></td>\\n\\t\\t<td><span title=\"2016-04-08 22:46:07\">04-08</a></td>\\n\\t\\t<td>1416</td>\\n\\t</tr>\\n\\t<tr class=\"mytr\">\\n\\t\\t<td>2151442</td>\\n\\t\\t<td class=\"post_subject\">&nbsp;&nbsp;<a href=\\'../bbs/board.php?bo_table=news&wr_id=2151442\\' >마이크로소프트 에지브라우저에서도 플래시 단속 시작</a> <span>[2]</span></td>\\n\\t\\t<td class=\"post_name\"><img src=\\'/cs2/data/member/sc/scweeny.gif?dt=20150710164613\\' align=\\'absmiddle\\' border=\\'0\\'></td>\\n\\t\\t<td><span title=\"2016-04-08 22:32:19\">04-08</a></td>\\n\\t\\t<td>2525</td>\\n\\t</tr>\\n\\t<tr class=\"mytr\">\\n\\t\\t<td>2151370</td>\\n\\t\\t<td class=\"post_subject\">&nbsp;&nbsp;<a href=\\'../bbs/board.php?bo_table=news&wr_id=2151370\\' >LG G5, 판매 첫 주인 4월 1주차 주간 스마트폰 판매량 1, 4, 5위로 진입</a> <span>[75]</span></td>\\n\\t\\t<td class=\"post_name\"><span class=\\'member\\'>하달탱</span></td>\\n\\t\\t<td><span title=\"2016-04-08 21:19:17\">04-08</a></td>\\n\\t\\t<td>4883</td>\\n\\t</tr>\\n\\t<tr class=\"mytr\">\\n\\t\\t<td>2151358</td>\\n\\t\\t<td class=\"post_subject\">&nbsp;&nbsp;<a href=\\'../bbs/board.php?bo_table=news&wr_id=2151358\\' >구글, 안드로이드 주언어로 스위프트 고려중</a> <span>[35]</span></td>\\n\\t\\t<td class=\"post_name\"><img src=\\'/cs2/data/member/wt/wth1202.gif?dt=20150914183941\\' align=\\'absmiddle\\' border=\\'0\\'></td>\\n\\t\\t<td><span title=\"2016-04-08 21:02:53\">04-08</a></td>\\n\\t\\t<td>4813</td>\\n\\t</tr>\\n\\t<tr class=\"mytr\">\\n\\t\\t<td>2151345</td>\\n\\t\\t<td class=\"post_subject\">&nbsp;&nbsp;<a href=\\'../bbs/board.php?bo_table=news&wr_id=2151345\\' >인도에서 우버 운전자가 승객이 쏜 총에 맞고 숨져</a> <span>[3]</span></td>\\n\\t\\t<td class=\"post_name\"><span class=\\'member\\'>아름다운별</span></td>\\n\\t\\t<td><span title=\"2016-04-08 20:27:02\">04-08</a></td>\\n\\t\\t<td>3173</td>\\n\\t</tr>\\n\\t<tr class=\"mytr\">\\n\\t\\t<td>2151324</td>\\n\\t\\t<td class=\"post_subject\">&nbsp;&nbsp;<a href=\\'../bbs/board.php?bo_table=news&wr_id=2151324\\' >갤럭시S7 카메라 ‘왜곡’ 논란…“하드웨어 문제 가능성”</a> <span>[41]</span></td>\\n\\t\\t<td class=\"post_name\"><span class=\\'member\\'>Buran</span></td>\\n\\t\\t<td><span title=\"2016-04-08 19:53:37\">04-08</a></td>\\n\\t\\t<td>5456</td>\\n\\t</tr>\\n\\t<tr class=\"mytr\">\\n\\t\\t<td>2151319</td>\\n\\t\\t<td class=\"post_subject\">&nbsp;&nbsp;<a href=\\'../bbs/board.php?bo_table=news&wr_id=2151319\\' >‘아이폰6 불법 보조금 대란’ 이통3사·임원 기소</a> <span>[8]</span></td>\\n\\t\\t<td class=\"post_name\"><img src=\\'/cs2/data/member/cj/cjyeon1022.gif?dt=20130711142259\\' align=\\'absmiddle\\' border=\\'0\\'></td>\\n\\t\\t<td><span title=\"2016-04-08 19:39:14\">04-08</a></td>\\n\\t\\t<td>2994</td>\\n\\t</tr>\\n\\t<tr class=\"mytr\">\\n\\t\\t<td>2151292</td>\\n\\t\\t<td class=\"post_subject\">&nbsp;&nbsp;<a href=\\'../bbs/board.php?bo_table=news&wr_id=2151292\\' >이달 서울서 영업하는 &#039;광대은행&#039;…애플페이 서비스 시작</a> <span>[11]</span></td>\\n\\t\\t<td class=\"post_name\"><img src=\\'/cs2/data/member/cj/cjyeon1022.gif?dt=20130711142259\\' align=\\'absmiddle\\' border=\\'0\\'></td>\\n\\t\\t<td><span title=\"2016-04-08 19:07:05\">04-08</a></td>\\n\\t\\t<td>3636</td>\\n\\t</tr>\\n\\t<tr class=\"mytr\">\\n\\t\\t<td>2151290</td>\\n\\t\\t<td class=\"post_subject\">&nbsp;&nbsp;<a href=\\'../bbs/board.php?bo_table=news&wr_id=2151290\\' >영국 최대은행 바클레이도 애플페이 서비스 합류</a> <span>[5]</span></td>\\n\\t\\t<td class=\"post_name\"><img src=\\'/cs2/data/member/cj/cjyeon1022.gif?dt=20130711142259\\' align=\\'absmiddle\\' border=\\'0\\'></td>\\n\\t\\t<td><span title=\"2016-04-08 19:06:13\">04-08</a></td>\\n\\t\\t<td>1281</td>\\n\\t</tr>\\n\\t<tr class=\"mytr\">\\n\\t\\t<td>2151240</td>\\n\\t\\t<td class=\"post_subject\">&nbsp;&nbsp;<a href=\\'../bbs/board.php?bo_table=news&wr_id=2151240\\' >루머)갤럭시노트6는 IP68방수방진에 홍채인식센서 탑재?</a> <span>[13]</span></td>\\n\\t\\t<td class=\"post_name\"><img src=\\'/cs2/data/member/sc/scweeny.gif?dt=20150710164613\\' align=\\'absmiddle\\' border=\\'0\\'></td>\\n\\t\\t<td><span title=\"2016-04-08 18:04:28\">04-08</a></td>\\n\\t\\t<td>3356</td>\\n\\t</tr>\\n\\t<tr class=\"mytr\">\\n\\t\\t<td>2151224</td>\\n\\t\\t<td class=\"post_subject\">&nbsp;&nbsp;<a href=\\'../bbs/board.php?bo_table=news&wr_id=2151224\\' >애플, 이스라엘에 첫 공식 스토어 오픈 예정</a> <span>[44]</span></td>\\n\\t\\t<td class=\"post_name\"><img src=\\'/cs2/data/member/wt/wth1202.gif?dt=20150914183941\\' align=\\'absmiddle\\' border=\\'0\\'></td>\\n\\t\\t<td><span title=\"2016-04-08 17:45:38\">04-08</a></td>\\n\\t\\t<td>3087</td>\\n\\t</tr>\\n\\t<tr class=\"mytr\">\\n\\t\\t<td>2151213</td>\\n\\t\\t<td class=\"post_subject\">&nbsp;&nbsp;<a href=\\'../bbs/board.php?bo_table=news&wr_id=2151213\\' >애플, 사이프러스에 공식 스토어 오픈 예정</a> <span>[22]</span></td>\\n\\t\\t<td class=\"post_name\"><img src=\\'/cs2/data/member/wt/wth1202.gif?dt=20150914183941\\' align=\\'absmiddle\\' border=\\'0\\'></td>\\n\\t\\t<td><span title=\"2016-04-08 17:34:33\">04-08</a></td>\\n\\t\\t<td>2988</td>\\n\\t</tr>\\n\\t<tr class=\"mytr\">\\n\\t\\t<td>2151172</td>\\n\\t\\t<td class=\"post_subject\">&nbsp;&nbsp;<a href=\\'../bbs/board.php?bo_table=news&wr_id=2151172\\' >저커버그의 고민…\"페북에 사생활 공유를 안하네\"</a> <span>[32]</span></td>\\n\\t\\t<td class=\"post_name\"><span class=\\'member\\'>Myayu</span></td>\\n\\t\\t<td><span title=\"2016-04-08 16:14:06\">04-08</a></td>\\n\\t\\t<td>8552</td>\\n\\t</tr>\\n\\t<tr class=\"mytr\">\\n\\t\\t<td>2151092</td>\\n\\t\\t<td class=\"post_subject\">&nbsp;&nbsp;<a href=\\'../bbs/board.php?bo_table=news&wr_id=2151092\\' >어도비, 랜섬웨어 공격 관련 긴급 플래시 보안 업데이트 배포</a> <span>[21]</span></td>\\n\\t\\t<td class=\"post_name\"><span class=\\'member\\'>아름다운별</span></td>\\n\\t\\t<td><span title=\"2016-04-08 13:50:35\">04-08</a></td>\\n\\t\\t<td>5285</td>\\n\\t</tr>\\n\\t<tr class=\"mytr\">\\n\\t\\t<td>2151082</td>\\n\\t\\t<td class=\"post_subject\">&nbsp;&nbsp;<a href=\\'../bbs/board.php?bo_table=news&wr_id=2151082\\' >MS, iOS용 허브 키보드 앱 출시</a> <span>[6]</span></td>\\n\\t\\t<td class=\"post_name\"><img src=\\'/cs2/data/member/sc/scweeny.gif?dt=20150710164613\\' align=\\'absmiddle\\' border=\\'0\\'></td>\\n\\t\\t<td><span title=\"2016-04-08 13:35:16\">04-08</a></td>\\n\\t\\t<td>5410</td>\\n\\t</tr>\\n\\t<tr class=\"mytr\">\\n\\t\\t<td>2151080</td>\\n\\t\\t<td class=\"post_subject\">&nbsp;&nbsp;<a href=\\'../bbs/board.php?bo_table=news&wr_id=2151080\\' >15년소식)더 워킹데드 시즌1 한국어 음성 패치 등장</a> <span>[12]</span></td>\\n\\t\\t<td class=\"post_name\"><img src=\\'/cs2/data/member/sc/scweeny.gif?dt=20150710164613\\' align=\\'absmiddle\\' border=\\'0\\'></td>\\n\\t\\t<td><span title=\"2016-04-08 13:31:38\">04-08</a></td>\\n\\t\\t<td>4097</td>\\n\\t</tr>\\n\\t<tr class=\"mytr\">\\n\\t\\t<td>2151072</td>\\n\\t\\t<td class=\"post_subject\">&nbsp;&nbsp;<a href=\\'../bbs/board.php?bo_table=news&wr_id=2151072\\' >Galaxy Note2용 스마트폰 배터리 가품 회수 및 환불안내</a> <span>[4]</span></td>\\n\\t\\t<td class=\"post_name\"><img src=\\'/cs2/data/member/sc/scweeny.gif?dt=20150710164613\\' align=\\'absmiddle\\' border=\\'0\\'></td>\\n\\t\\t<td><span title=\"2016-04-08 13:24:52\">04-08</a></td>\\n\\t\\t<td>3318</td>\\n\\t</tr>\\n\\t<tr class=\"mytr\">\\n\\t\\t<td>2151033</td>\\n\\t\\t<td class=\"post_subject\">&nbsp;&nbsp;<a href=\\'../bbs/board.php?bo_table=news&wr_id=2151033\\' >폰아레나, 애플 iPhone SE 리뷰 게재</a> <span>[31]</span></td>\\n\\t\\t<td class=\"post_name\"><img src=\\'/cs2/data/member/ki/kimsigun.gif?dt=20140923135217\\' align=\\'absmiddle\\' border=\\'0\\'></td>\\n\\t\\t<td><span title=\"2016-04-08 12:42:42\">04-08</a></td>\\n\\t\\t<td>5757</td>\\n\\t</tr>\\n\\t<tr class=\"mytr\">\\n\\t\\t<td>2151028</td>\\n\\t\\t<td class=\"post_subject\">&nbsp;&nbsp;<a href=\\'../bbs/board.php?bo_table=news&wr_id=2151028\\' >플웨즈, LG G5 밝기 저하 이슈 제기해</a> <span>[45]</span></td>\\n\\t\\t<td class=\"post_name\"><img src=\\'/cs2/data/member/ki/kimsigun.gif?dt=20140923135217\\' align=\\'absmiddle\\' border=\\'0\\'></td>\\n\\t\\t<td><span title=\"2016-04-08 12:37:18\">04-08</a></td>\\n\\t\\t<td>5055</td>\\n\\t</tr>\\n\\t<tr class=\"mytr\">\\n\\t\\t<td>2151015</td>\\n\\t\\t<td class=\"post_subject\">&nbsp;&nbsp;<a href=\\'../bbs/board.php?bo_table=news&wr_id=2151015\\' >공정위, 수리업체에 `횡포` 애플 제재…불공정약관 자진시정한다</a> <span>[25]</span></td>\\n\\t\\t<td class=\"post_name\"><img src=\\'/cs2/data/member/cj/cjyeon1022.gif?dt=20130711142259\\' align=\\'absmiddle\\' border=\\'0\\'></td>\\n\\t\\t<td><span title=\"2016-04-08 12:15:29\">04-08</a></td>\\n\\t\\t<td>2957</td>\\n\\t</tr>\\n\\t<tr class=\"mytr\">\\n\\t\\t<td>2151001</td>\\n\\t\\t<td class=\"post_subject\">&nbsp;&nbsp;<a href=\\'../bbs/board.php?bo_table=news&wr_id=2151001\\' >10분이면 송 씨만큼 한다...암호 무력화 &#039;리눅스 USB&#039;란 무엇</a> <span>[28]</span></td>\\n\\t\\t<td class=\"post_name\"><img src=\\'/cs2/data/member/sc/scweeny.gif?dt=20150710164613\\' align=\\'absmiddle\\' border=\\'0\\'></td>\\n\\t\\t<td><span title=\"2016-04-08 11:43:44\">04-08</a></td>\\n\\t\\t<td>6893</td>\\n\\t</tr>\\n\\n\\t\\t\\t</tbody>\\n</table>\\n</form>\\n\\n\\n<form name=fsearch method=get style=\"margin:0px;\">\\n\\t<input type=hidden name=bo_table value=\"news\">\\n\\t<input type=hidden name=sca\\t  value=\"\">\\n\\t\\t  \\n<!-- 게시판 하단 영역 -->\\n<div class=\"board_foot\">\\n<div class=\"paging\">\\n\\t\\t<a class=\\'cur_page\\'>1</a><a href=\\'./board.php?bo_table=news&page=2\\'>2</a><a href=\\'./board.php?bo_table=news&page=3\\'>3</a><a href=\\'./board.php?bo_table=news&page=4\\'>4</a><a href=\\'./board.php?bo_table=news&page=5\\'>5</a><a href=\\'./board.php?bo_table=news&page=6\\'>6</a><a href=\\'./board.php?bo_table=news&page=7\\'>7</a><a href=\\'./board.php?bo_table=news&page=8\\'>8</a><a href=\\'./board.php?bo_table=news&page=9\\'>9</a><a href=\\'./board.php?bo_table=news&page=10\\'>10</a><a class=\\'page_text\\' href=\\'./board.php?bo_table=news&page=11\\'>다음 &gt;</a><!--a class=\\'page_text\\' href=\\'./board.php?bo_table=news&page=2462\\'>맨끝 &gt;&gt;</a-->\\t</div>\\n\\n<!-- 목록, 글쓰기 버튼-->\\n<div class=\"list_button\">\\n\\t<a href=\"./board.php?bo_table=news&page=1\"><img src=\"../skin/board/tinymce/img/btn_board_list.gif\" title=\"목록\" /></a></div>\\n\\n<div class=\"write_button\">\\n\\t</div>\\n\\n<!-- 관리자 버튼 -->\\n</div>\\n\\n<!-- 게시판 검색 -->\\n\\t\\t</div>\\n\\t\\t</form>\\n\\n\\n\\n\\n\\n\\n\\n<script language=\"JavaScript\">\\n//if (\\'\\') document.fcategory.sca.value = \\'\\';\\nif (\\'\\') {\\n\\tdocument.fsearch.sfl.value = \\'\\';\\n// document.fsearch.sop.value = \\'and\\';\\n}\\n</script>\\n\\n<!-- 게시판 목록 끝 -->\\n\\r\\n\\t     <!-- include 시에 여기까지 잘라주세요. -->\\r\\n        <!-- 푸터 -->\\r\\n        <div id=\"footer\">\\r\\n          <p class=\"bg\"><span class=\"hidden\">좌측배경</span></p>\\r\\n          <ul>\\r\\n            <li class=\"footer_rule\"><a href=\"/cs2/bbs/board.php?bo_table=faq\">사이트 이용규칙</a></li>\\r\\n            <li><a href=\"/cs2/bbs/board.php?bo_table=notice\">운영알림판</a></li>\\r\\n            <li><a href=\"/cs2/bbs/board.php?bo_table=faq&wr_id=22\">이미지네임 신청</a></li>\\r\\n            <li class=\"footer_rule\"><a href=\"/cs2/bbs/board.php?bo_table=bug\">버그신고</a></li>\\r\\n            <li><a href=\"/cs2/bbs/board.php?bo_table=notice&wr_id=8709\">광고문의</a></li>\\r\\n            <!--<li><a href=\"http://www.clien.net\" target=\"_blank\">이전 사이트 링크</a></li>-->\\r\\n            <li class=\"btn_foot_top\"><img src=\"../img/icon_footer_top.gif\" alt=\"top\" />Top</li>\\r\\n          </ul>\\r\\n          <p class=\"bg\"><span class=\"hidden\">우측배경</span></p>\\r\\n          <p class=\"foot_logo\"><img src=\"../img/footer_logo2.gif\" alt=\"클량\" /></p>\\r\\n          <dl>\\r\\n            <dd><a href=\"/cs2/company/privacy.php\">개인정보취급방침</a>&nbsp;&nbsp;<a href=\"/cs2/company/disclaimer.php\">책임의한계와법적고지</a></dd>\\r\\n            <dd>Copyright 2001-2016 Clien.net. All Right Reserved. </dd>\\r\\n            <dd><a href=mailto:manage.clien@gmail.com>manage.clien@gmail.com</a></dd>\\r\\n          </dl>\\r\\n\\r\\n        </div>\\r\\n\\t  </div>\\r\\n    </div>\\r\\n    <!-- 오른쪽 aside 영역, include 시에 footer에 포함시킵니다. -->\\r\\n    <div id=\"aside\">\\r\\n      <!-- 알림판 영역, 글이 늘어가면 세로 길이가 자동으로 늘어납니다.-->\\r\\n      <div class=\"aside_notice\">\\r\\n        <h2>알림판</h2>\\r\\n        <ul>\\r\\n\\t\\t\\r\\n\\t\\t           <li> <span>03/03</span> <a href=\\'../bbs/board.php?bo_table=faq&wr_id=30&page=0\\'>욕설/비속어는 사용할 수 없습니다. (판단기준)    ..</a> </li>\\r\\n\\t\\t           <li> <span>03/02</span> <a href=\\'../bbs/board.php?bo_table=faq&wr_id=23&page=0\\'>질문글의 기준입니다. (게시물작성 및 신고시 참조)</a> </li>\\r\\n\\t\\t \\t\\t \\r\\n\\t\\t \\r\\n        </ul>\\r\\n        <p class=\"bg_btm\"><span class=\"hidden\">하단배경</span></p>\\r\\n      </div>\\r\\n<!-- 본문 끝 -->\\r\\n<div style=\"margin-top:10px; vertical-align:middle; text-align:center; \">\\r\\n</div>\\r\\n<div class=\"aside_sponser\" style=\"text-align:center; margin:0 auto;\" id=\\'_side_house\\'>\\r\\n   <ul>\\r\\n<script type=\\'text/javascript\\'><!--// <![CDATA[\\r\\n    /* [id4] ClienPC04 - skyscraper */\\r\\n    OA_show(4);\\r\\n// ]]> --></script><noscript><a target=\\'_blank\\' href=\\'http://pub1504.clien.net/delivery/ck.php?n=1ea2490\\'><img border=\\'0\\' alt=\\'\\' src=\\'http://pub1504.clien.net/delivery/avw.php?zoneid=4&amp;n=1ea2490\\' /></a></noscript>\\r\\n   </ul>\\r\\n   <p class=\"bg_btm\"><span class=\"hidden\">하단배경</span></p>\\r\\n</div>\\t\\r\\n\\r\\n\\r\\n      <!-- 게시물 미리보기 영역 -->\\r\\n      <div class=\"aside_preview\">\\r\\n\\r\\n\\t\\r\\n\\r\\n\\t<!-- 최신글 -->\\r\\n\\r\\n\\t<!--   <div class=\"aside_preview\">-->\\r\\n        <div class=\"preview_title\">\\r\\n          <h2>도움이 필요한 게시물</h2>\\r\\n        </div>\\r\\n\\r\\n        <ul>\\r\\n\\t\\t\\t\\r\\n\\r\\n\\r\\n\\t\\t\\t<li>\\r\\n\\t\\t\\t<span class=\"category\">[아질게]</span>\\r\\n\\t\\t\\t<span class=\"title2\">\\r\\n\\t\\t\\t\\t<a href=\\'/cs2/bbs/board.php?bo_table=kin&wr_id=3700040\\'>\\r\\n\\t\\t\\t\\t\\t아이 장난감인데 어떤캐릭턴가요?</a></span>\\r\\n\\r\\n\\t\\t\\t</li>\\r\\n\\r\\n\\t\\t\\t\\r\\n\\r\\n\\r\\n\\t\\t\\t<li>\\r\\n\\t\\t\\t<span class=\"category\">[아질게]</span>\\r\\n\\t\\t\\t<span class=\"title2\">\\r\\n\\t\\t\\t\\t<a href=\\'/cs2/bbs/board.php?bo_table=kin&wr_id=3700038\\'>\\r\\n\\t\\t\\t\\t\\t중고차 구입한지 얼마 안됐는데 긁혔어요.</a></span>\\r\\n\\r\\n\\t\\t\\t</li>\\r\\n\\r\\n\\t\\t\\t\\r\\n\\r\\n\\r\\n\\t\\t\\t<li>\\r\\n\\t\\t\\t<span class=\"category\">[아질게]</span>\\r\\n\\t\\t\\t<span class=\"title2\">\\r\\n\\t\\t\\t\\t<a href=\\'/cs2/bbs/board.php?bo_table=kin&wr_id=3700027\\'>\\r\\n\\t\\t\\t\\t\\t콩꺼풀이 씌이다?</a></span>\\r\\n\\r\\n\\t\\t\\t</li>\\r\\n\\r\\n\\t\\t\\t\\r\\n\\r\\n\\r\\n\\t\\t\\t<li>\\r\\n\\t\\t\\t<span class=\"category\">[아질게]</span>\\r\\n\\t\\t\\t<span class=\"title2\">\\r\\n\\t\\t\\t\\t<a href=\\'/cs2/bbs/board.php?bo_table=kin&wr_id=3700026\\'>\\r\\n\\t\\t\\t\\t\\t아이리버 H320 ssd 교체</a></span>\\r\\n\\r\\n\\t\\t\\t</li>\\r\\n\\r\\n\\t\\t\\t\\r\\n\\r\\n\\r\\n\\t\\t\\t<li>\\r\\n\\t\\t\\t<span class=\"category\">[아질게]</span>\\r\\n\\t\\t\\t<span class=\"title2\">\\r\\n\\t\\t\\t\\t<a href=\\'/cs2/bbs/board.php?bo_table=kin&wr_id=3700025\\'>\\r\\n\\t\\t\\t\\t\\t샤프 공기청정기.. KC-E70-W 와 KC E50-W 비교...</a></span>\\r\\n\\r\\n\\t\\t\\t</li>\\r\\n\\r\\n\\t\\t\\t\\r\\n        </ul>\\r\\n      <!--</div>-->\\r\\n\\r\\n <div class=\"preview_title\">\\r\\n          <h2>최근게시물</h2>\\r\\n          <a href=\"/cs2/bbs/new.php?gr_id=public&view=w\"><img src=\"/cs2/img/btn_aside_more.gif\" alt=\"more\" class=\"btn_aside_more\" /></a> </div>\\r\\n\\t\\t\\t<!-- sidebar/board/default.php -->\\r\\n\\r\\n        <ul>\\r\\n\\t\\t\\t\\r\\n\\r\\n\\r\\n\\t\\t\\t<li>\\r\\n\\t\\t\\t<span class=\"category\">[장터]</span>\\r\\n\\t\\t\\t<span class=\"title2\">\\r\\n\\t\\t\\t\\t<a href=\\'/cs2/bbs/board.php?bo_table=sold&wr_id=1250272\\'>\\r\\n\\t\\t\\t\\t\\tAT&T 갤럭시s5 active 카모그린 판매합니다.</a></span>\\r\\n\\r\\n\\t\\t\\t</li>\\r\\n\\r\\n\\t\\t\\t\\r\\n\\r\\n\\r\\n\\t\\t\\t<li>\\r\\n\\t\\t\\t<span class=\"category\">[모공]</span>\\r\\n\\t\\t\\t<span class=\"title2\">\\r\\n\\t\\t\\t\\t<a href=\\'/cs2/bbs/board.php?bo_table=park&wr_id=45627833\\'>\\r\\n\\t\\t\\t\\t\\t대학생들 시험기간인데 홍대정문앞에서 유세</a></span>\\r\\n\\r\\n\\t\\t\\t</li>\\r\\n\\r\\n\\t\\t\\t\\r\\n\\r\\n\\r\\n\\t\\t\\t<li>\\r\\n\\t\\t\\t<span class=\"category\">[모공]</span>\\r\\n\\t\\t\\t<span class=\"title2\">\\r\\n\\t\\t\\t\\t<a href=\\'/cs2/bbs/board.php?bo_table=park&wr_id=45627830\\'>\\r\\n\\t\\t\\t\\t\\t우리 나라 이사비용은 조건에 따라 끝없이 올라가네요 하악...</a></span>\\r\\n\\r\\n\\t\\t\\t</li>\\r\\n\\r\\n\\t\\t\\t\\r\\n\\r\\n\\r\\n\\t\\t\\t<li>\\r\\n\\t\\t\\t<span class=\"category\">[모공]</span>\\r\\n\\t\\t\\t<span class=\"title2\">\\r\\n\\t\\t\\t\\t<a href=\\'/cs2/bbs/board.php?bo_table=park&wr_id=45627817\\'>\\r\\n\\t\\t\\t\\t\\t학원 아이피타임 공유기가..</a></span>\\r\\n\\r\\n\\t\\t\\t</li>\\r\\n\\r\\n\\t\\t\\t\\r\\n\\r\\n\\r\\n\\t\\t\\t<li>\\r\\n\\t\\t\\t<span class=\"category\">[모공]</span>\\r\\n\\t\\t\\t<span class=\"title2\">\\r\\n\\t\\t\\t\\t<a href=\\'/cs2/bbs/board.php?bo_table=park&wr_id=45627811\\'>\\r\\n\\t\\t\\t\\t\\t친형 생일선물로 그냥 닥스 반지갑 샀어요ㅋㅋㅋㅋㅋ</a></span>\\r\\n\\r\\n\\t\\t\\t</li>\\r\\n\\r\\n\\t\\t\\t\\r\\n        </ul>\\r\\n     <!-- </div>-->\\r\\n<!--<div class=\"aside_preview\">-->\\n <div class=\"preview_title\">\\n\\t\\t  <h2>소모임최근글</h2>\\n\\t\\t  <a href=\"/cs2/bbs/new_cm.php?gr_id=cm&view=w\"><img src=\"/cs2/img/btn_aside_more.gif\" alt=\"more\" class=\"btn_aside_more\" /></a></div>\\n\\t\\t\\t<!-- sidebar/board/default.php -->\\n\\n        <ul>\\n\\t\\t\\t\\t\\t\\t<li>\\n\\t\\t\\t<span class=\"category\">[아이폰]</span>\\n\\t\\t\\t<span class=\"title2\">\\n\\t\\t\\t\\t<a href=\\'/cs2/bbs/board.php?bo_table=cm_iphonien&wr_id=3289449\\'>\\n\\t\\t\\t\\t\\t아이폰 se  일본판 카메라 소리</a></span>\\n\\n\\t\\t\\t</li>\\n\\n\\t\\t\\t\\t\\t\\t<li>\\n\\t\\t\\t<span class=\"category\">[덕질]</span>\\n\\t\\t\\t<span class=\"title2\">\\n\\t\\t\\t\\t<a href=\\'/cs2/bbs/board.php?bo_table=cm_ku&wr_id=211510\\'>\\n\\t\\t\\t\\t\\t마음이 외치고 싶어해 보고왔습니다.</a></span>\\n\\n\\t\\t\\t</li>\\n\\n\\t\\t\\t\\t\\t\\t<li>\\n\\t\\t\\t<span class=\"category\">[굴린당]</span>\\n\\t\\t\\t<span class=\"title2\">\\n\\t\\t\\t\\t<a href=\\'/cs2/bbs/board.php?bo_table=cm_car&wr_id=1942576\\'>\\n\\t\\t\\t\\t\\t스테빌 부싱 갈고 있습니다.</a></span>\\n\\n\\t\\t\\t</li>\\n\\n\\t\\t\\t\\t\\t\\t<li>\\n\\t\\t\\t<span class=\"category\">[골프당]</span>\\n\\t\\t\\t<span class=\"title2\">\\n\\t\\t\\t\\t<a href=\\'/cs2/bbs/board.php?bo_table=cm_golf&wr_id=70040\\'>\\n\\t\\t\\t\\t\\t이사철이 되어서... 수도권 골프8학군은 어딜까요?</a></span>\\n\\n\\t\\t\\t</li>\\n\\n\\t\\t\\t\\t\\t\\t<li>\\n\\t\\t\\t<span class=\"category\">[콘솔당]</span>\\n\\t\\t\\t<span class=\"title2\">\\n\\t\\t\\t\\t<a href=\\'/cs2/bbs/board.php?bo_table=cm_console&wr_id=25563\\'>\\n\\t\\t\\t\\t\\t아무래도 사기 당한거 같습니다. 구매글 올리지 맙시다 ㅠㅠ</a></span>\\n\\n\\t\\t\\t</li>\\n\\n\\t\\t\\t\\n        </ul>\\n      <!--</div>-->\\r\\n\\t<!-- hit 수 정렬 -->\\r\\n\\t <!--내글 반응 새로 만든것-->\\r\\n\\t<!-- 기존 불당팩 -->\\r\\n\\r\\n  </div>\\r\\n<!-- clien_all_right_under_200x200 -->\\r\\n<div>\\r\\n<script type=\\'text/javascript\\'><!--// <![CDATA[\\r\\n    /* [id6] ClienPC99 - right under 200x200 */\\r\\n    OA_show(6);\\r\\n// ]]> --></script><noscript><a target=\\'_blank\\' href=\\'http://pub1504.clien.net/delivery/ck.php?n=4d213cd\\'><img border=\\'0\\' alt=\\'\\' src=\\'http://pub1504.clien.net/delivery/avw.php?zoneid=6&amp;n=4d213cd\\' /></a></noscript>\\r\\n\\r\\n</div>\\r\\n\\r\\n</div>\\r\\n\\n<!-- 사용스킨 : tinymce -->\\n<script type=\"text/javascript\" src=\"../js/wrest.js\"></script>\\n\\n<!-- 마우스를 더블클릭시 맨위/맨아래로 이동하기 http://www.sir.co.kr/bbs/board.php?bo_table=g4_tiptech&wr_id=12611 -->\\n<SCRIPT>topbottom()</SCRIPT>\\n\\n<!-- 새창 대신 사용하는 iframe -->\\n<iframe width=0 height=0 name=\\'hiddenframe\\' style=\\'display:none;\\'></iframe>\\n\\n\\n<script>\\nvar page = \"1\";\\nvar keydata = [];\\nkeydata[\\'q\\'] =\\tg4_path +\"/bbs/board.php?bo_table=kin\";\\t//kin\\tq\\nkeydata[\\'b\\'] =\\tg4_path +\"/bbs/board.php?bo_table=hongbo\";//promo\\tb\\nkeydata[\\'c\\'] =\\tg4_path +\"/bbs/board.php?bo_table=coupon\";//coupon\\tc\\nkeydata[\\'e\\'] =\\tg4_path +\"/bbs/board.php?bo_table=cm_main\";//cm_main e\\nkeydata[\\'f\\'] =\\tg4_path +\"/bbs/board.php?bo_table=park\";//park\\tf\\nkeydata[\\'h\\'] =\\t\"/index.php\";//home\\th\\nkeydata[\\'i\\'] =\\tg4_path +\"/bbs/board.php?bo_table=image\";//image\\ti\\nkeydata[\\'j\\'] =\\tg4_path +\"/bbs/board.php?bo_table=jirum\";//jirum\\tj\\nkeydata[\\'l\\'] =\\tg4_path +\"/bbs/board.php?bo_table=lecture\";//lecture\\tl\\nkeydata[\\'m\\'] =\\tg4_path +\"/cm_index.php\";\\t//all_cm\\tm\\nkeydata[\\'n\\'] =\\tg4_path +\"/bbs/board.php?bo_table=news\";\\t//news\\tn\\nkeydata[\\'p\\'] =\\tg4_path +\"/bbs/board.php?bo_table=pds\";//pds\\tp\\nkeydata[\\'s\\'] =\\tg4_path +\"/bbs/board.php?bo_table=sold\";\\t//\\tsold\\ts\\nkeydata[\\'t\\'] =\\tg4_path +\"/bbs/board.php?bo_table=useful\";//\\tuseful\\tt\\nkeydata[\\'u\\'] =\\tg4_path +\"/bbs/board.php?bo_table=use\";//\\tuse\\tu\\n\\n// mapping shortcut by Jun ..\\nkeydata[\\'0\\'] =\\tg4_path +\"/bbs/board.php?bo_table=cm_coffee\";\\t//cm_book\\t0\\nkeydata[\\'1\\'] =\\tg4_path +\"/bbs/board.php?bo_table=cm_iphonien\";\\t//cm_iphonien1\\nkeydata[\\'2\\'] =\\tg4_path +\"/bbs/board.php?bo_table=cm_car\";\\t//cm_dia\\t2\\nkeydata[\\'3\\'] =\\tg4_path +\"/bbs/board.php?bo_table=cm_bike\";\\t//cm_mac\\t3\\nkeydata[\\'4\\'] =\\tg4_path +\"/bbs/board.php?bo_table=cm_dia\";\\t//cm_nokien\\t4\\nkeydata[\\'5\\'] =\\tg4_path +\"/bbs/board.php?bo_table=cm_gym\";\\t//cm_bb\\t\\t5\\nkeydata[\\'6\\'] =\\tg4_path +\"/bbs/board.php?bo_table=cm_lego\";\\t//cm_leather6\\nkeydata[\\'7\\'] =\\tg4_path +\"/bbs/board.php?bo_table=cm_baseball\";\\t//cm_wow\\t7\\nkeydata[\\'8\\'] =\\tg4_path +\"/bbs/board.php?bo_table=cm_mac\";\\t//cm_baby\\t8\\nkeydata[\\'9\\'] =\\tg4_path +\"/bbs/board.php?bo_table=cm_andro\";\\t//cm_girl\\t9\\n\\n\\n\\tif(page != 1) var prepage = parseInt(page) - 1;\\n\\telse prepage = page;\\n\\n\\t\\tvar nextpage  = parseInt(page) + 1;\\n\\t\\tvar prevlisthref =\\tg4_path +\"/bbs/board.php?bo_table=news&page=\"+ prepage;\\n\\t\\tvar nextlisthref =\\tg4_path +\"/bbs/board.php?bo_table=news&page=\"+ nextpage;\\n\\t\\tkeydata[\\'<\\'] =\\tprevlisthref;\\n\\t\\tkeydata[\\'>\\'] =\\tnextlisthref;\\n\\nfunction GetKeyStroke(KeyStroke) {\\n\\n\\tisNetscape = (document.layers);\\n\\tisIe = (document.all);\\n\\tif (isIe)\\n\\t\\ttagName = event.srcElement.tagName;\\n\\telse\\n\\t\\ttagName = KeyStroke.target.tagName;\\n\\n\\tif ( (tagName != \\'INPUT\\') && (tagName != \\'TEXTAREA\\') && (tagName != \\'SELECT\\' ) ) {\\n\\t\\teventChooser = (isIe) ? event.keyCode : KeyStroke.which;\\n\\tif (!isIe)\\n\\t\\tif ( KeyStroke.metaKey == true ) {\\n\\t\\t\\tif ( KeyStroke.shiftKey == false )\\n\\t\\t\\t\\treturn;\\n\\t\\t}\\n\\telse if ( KeyStroke.ctrlKey == true ) {\\n\\t\\treturn;\\n\\t}\\n\\n\\twhich = String.fromCharCode(eventChooser);\\n\\tfor (var i in keydata)\\n\\t\\tif (which == i) window.location = keydata[i]/* +\"&dummy=\"+notime*/;\\n\\t}\\n}\\n\\nfunction pc2mobileCookie() {\\n\\tdocument.cookie=\\'M_P2M=Y;expires=;path=/;domain=.clien.net\\';\\n}\\n\\ndocument.onkeypress = GetKeyStroke;\\n\\nif (g4_is_mobile != \\'\\') {\\ndocument.write(\\'<a href=\"http://m.clien.net\" onclick=\"javascript:pc2mobileCookie()\"><img src=\"/cs2/img/tomobile.gif\"></a>\\');\\n}\\n\\n-->\\n</script>\\n\\n<!--ddn -->\\n<script type=\"text/javascript\" src=\"//s1.daumcdn.net/svc/original/U03/commonjs/ddn/common/js/ad.min.js\"></script>\\n\\n<script type=\"text/javascript\">\\nvar target = document.getElementsByName(\\'target_resize_image[]\\');\\nvar imageWidth = 728;\\n\\nif (target == 23) {\\n\\tfor(i=0; i<target.length; i++) {\\n\\t\\t// 이미지 폭이 테이블 폭보다 크다면 테이블폭에 맞춘다\\n\\t\\tif(target[i].width >= imageWidth) {\\n\\t\\t\\t// 만약 이미지 로딩 전이라면 좀더 기다려 줌\\n\\t\\t\\tvar retry = 0;\\n\\t\\t\\twhile( retry < 5 ) {\\n\\t\\t\\t\\tif(target[i].complete == true)\\n\\t\\t\\t\\t\\tbreak;\\n\\t\\t\\t\\tretry = retry + 1;\\n\\t\\t\\t\\tsleep(40);\\n\\t\\t\\t}\\n\\t\\t\\timageHeight = parseFloat(target[i].width / target[i].height);\\n\\t\\t\\ttarget[i].width = imageWidth;\\n\\t\\t\\ttarget[i].height = parseInt(imageWidth / imageHeight);\\n\\n\\t\\t\\t// 스타일에 적용된 이미지의 폭과 높이를 삭제한다.\\n\\t\\t\\ttarget[i].style.width = \\'\\';\\n\\t\\t\\ttarget[i].style.height = \\'\\';\\n\\t\\t}\\n\\t}\\n}\\n\\n</script>\\n</body>\\n</html>\\n\\n<!--\\nold article:&o=modern -->\\n'"
      ]
     },
     "execution_count": 51,
     "metadata": {},
     "output_type": "execute_result"
    }
   ],
   "source": [
    "import lxml.html\n",
    "root = lxml.html.fromstring(response.text) #.text : encoding 바뀐것. .content : raw text\n",
    "\n",
    "## encoding 안 바뀔 경우. \n",
    "response.content.decode('utf8')\n"
   ]
  },
  {
   "cell_type": "code",
   "execution_count": 52,
   "metadata": {
    "collapsed": false
   },
   "outputs": [
    {
     "name": "stdout",
     "output_type": "stream",
     "text": [
      "[공지] 이 게시판에 리플 작성시 포인트가 소진됩니다. || ../bbs/board.php?bo_table=news&wr_id=1488647\n",
      "[필독] 새로운 소식 게시판 이용규칙  -  20150728 최종수정 || ../bbs/board.php?bo_table=news&wr_id=962831\n",
      "강변 테크노마트, 페이백 판매 다시 단속한다 || ../bbs/board.php?bo_table=news&wr_id=2151668\n",
      "(루머) 안드로이드 N 프리뷰 비 넥서스기기에도 배포 예정? || ../bbs/board.php?bo_table=news&wr_id=2151666\n",
      "SpaceX, 팔콘 9 로켓 드론 바지선 해상착륙 성공 동영상 4K로 공개 || ../bbs/board.php?bo_table=news&wr_id=2151632\n",
      "\"아들 출산 어려워\" 네안데르탈인 사라진 이유 || ../bbs/board.php?bo_table=news&wr_id=2151587\n",
      "[루머] 분석가: 애플워치 2 올 6월 WWDC에서 공개, 최대 40%까지 더 얇아질 것 || ../bbs/board.php?bo_table=news&wr_id=2151534\n",
      "마이크로소프트. Visual Studio \"15\" 프리뷰 배포 || ../bbs/board.php?bo_table=news&wr_id=2151481\n",
      "지문 인식 스캐너를 내장한 '파나소닉 엘루가 아크' || ../bbs/board.php?bo_table=news&wr_id=2151477\n",
      "라그나로크 모바일 출시가 얼마 안남은듯. 티저 공개 || ../bbs/board.php?bo_table=news&wr_id=2151469\n",
      "블랙베리CEO, 2개의 중가형 안드로이드 스마트폰 준비중 || ../bbs/board.php?bo_table=news&wr_id=2151465\n",
      "루머)HTC 10에는 전면OIS카메라 센서가 탑재? || ../bbs/board.php?bo_table=news&wr_id=2151453\n",
      "마이크로소프트 에지브라우저에서도 플래시 단속 시작 || ../bbs/board.php?bo_table=news&wr_id=2151442\n",
      "LG G5, 판매 첫 주인 4월 1주차 주간 스마트폰 판매량 1, 4, 5위로 진입 || ../bbs/board.php?bo_table=news&wr_id=2151370\n",
      "구글, 안드로이드 주언어로 스위프트 고려중 || ../bbs/board.php?bo_table=news&wr_id=2151358\n",
      "인도에서 우버 운전자가 승객이 쏜 총에 맞고 숨져 || ../bbs/board.php?bo_table=news&wr_id=2151345\n",
      "갤럭시S7 카메라 ‘왜곡’ 논란…“하드웨어 문제 가능성” || ../bbs/board.php?bo_table=news&wr_id=2151324\n",
      "‘아이폰6 불법 보조금 대란’ 이통3사·임원 기소 || ../bbs/board.php?bo_table=news&wr_id=2151319\n",
      "이달 서울서 영업하는 '광대은행'…애플페이 서비스 시작 || ../bbs/board.php?bo_table=news&wr_id=2151292\n",
      "영국 최대은행 바클레이도 애플페이 서비스 합류 || ../bbs/board.php?bo_table=news&wr_id=2151290\n",
      "루머)갤럭시노트6는 IP68방수방진에 홍채인식센서 탑재? || ../bbs/board.php?bo_table=news&wr_id=2151240\n",
      "애플, 이스라엘에 첫 공식 스토어 오픈 예정 || ../bbs/board.php?bo_table=news&wr_id=2151224\n",
      "애플, 사이프러스에 공식 스토어 오픈 예정 || ../bbs/board.php?bo_table=news&wr_id=2151213\n",
      "저커버그의 고민…\"페북에 사생활 공유를 안하네\" || ../bbs/board.php?bo_table=news&wr_id=2151172\n",
      "어도비, 랜섬웨어 공격 관련 긴급 플래시 보안 업데이트 배포 || ../bbs/board.php?bo_table=news&wr_id=2151092\n",
      "MS, iOS용 허브 키보드 앱 출시 || ../bbs/board.php?bo_table=news&wr_id=2151082\n",
      "15년소식)더 워킹데드 시즌1 한국어 음성 패치 등장 || ../bbs/board.php?bo_table=news&wr_id=2151080\n",
      "Galaxy Note2용 스마트폰 배터리 가품 회수 및 환불안내 || ../bbs/board.php?bo_table=news&wr_id=2151072\n",
      "폰아레나, 애플 iPhone SE 리뷰 게재 || ../bbs/board.php?bo_table=news&wr_id=2151033\n",
      "플웨즈, LG G5 밝기 저하 이슈 제기해 || ../bbs/board.php?bo_table=news&wr_id=2151028\n",
      "공정위, 수리업체에 `횡포` 애플 제재…불공정약관 자진시정한다 || ../bbs/board.php?bo_table=news&wr_id=2151015\n",
      "10분이면 송 씨만큼 한다...암호 무력화 '리눅스 USB'란 무엇 || ../bbs/board.php?bo_table=news&wr_id=2151001\n"
     ]
    }
   ],
   "source": [
    "for node in root.xpath('.//td[@class=\"post_subject\"]/a'):\n",
    "    print(node.text_content(), '||', node.attrib['href'])"
   ]
  },
  {
   "cell_type": "code",
   "execution_count": 53,
   "metadata": {
    "collapsed": false
   },
   "outputs": [
    {
     "data": {
      "text/plain": [
       "'http://www.cwi.nl/%7Eguido/FAQ.html'"
      ]
     },
     "execution_count": 53,
     "metadata": {},
     "output_type": "execute_result"
    }
   ],
   "source": [
    "## 상대주소를 절대주소로 만들기. => 내장 라이브러리\n",
    "## \n",
    "from urllib.parse import urljoin\n",
    "urljoin('http://www.cwi.nl/%7Eguido/Python.html', 'FAQ.html')"
   ]
  },
  {
   "cell_type": "code",
   "execution_count": 54,
   "metadata": {
    "collapsed": false
   },
   "outputs": [
    {
     "name": "stdout",
     "output_type": "stream",
     "text": [
      "[공지] 이 게시판에 리플 작성시 포인트가 소진됩니다. http://clien.net/cs2/bbs/board.php?bo_table=news&wr_id=1488647\n",
      "\n",
      "\t\t\t\t\t\t\n",
      "\t\t   \n",
      "\t운영자입니다.\n",
      "\n",
      "\t \n",
      "\n",
      "\t새소식게시판에 리플 작성시 포인트가 50점 소진되도록 적용하였습니다.\n",
      "\n",
      "\t \n",
      "\n",
      "\t보다 신중하게 리플을 작성할 수 있기를 기대합니다.... 만\n",
      "\n",
      "\t \n",
      "\n",
      "\t의도대로 될지는 상황을 좀 더 지켜보도록 하겠습니다.\n",
      "\n",
      "\t \n",
      "\n",
      "\t \n",
      "\n",
      "\t리플작성시 한번 더 생각하고 신중하게 의견을 개진해주셨으면 합니다.\n",
      "\n",
      "\t \n",
      "\n",
      "\t* 출처 : 나\n",
      "\n",
      "\n",
      "\n",
      "\n",
      "\t\t    \n",
      "\t\t\t\t'이상'은 밤하늘의 별과 같아서...\n",
      "눈 앞에 있어도 손으로는 잡을 수 없는 건가 봅니다.\n",
      "\n",
      "언젠간...\n",
      "잡을수 있기를...\n",
      "\t\t\t\n",
      "        \n",
      "        \t\t\n",
      "\t\t\n",
      "        \n",
      "                                \n",
      "\t\t\n",
      "        \t\t\t\n"
     ]
    }
   ],
   "source": [
    "board_url = 'http://clien.net/cs2/bbs/board.php?bo_table=news'\n",
    "\n",
    "for node in root.xpath('.//td[@class=\"post_subject\"]/a'):\n",
    "    name = node.text_content()\n",
    "    url = node.attrib['href']\n",
    "    url_original = urljoin(board_url, url) ## URL JOIN\n",
    "    print(name, url_original)\n",
    "    \n",
    "    post = requests.get(url_original)\n",
    "    post.encoding = 'utf8'\n",
    "    post_root = lxml.html.fromstring(post.text)\n",
    "    본문 = post_root.xpath('.//div[@id=\"resContents\"]')[0]\n",
    "    print(본문.text_content())\n",
    "    break"
   ]
  },
  {
   "cell_type": "code",
   "execution_count": 55,
   "metadata": {
    "collapsed": false
   },
   "outputs": [
    {
     "data": {
      "text/plain": [
       "'http://clien.net/cs2/bbs/board.php?bo_table=news&wr_id=1488647'"
      ]
     },
     "execution_count": 55,
     "metadata": {},
     "output_type": "execute_result"
    }
   ],
   "source": [
    "url_original\n",
    "##lxml.html.fromstring(post.text).xpath('.//div[@id=\"resContents]')"
   ]
  },
  {
   "cell_type": "code",
   "execution_count": 64,
   "metadata": {
    "collapsed": true
   },
   "outputs": [],
   "source": [
    "## 함수 생성\n",
    "def extract(url,path):\n",
    "    res = requests.get(url)\n",
    "    res.encoding = 'utf8'\n",
    "    root = lxml.html.fromstring(post.text)\n",
    "    return post_root.xpath(path)"
   ]
  },
  {
   "cell_type": "code",
   "execution_count": 65,
   "metadata": {
    "collapsed": false
   },
   "outputs": [
    {
     "data": {
      "text/plain": [
       "[<Element div at 0x50dab38>]"
      ]
     },
     "execution_count": 65,
     "metadata": {},
     "output_type": "execute_result"
    }
   ],
   "source": [
    "extract(url_original,'.//div[@id=\"resContents\"]')"
   ]
  },
  {
   "cell_type": "code",
   "execution_count": 58,
   "metadata": {
    "collapsed": false
   },
   "outputs": [
    {
     "data": {
      "text/plain": [
       "'ddd2'"
      ]
     },
     "execution_count": 58,
     "metadata": {},
     "output_type": "execute_result"
    }
   ],
   "source": [
    "'ddd'+str(2)"
   ]
  },
  {
   "cell_type": "code",
   "execution_count": 71,
   "metadata": {
    "collapsed": false
   },
   "outputs": [
    {
     "ename": "TypeError",
     "evalue": "write() takes exactly one argument (0 given)",
     "output_type": "error",
     "traceback": [
      "\u001b[1;31m---------------------------------------------------------------------------\u001b[0m",
      "\u001b[1;31mTypeError\u001b[0m                                 Traceback (most recent call last)",
      "\u001b[1;32m<ipython-input-71-2feae5603dff>\u001b[0m in \u001b[0;36m<module>\u001b[1;34m()\u001b[0m\n\u001b[0;32m      2\u001b[0m \u001b[1;33m\u001b[0m\u001b[0m\n\u001b[0;32m      3\u001b[0m \u001b[0mf\u001b[0m \u001b[1;33m=\u001b[0m \u001b[0mopen\u001b[0m\u001b[1;33m(\u001b[0m\u001b[1;34m'clien.txt'\u001b[0m\u001b[1;33m,\u001b[0m \u001b[1;34m'w'\u001b[0m\u001b[1;33m)\u001b[0m\u001b[1;33m\u001b[0m\u001b[0m\n\u001b[1;32m----> 4\u001b[1;33m \u001b[0mf\u001b[0m\u001b[1;33m.\u001b[0m\u001b[0mwrite\u001b[0m\u001b[1;33m(\u001b[0m\u001b[1;33m)\u001b[0m\u001b[1;33m\u001b[0m\u001b[0m\n\u001b[0m\u001b[0;32m      5\u001b[0m \u001b[0mf\u001b[0m\u001b[1;33m.\u001b[0m\u001b[0mclose\u001b[0m\u001b[1;33m(\u001b[0m\u001b[1;33m)\u001b[0m\u001b[1;33m\u001b[0m\u001b[0m\n\u001b[0;32m      6\u001b[0m \u001b[1;33m\u001b[0m\u001b[0m\n",
      "\u001b[1;31mTypeError\u001b[0m: write() takes exactly one argument (0 given)"
     ]
    }
   ],
   "source": [
    "## file save\n",
    "\n",
    "f = open('clien.txt', 'w')\n",
    "f.write()\n",
    "f.close()\n",
    "\n",
    "## 자동으로 file close\n",
    "\n",
    "with open('clien2.txt', 'w') as f:\n",
    "    w = csv.writer(f)\n",
    "    f.write('abbcccccccc')"
   ]
  },
  {
   "cell_type": "code",
   "execution_count": null,
   "metadata": {
    "collapsed": true
   },
   "outputs": [],
   "source": []
  }
 ],
 "metadata": {
  "kernelspec": {
   "display_name": "Python 3",
   "language": "python",
   "name": "python3"
  },
  "language_info": {
   "codemirror_mode": {
    "name": "ipython",
    "version": 3
   },
   "file_extension": ".py",
   "mimetype": "text/x-python",
   "name": "python",
   "nbconvert_exporter": "python",
   "pygments_lexer": "ipython3",
   "version": "3.5.1"
  }
 },
 "nbformat": 4,
 "nbformat_minor": 0
}

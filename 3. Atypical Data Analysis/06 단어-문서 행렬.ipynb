{
 "cells": [
  {
   "cell_type": "markdown",
   "metadata": {},
   "source": [
    "# 네이버 뉴스 스크래핑"
   ]
  },
  {
   "cell_type": "code",
   "execution_count": 3,
   "metadata": {
    "collapsed": true
   },
   "outputs": [],
   "source": [
    "import requests"
   ]
  },
  {
   "cell_type": "code",
   "execution_count": 4,
   "metadata": {
    "collapsed": true
   },
   "outputs": [],
   "source": [
    "import lxml.html"
   ]
  },
  {
   "cell_type": "code",
   "execution_count": 5,
   "metadata": {
    "collapsed": true
   },
   "outputs": [],
   "source": [
    "import csv"
   ]
  },
  {
   "cell_type": "code",
   "execution_count": 6,
   "metadata": {
    "collapsed": true
   },
   "outputs": [],
   "source": [
    "url = 'http://news.naver.com/main/search/search.nhn?query=%BA%F2%B5%A5%C0%CC%C5%CD&ie=MS949&x=0&y=0&page={}'"
   ]
  },
  {
   "cell_type": "code",
   "execution_count": 7,
   "metadata": {
    "collapsed": false
   },
   "outputs": [],
   "source": [
    "with open('news.csv', 'w', encoding='utf8') as f:\n",
    "    writer = csv.writer(f)\n",
    "    for i in range(1, 21):\n",
    "        res = requests.get(url.format(i))  # 기사 목록\n",
    "        element = lxml.html.fromstring(res.text)\n",
    "        for news_link in element.xpath('.//a[@class=\"go_naver\"]'):\n",
    "            try:\n",
    "                res = requests.get(news_link.attrib['href'])   # 네이버 뉴스 링크\n",
    "                news = lxml.html.fromstring(res.text)\n",
    "                body = news.xpath('.//div[@id=\"articleBodyContents\"]')[0]\n",
    "                writer.writerow([body.text_content()])\n",
    "            except:\n",
    "                continue"
   ]
  },
  {
   "cell_type": "markdown",
   "metadata": {},
   "source": [
    "# 스크래핑된 뉴스 읽어오기"
   ]
  },
  {
   "cell_type": "code",
   "execution_count": 1,
   "metadata": {
    "collapsed": true
   },
   "outputs": [],
   "source": [
    "import csv"
   ]
  },
  {
   "cell_type": "code",
   "execution_count": 8,
   "metadata": {
    "collapsed": false
   },
   "outputs": [],
   "source": [
    "news = []\n",
    "with open('news.csv', encoding='utf8', newline='\\r\\n') as f:\n",
    "    reader = csv.reader(f)\n",
    "    for row in reader:\n",
    "        news.append(row[0])"
   ]
  },
  {
   "cell_type": "code",
   "execution_count": 9,
   "metadata": {
    "collapsed": false
   },
   "outputs": [
    {
     "data": {
      "text/plain": [
       "\"\\r\\r\\n\\t\\r\\r\\n\\t\\r\\r\\n\\t이상은 기자의 Global insight[ 이상은 기자  ] 나이팅게일은 크림전쟁(1854~1856)의 군인 사망원인 가운데 감염성 질병으로 인한 사망(하늘색 부분)이 매우 많으며(오른쪽 그래프), 감염을 줄이기 위한 조치를 취한 뒤 사망률이 크게 낮아졌음(왼쪽 그래프)을 보여주기 위해 데이터를 수집·분석해 두 개의 장미꽃 형태 다이어그램을 만들었다.구글 인공지능(AI) 알파고와 이세돌 9단의 바둑 대국 이후 빅데이터에 대한 사회적 관심이 부쩍 늘어났다. 다량의 데이터를 잘 분석한 결과가 아주 뛰어난 인간이 직접 판단한 것보다 더 나을 수 있다는 점을 실감했기 때문일 것이다. ‘알파고 쇼크’를 받은 기업 최고경영자(CEO)들 가운데서도 빅데이터를 활용해 마케팅 전략을 짜보라거나 수익성 개선방안을 도출하라고 지시하는 사례가 증가하고 있다.그런데 대부분은 직원 역량 부족을 탓하며 실망하는 일이 부지기수다. 잘 보면 직원이 아니라 CEO가 데이터 기반 경영의 본질을 제대로 이해하지 못한 경우가 흔하다.따져보자. 많은 CEO가 빅데이터 관련 태스크포스(TF)를 꾸리면서 정보기술(IT) 담당 부서장 등을 책임자로 임명한다. 그는 마케팅이나 영업과 같은 부서에 고객 데이터를 비롯해 여러 자료를 요청해 보지만 통일성이 없거나 오래된 엑셀파일 뭉치를 받는 일이 흔하다. 의미 있는 데이터를 실시간으로, 통일성 있게, 충분한 양을 확보하려면 현업부서에서 적극적으로 시간과 노력을 들여 협조해야 하는데, 대개는 ‘남의 일’일 뿐이다.전문가도 없고, 예산도 배정되지 않는다. 외부에 일을 맡겨 보려 해도 목표와 방향이 뚜렷하지 않은 프로젝트라 지시가 갈팡질팡한다. 화려한 파워포인트 보고서와 달리 알맹이는 부실하다. 빅데이터를 활용하는 기반을 갖추자고 해서 정보를 입력할 수 있는 칸이 잔뜩 있는 무슨 온라인 플랫폼을 만든다. 그러나 현장에선 시간과 노력을 투자할 이유를 못 느낀다. 용두사미로 끝난다. CEO의 실망은 더 커진다.문제는 ‘빅’데이터가 아니라 데이터다. 어떤 데이터를 어떻게 수집해서 무엇에 쓰겠다는 목적이 있어야 한다. 막연하게 고도의 추천 알고리즘을 운영하고 있는 페이스북이나 아마존, 혹은 산업현장에서 실시간 데이터를 받는 제너럴일렉트릭(GE)처럼 하겠노라고 생각하면 헛손질하기 십상이다.데이터 기반 경영의 가장 좋은 사례로 학계에서는 흔히 나이팅게일을 꼽는다. 백의의 천사로 불리는 그는 1859년 영국 왕립통계학회(RSS)의 첫 여성 회원이 된 통계학자다. 크림전쟁에서 전사한 군인의 사망 원인을 일목요연하게 분석해서 조각난 원그래프로 제시한 그의 차트는 지금 봐도 세련됐다. 군인들이 전투에서 다쳐서가 아니라 비위생적인 병원에서 감염돼 죽어가고 있으며, 위생 상태를 개선하니 사망자가 감소했다는 메시지를 한눈에 강력하게 보여주고 있다. 이 차트를 이용해 나이팅게일은 병원의 위생 상태 개선에 사회적, 국가적 자원을 써야 할 필요를 설득할 수 있었다.빅데이터는 양이 많은 데이터일 뿐이다. 데이터 기반 경영의 본질은 나이팅게일 이후 150여년간 전혀 바뀐 것이 없다. 좋은 질문을 던지고, 질문에 답할 수 있는 데이터를 성실하게 모아서, 그 결과가 설령 일반적인 통념에 위배되더라도 객관적으로 받아들이는 태도가 필요하다. 필요한 것은 비싼 장비나 외부 전문가가 아니라 데이터를 이해할 준비가 된 CEO다.이상은 기자 selee@hankyung.com[한경닷컴 바로가기] [스내커] [한경+ 구독신청] ⓒ '성공을 부르는 습관' 한경닷컴, 무단 전재 및 재배포 금지\\r\\r\\n\\t\\r\\r\\n\\t\""
      ]
     },
     "execution_count": 9,
     "metadata": {},
     "output_type": "execute_result"
    }
   ],
   "source": [
    "news[0]"
   ]
  },
  {
   "cell_type": "markdown",
   "metadata": {},
   "source": [
    "# 형태소 분석기"
   ]
  },
  {
   "cell_type": "code",
   "execution_count": 15,
   "metadata": {
    "collapsed": true
   },
   "outputs": [],
   "source": [
    "from konlpy.tag import Twitter"
   ]
  },
  {
   "cell_type": "code",
   "execution_count": 16,
   "metadata": {
    "collapsed": false
   },
   "outputs": [],
   "source": [
    "tagger = Twitter()"
   ]
  },
  {
   "cell_type": "markdown",
   "metadata": {},
   "source": [
    "# Term-Document Matrix 만들기"
   ]
  },
  {
   "cell_type": "markdown",
   "metadata": {},
   "source": [
    "[CountVectorizer 문서](http://scikit-learn.org/stable/modules/generated/sklearn.feature_extraction.text.CountVectorizer.html)"
   ]
  },
  {
   "cell_type": "code",
   "execution_count": 17,
   "metadata": {
    "collapsed": false
   },
   "outputs": [],
   "source": [
    "from sklearn.feature_extraction.text import CountVectorizer"
   ]
  },
  {
   "cell_type": "code",
   "execution_count": 18,
   "metadata": {
    "collapsed": false
   },
   "outputs": [],
   "source": [
    "cv = CountVectorizer(tokenizer=tagger.nouns, max_features=50)"
   ]
  },
  {
   "cell_type": "code",
   "execution_count": 19,
   "metadata": {
    "collapsed": false
   },
   "outputs": [],
   "source": [
    "tdf = cv.fit_transform(news)"
   ]
  },
  {
   "cell_type": "code",
   "execution_count": 21,
   "metadata": {
    "collapsed": false
   },
   "outputs": [
    {
     "data": {
      "text/plain": [
       "<213x50 sparse matrix of type '<class 'numpy.int64'>'\n",
       "\twith 4610 stored elements in Compressed Sparse Row format>"
      ]
     },
     "execution_count": 21,
     "metadata": {},
     "output_type": "execute_result"
    }
   ],
   "source": [
    "tdf"
   ]
  },
  {
   "cell_type": "code",
   "execution_count": 24,
   "metadata": {
    "collapsed": false
   },
   "outputs": [
    {
     "data": {
      "text/plain": [
       "matrix([[ 1,  0,  4, ...,  1,  0,  0],\n",
       "        [ 2,  1,  3, ...,  3,  0,  0],\n",
       "        [ 3,  4,  3, ...,  2,  0,  0],\n",
       "        ..., \n",
       "        [ 0,  0,  0, ...,  1,  0,  0],\n",
       "        [ 0,  0, 37, ...,  1,  0,  0],\n",
       "        [ 0,  0,  8, ...,  0,  0,  0]], dtype=int64)"
      ]
     },
     "execution_count": 24,
     "metadata": {},
     "output_type": "execute_result"
    }
   ],
   "source": [
    "tdf.todense() # 화면에 표현 가능하도록 형태 변환"
   ]
  },
  {
   "cell_type": "markdown",
   "metadata": {},
   "source": [
    "# 단어 목록"
   ]
  },
  {
   "cell_type": "code",
   "execution_count": 25,
   "metadata": {
    "collapsed": false
   },
   "outputs": [],
   "source": [
    "words = cv.get_feature_names()"
   ]
  },
  {
   "cell_type": "code",
   "execution_count": 26,
   "metadata": {
    "collapsed": false
   },
   "outputs": [
    {
     "data": {
      "text/plain": [
       "['개',\n",
       " '거래',\n",
       " '것',\n",
       " '결과',\n",
       " '고객',\n",
       " '기반',\n",
       " '기술',\n",
       " '기업',\n",
       " '기자',\n",
       " '날',\n",
       " '년',\n",
       " '뉴스',\n",
       " '뉴시스',\n",
       " '단계',\n",
       " '대상자',\n",
       " '대해',\n",
       " '데이터',\n",
       " '등',\n",
       " '만',\n",
       " '매우',\n",
       " '멜론',\n",
       " '명',\n",
       " '및',\n",
       " '복지',\n",
       " '분석',\n",
       " '빅데이터',\n",
       " '산업',\n",
       " '상품',\n",
       " '서비스',\n",
       " '서울',\n",
       " '세상',\n",
       " '수',\n",
       " '수준',\n",
       " '시',\n",
       " '시장',\n",
       " '심리',\n",
       " '억원',\n",
       " '월',\n",
       " '이',\n",
       " '일',\n",
       " '전',\n",
       " '정보',\n",
       " '종목',\n",
       " '지수',\n",
       " '지원',\n",
       " '최근',\n",
       " '통해',\n",
       " '투자',\n",
       " '티켓',\n",
       " '팁코']"
      ]
     },
     "execution_count": 26,
     "metadata": {},
     "output_type": "execute_result"
    }
   ],
   "source": [
    "words"
   ]
  },
  {
   "cell_type": "markdown",
   "metadata": {},
   "source": [
    "# 한 글자 짜리 단어 빼기"
   ]
  },
  {
   "cell_type": "code",
   "execution_count": 27,
   "metadata": {
    "collapsed": true
   },
   "outputs": [],
   "source": [
    "def get_word(doc):\n",
    "    nouns = tagger.nouns(doc)\n",
    "    return [noun for noun in nouns if len(noun) > 1]"
   ]
  },
  {
   "cell_type": "code",
   "execution_count": 28,
   "metadata": {
    "collapsed": true
   },
   "outputs": [],
   "source": [
    "cv = CountVectorizer(tokenizer=get_word, max_features=50)"
   ]
  },
  {
   "cell_type": "code",
   "execution_count": 29,
   "metadata": {
    "collapsed": false
   },
   "outputs": [],
   "source": [
    "tdf = cv.fit_transform(news)"
   ]
  },
  {
   "cell_type": "code",
   "execution_count": 30,
   "metadata": {
    "collapsed": false
   },
   "outputs": [],
   "source": [
    "words = cv.get_feature_names()"
   ]
  },
  {
   "cell_type": "code",
   "execution_count": 206,
   "metadata": {
    "collapsed": false
   },
   "outputs": [
    {
     "data": {
      "text/plain": [
       "['가장',\n",
       " '개인',\n",
       " '거래',\n",
       " '결과',\n",
       " '고객',\n",
       " '긍정',\n",
       " '기반',\n",
       " '기술',\n",
       " '기업',\n",
       " '기자',\n",
       " '뉴스',\n",
       " '뉴시스',\n",
       " '단계',\n",
       " '대상자',\n",
       " '대해',\n",
       " '데이터',\n",
       " '레벨',\n",
       " '매우',\n",
       " '멜론',\n",
       " '모바일',\n",
       " '복지',\n",
       " '분기',\n",
       " '분석',\n",
       " '빅데이터',\n",
       " '사업',\n",
       " '산업',\n",
       " '삼성',\n",
       " '상품',\n",
       " '서비스',\n",
       " '서울',\n",
       " '세상',\n",
       " '수준',\n",
       " '시장',\n",
       " '실적',\n",
       " '심리',\n",
       " '약간',\n",
       " '억원',\n",
       " '오전',\n",
       " '오후',\n",
       " '정보',\n",
       " '종목',\n",
       " '지수',\n",
       " '지원',\n",
       " '최근',\n",
       " '코스콤',\n",
       " '코스피',\n",
       " '통해',\n",
       " '투자',\n",
       " '팁코',\n",
       " '한국']"
      ]
     },
     "execution_count": 206,
     "metadata": {},
     "output_type": "execute_result"
    }
   ],
   "source": [
    "words"
   ]
  },
  {
   "cell_type": "markdown",
   "metadata": {},
   "source": [
    "# 단어별 출현 빈도"
   ]
  },
  {
   "cell_type": "code",
   "execution_count": 31,
   "metadata": {
    "collapsed": true
   },
   "outputs": [],
   "source": [
    "import numpy"
   ]
  },
  {
   "cell_type": "code",
   "execution_count": 32,
   "metadata": {
    "collapsed": false
   },
   "outputs": [],
   "source": [
    "count_mat = tdf.sum(axis=0)"
   ]
  },
  {
   "cell_type": "code",
   "execution_count": 33,
   "metadata": {
    "collapsed": false
   },
   "outputs": [
    {
     "data": {
      "text/plain": [
       "matrix([[131, 187, 165, 209, 127, 132, 143, 143, 247, 241, 210, 340, 812,\n",
       "         154, 155, 337, 120, 193, 209, 124, 242, 125, 297, 757, 120, 136,\n",
       "         154, 163, 302, 172, 150, 126, 191, 504, 125, 182, 124, 138, 136,\n",
       "         366, 374, 188, 176, 137, 125, 133, 177, 213, 147, 164]], dtype=int64)"
      ]
     },
     "execution_count": 33,
     "metadata": {},
     "output_type": "execute_result"
    }
   ],
   "source": [
    "count_mat"
   ]
  },
  {
   "cell_type": "code",
   "execution_count": 34,
   "metadata": {
    "collapsed": false
   },
   "outputs": [],
   "source": [
    "count = numpy.squeeze(numpy.asarray(count_mat))\n",
    "# squeeze : 표를 평평하게 만듦. [[]] => []"
   ]
  },
  {
   "cell_type": "code",
   "execution_count": 39,
   "metadata": {
    "collapsed": false
   },
   "outputs": [
    {
     "name": "stdout",
     "output_type": "stream",
     "text": [
      "1 a\n",
      "2 b\n",
      "3 c\n"
     ]
    }
   ],
   "source": [
    "# zip() 예제\n",
    "for x, y in zip([1,2,3], 'abc'):\n",
    "    print(x, y)"
   ]
  },
  {
   "cell_type": "code",
   "execution_count": 40,
   "metadata": {
    "collapsed": false
   },
   "outputs": [
    {
     "data": {
      "text/plain": [
       "array([131, 187, 165, 209, 127, 132, 143, 143, 247, 241, 210, 340, 812,\n",
       "       154, 155, 337, 120, 193, 209, 124, 242, 125, 297, 757, 120, 136,\n",
       "       154, 163, 302, 172, 150, 126, 191, 504, 125, 182, 124, 138, 136,\n",
       "       366, 374, 188, 176, 137, 125, 133, 177, 213, 147, 164], dtype=int64)"
      ]
     },
     "execution_count": 40,
     "metadata": {},
     "output_type": "execute_result"
    }
   ],
   "source": [
    "count"
   ]
  },
  {
   "cell_type": "code",
   "execution_count": 41,
   "metadata": {
    "collapsed": false
   },
   "outputs": [],
   "source": [
    "word_count = list(zip(words, count))"
   ]
  },
  {
   "cell_type": "code",
   "execution_count": 42,
   "metadata": {
    "collapsed": false
   },
   "outputs": [
    {
     "data": {
      "text/plain": [
       "[('개인', 131),\n",
       " ('거래', 187),\n",
       " ('결과', 165),\n",
       " ('고객', 209),\n",
       " ('관련', 127),\n",
       " ('긍정', 132),\n",
       " ('기반', 143),\n",
       " ('기술', 143),\n",
       " ('기업', 247),\n",
       " ('기자', 241),\n",
       " ('뉴스', 210),\n",
       " ('뉴시스', 340),\n",
       " ('단계', 812),\n",
       " ('대상자', 154),\n",
       " ('대해', 155),\n",
       " ('데이터', 337),\n",
       " ('레벨', 120),\n",
       " ('매우', 193),\n",
       " ('멜론', 209),\n",
       " ('모바일', 124),\n",
       " ('복지', 242),\n",
       " ('분기', 125),\n",
       " ('분석', 297),\n",
       " ('빅데이터', 757),\n",
       " ('사각', 120),\n",
       " ('사업', 136),\n",
       " ('산업', 154),\n",
       " ('상품', 163),\n",
       " ('서비스', 302),\n",
       " ('서울', 172),\n",
       " ('세상', 150),\n",
       " ('쇼핑', 126),\n",
       " ('수준', 191),\n",
       " ('시장', 504),\n",
       " ('실적', 125),\n",
       " ('심리', 182),\n",
       " ('약간', 124),\n",
       " ('억원', 138),\n",
       " ('오전', 136),\n",
       " ('정보', 366),\n",
       " ('종목', 374),\n",
       " ('지수', 188),\n",
       " ('지원', 176),\n",
       " ('최근', 137),\n",
       " ('코스콤', 125),\n",
       " ('코스피', 133),\n",
       " ('통해', 177),\n",
       " ('투자', 213),\n",
       " ('티켓', 147),\n",
       " ('팁코', 164)]"
      ]
     },
     "execution_count": 42,
     "metadata": {},
     "output_type": "execute_result"
    }
   ],
   "source": [
    "word_count"
   ]
  },
  {
   "cell_type": "markdown",
   "metadata": {},
   "source": [
    "# 빈도 순 정렬"
   ]
  },
  {
   "cell_type": "code",
   "execution_count": 59,
   "metadata": {
    "collapsed": true
   },
   "outputs": [],
   "source": [
    "import operator"
   ]
  },
  {
   "cell_type": "code",
   "execution_count": 60,
   "metadata": {
    "collapsed": false
   },
   "outputs": [
    {
     "data": {
      "text/plain": [
       "[('단계', 812),\n",
       " ('빅데이터', 757),\n",
       " ('시장', 504),\n",
       " ('종목', 374),\n",
       " ('정보', 366),\n",
       " ('뉴시스', 340),\n",
       " ('데이터', 337),\n",
       " ('서비스', 302),\n",
       " ('분석', 297),\n",
       " ('기업', 247),\n",
       " ('복지', 242),\n",
       " ('기자', 241),\n",
       " ('투자', 213),\n",
       " ('뉴스', 210),\n",
       " ('고객', 209),\n",
       " ('멜론', 209),\n",
       " ('매우', 193),\n",
       " ('수준', 191),\n",
       " ('지수', 188),\n",
       " ('거래', 187),\n",
       " ('심리', 182),\n",
       " ('통해', 177),\n",
       " ('지원', 176),\n",
       " ('서울', 172),\n",
       " ('결과', 165),\n",
       " ('팁코', 164),\n",
       " ('상품', 163),\n",
       " ('대해', 155),\n",
       " ('대상자', 154),\n",
       " ('산업', 154),\n",
       " ('세상', 150),\n",
       " ('티켓', 147),\n",
       " ('기반', 143),\n",
       " ('기술', 143),\n",
       " ('억원', 138),\n",
       " ('최근', 137),\n",
       " ('사업', 136),\n",
       " ('오전', 136),\n",
       " ('코스피', 133),\n",
       " ('긍정', 132),\n",
       " ('개인', 131),\n",
       " ('관련', 127),\n",
       " ('쇼핑', 126),\n",
       " ('분기', 125),\n",
       " ('실적', 125),\n",
       " ('코스콤', 125),\n",
       " ('모바일', 124),\n",
       " ('약간', 124),\n",
       " ('레벨', 120),\n",
       " ('사각', 120)]"
      ]
     },
     "execution_count": 60,
     "metadata": {},
     "output_type": "execute_result"
    }
   ],
   "source": [
    "sorted(word_count, key=operator.itemgetter(1), reverse=True)"
   ]
  },
  {
   "cell_type": "markdown",
   "metadata": {},
   "source": [
    "# 워드 클라우드"
   ]
  },
  {
   "cell_type": "markdown",
   "metadata": {},
   "source": [
    "[Unofficial Windows Binaries for Python Extension Packages](http://www.lfd.uci.edu/~gohlke/pythonlibs/#wordcloud)에서 **\n",
    "wordcloud**-1.2.1-**cp35**-cp35m-win_**amd64**.whl를 다운받은 다음, 명령창에서 아래 명령을 실행:\n",
    "\n",
    "```\n",
    "pip install wordcloud-1.2.1-cp35-cp35m-win_amd54.whl\n",
    "```"
   ]
  },
  {
   "cell_type": "code",
   "execution_count": 43,
   "metadata": {
    "collapsed": true
   },
   "outputs": [],
   "source": [
    "%matplotlib inline"
   ]
  },
  {
   "cell_type": "code",
   "execution_count": 44,
   "metadata": {
    "collapsed": false
   },
   "outputs": [],
   "source": [
    "from wordcloud import WordCloud"
   ]
  },
  {
   "cell_type": "code",
   "execution_count": 45,
   "metadata": {
    "collapsed": true
   },
   "outputs": [],
   "source": [
    "from matplotlib import pyplot"
   ]
  },
  {
   "cell_type": "markdown",
   "metadata": {},
   "source": [
    "워드 클라우드 만들기\n",
    "\n",
    "자세한 내용은 http://amueller.github.io/word_cloud/index.html 참고"
   ]
  },
  {
   "cell_type": "code",
   "execution_count": 77,
   "metadata": {
    "collapsed": false
   },
   "outputs": [],
   "source": [
    "wc = WordCloud(font_path='C:\\\\Windows\\\\Fonts\\\\malgun.ttf', background_color='white', width=400, height=300)\n",
    "cloud = wc.generate_from_frequencies(word_count)"
   ]
  },
  {
   "cell_type": "markdown",
   "metadata": {},
   "source": [
    "화면에 표시"
   ]
  },
  {
   "cell_type": "code",
   "execution_count": 78,
   "metadata": {
    "collapsed": false
   },
   "outputs": [
    {
     "data": {
      "image/png": "[encoded data removed]",
      "text/plain": [
       "<matplotlib.figure.Figure at 0x22a2f3cc400>"
      ]
     },
     "metadata": {},
     "output_type": "display_data"
    }
   ],
   "source": [
    "pyplot.figure(figsize=(12, 9))\n",
    "pyplot.imshow(cloud)\n",
    "pyplot.axis(\"off\")\n",
    "pyplot.show()"
   ]
  },
  {
   "cell_type": "markdown",
   "metadata": {},
   "source": [
    "# 단어간 상관계수"
   ]
  },
  {
   "cell_type": "code",
   "execution_count": 79,
   "metadata": {
    "collapsed": false
   },
   "outputs": [],
   "source": [
    "word_corr = numpy.corrcoef(tdf.todense(), rowvar=0)"
   ]
  },
  {
   "cell_type": "code",
   "execution_count": 80,
   "metadata": {
    "collapsed": false
   },
   "outputs": [
    {
     "data": {
      "text/plain": [
       "array([[ 1.        ,  0.05723556, -0.09573652, ..., -0.03881715,\n",
       "         0.48229413, -0.12123059],\n",
       "       [ 0.05723556,  1.        ,  0.42394952, ...,  0.46340331,\n",
       "        -0.11599038, -0.11306148],\n",
       "       [-0.09573652,  0.42394952,  1.        , ...,  0.54754018,\n",
       "        -0.16762904, -0.16339619],\n",
       "       ..., \n",
       "       [-0.03881715,  0.46340331,  0.54754018, ...,  1.        ,\n",
       "        -0.09554752, -0.18254425],\n",
       "       [ 0.48229413, -0.11599038, -0.16762904, ..., -0.09554752,\n",
       "         1.        , -0.04911176],\n",
       "       [-0.12123059, -0.11306148, -0.16339619, ..., -0.18254425,\n",
       "        -0.04911176,  1.        ]])"
      ]
     },
     "execution_count": 80,
     "metadata": {},
     "output_type": "execute_result"
    }
   ],
   "source": [
    "word_corr"
   ]
  },
  {
   "cell_type": "markdown",
   "metadata": {},
   "source": [
    "# 상관관계 높은 것 100개만 추리기"
   ]
  },
  {
   "cell_type": "code",
   "execution_count": 81,
   "metadata": {
    "collapsed": false
   },
   "outputs": [],
   "source": [
    "edges = []\n",
    "for i in range(len(words)):\n",
    "    for j in range(i + 1, len(words)):\n",
    "        edges.append((words[i], words[j], word_corr[i, j]))"
   ]
  },
  {
   "cell_type": "code",
   "execution_count": 92,
   "metadata": {
    "collapsed": false
   },
   "outputs": [
    {
     "data": {
      "text/html": [
       "<img src=\"http://cfile1.uf.tistory.com/image/23369F48539A63EE1640E4\"/>"
      ],
      "text/plain": [
       "<IPython.core.display.Image object>"
      ]
     },
     "execution_count": 92,
     "metadata": {},
     "output_type": "execute_result"
    }
   ],
   "source": [
    "\n",
    "from IPython.display import Image\n",
    "Image(url=\"http://cfile1.uf.tistory.com/image/23369F48539A63EE1640E4\")\n",
    "\n",
    "# 위의 코드는 상단의 역삼각형 부분만 남기기 위한 로직.\n",
    "# 중복되거나, 불필요한 로직 제거."
   ]
  },
  {
   "cell_type": "markdown",
   "metadata": {},
   "source": [
    "상관계수 높은 순으로 정렬"
   ]
  },
  {
   "cell_type": "code",
   "execution_count": 82,
   "metadata": {
    "collapsed": false
   },
   "outputs": [],
   "source": [
    "edges = sorted(edges, key=operator.itemgetter(2), reverse=True)"
   ]
  },
  {
   "cell_type": "code",
   "execution_count": 89,
   "metadata": {
    "collapsed": false
   },
   "outputs": [
    {
     "data": {
      "text/plain": [
       "[('멜론', '티켓', 0.98643277402301888),\n",
       " ('뉴시스', '코스콤', 0.97624088887718274),\n",
       " ('대상자', '복지', 0.96945996611998009),\n",
       " ('복지', '사각', 0.95816586996256481),\n",
       " ('뉴시스', '세상', 0.93449324109223186),\n",
       " ('지수', '코스콤', 0.93134183543352345),\n",
       " ('대상자', '사각', 0.91795845788283414),\n",
       " ('단계', '코스콤', 0.91792050534942116),\n",
       " ('뉴시스', '지수', 0.91398823602153001),\n",
       " ('단계', '코스피', 0.9088452469270194),\n",
       " ('레벨', '수준', 0.90688410063819114),\n",
       " ('약간', '코스콤', 0.90147164786494904),\n",
       " ('세상', '코스콤', 0.88907923617041984),\n",
       " ('단계', '매우', 0.88785610848165519),\n",
       " ('매우', '코스피', 0.88416894255087952),\n",
       " ('단계', '약간', 0.88004173404394681),\n",
       " ('심리', '코스콤', 0.87810604024902517),\n",
       " ('단계', '레벨', 0.87732957934289402),\n",
       " ('단계', '지수', 0.87432797224148251),\n",
       " ('뉴시스', '단계', 0.866960706185949),\n",
       " ('레벨', '심리', 0.86398226923530685),\n",
       " ('뉴시스', '심리', 0.86333286895628403),\n",
       " ('뉴시스', '약간', 0.85051789509935027),\n",
       " ('수준', '심리', 0.84720185012442051),\n",
       " ('단계', '심리', 0.84512793693931731),\n",
       " ('분기', '실적', 0.84342788621740994),\n",
       " ('매우', '코스콤', 0.84333207511592101),\n",
       " ('세상', '지수', 0.83968515484498762),\n",
       " ('오전', '코스콤', 0.83463303168832792),\n",
       " ('심리', '약간', 0.82663031168081325),\n",
       " ('약간', '지수', 0.81840862824535177),\n",
       " ('레벨', '매우', 0.81706467899195245),\n",
       " ('레벨', '코스피', 0.81567627782737451),\n",
       " ('뉴시스', '오전', 0.81419686544585501),\n",
       " ('약간', '코스피', 0.8128616154274807),\n",
       " ('종목', '지수', 0.81214195746221329),\n",
       " ('심리', '코스피', 0.81162566680887982),\n",
       " ('매우', '심리', 0.80960443604696086),\n",
       " ('약간', '오전', 0.80749617975329502),\n",
       " ('코스콤', '코스피', 0.8015182295380413),\n",
       " ('뉴시스', '매우', 0.79488545807229505),\n",
       " ('세상', '심리', 0.79381896136444918),\n",
       " ('레벨', '코스콤', 0.79253189443198813),\n",
       " ('결과', '코스콤', 0.79125962441945574),\n",
       " ('단계', '종목', 0.78625386421503185),\n",
       " ('결과', '뉴시스', 0.78066651121540021),\n",
       " ('단계', '세상', 0.7800221765288109),\n",
       " ('매우', '지수', 0.77942108359537454),\n",
       " ('단계', '수준', 0.77790830760481644),\n",
       " ('심리', '오전', 0.77728949230326205)]"
      ]
     },
     "execution_count": 89,
     "metadata": {},
     "output_type": "execute_result"
    }
   ],
   "source": [
    "edges = edges[:50]\n",
    "edges"
   ]
  },
  {
   "cell_type": "code",
   "execution_count": 100,
   "metadata": {
    "collapsed": false
   },
   "outputs": [
    {
     "data": {
      "text/plain": [
       "[0.98643277402301888,\n",
       " 0.97624088887718274,\n",
       " 0.96945996611998009,\n",
       " 0.95816586996256481,\n",
       " 0.93449324109223186,\n",
       " 0.93134183543352345,\n",
       " 0.91795845788283414,\n",
       " 0.91792050534942116,\n",
       " 0.91398823602153001,\n",
       " 0.9088452469270194,\n",
       " 0.90688410063819114,\n",
       " 0.90147164786494904,\n",
       " 0.88907923617041984,\n",
       " 0.88785610848165519,\n",
       " 0.88416894255087952,\n",
       " 0.88004173404394681,\n",
       " 0.87810604024902517,\n",
       " 0.87732957934289402,\n",
       " 0.87432797224148251,\n",
       " 0.866960706185949,\n",
       " 0.86398226923530685,\n",
       " 0.86333286895628403,\n",
       " 0.85051789509935027,\n",
       " 0.84720185012442051,\n",
       " 0.84512793693931731,\n",
       " 0.84342788621740994,\n",
       " 0.84333207511592101,\n",
       " 0.83968515484498762,\n",
       " 0.83463303168832792,\n",
       " 0.82663031168081325,\n",
       " 0.81840862824535177,\n",
       " 0.81706467899195245,\n",
       " 0.81567627782737451,\n",
       " 0.81419686544585501,\n",
       " 0.8128616154274807,\n",
       " 0.81214195746221329,\n",
       " 0.81162566680887982,\n",
       " 0.80960443604696086,\n",
       " 0.80749617975329502,\n",
       " 0.8015182295380413,\n",
       " 0.79488545807229505,\n",
       " 0.79381896136444918,\n",
       " 0.79253189443198813,\n",
       " 0.79125962441945574,\n",
       " 0.78625386421503185,\n",
       " 0.78066651121540021,\n",
       " 0.7800221765288109,\n",
       " 0.77942108359537454,\n",
       " 0.77790830760481644,\n",
       " 0.77728949230326205,\n",
       " 0.98643277402301888,\n",
       " 0.97624088887718274,\n",
       " 0.96945996611998009,\n",
       " 0.95816586996256481,\n",
       " 0.93449324109223186,\n",
       " 0.93134183543352345,\n",
       " 0.91795845788283414,\n",
       " 0.91792050534942116,\n",
       " 0.91398823602153001,\n",
       " 0.9088452469270194,\n",
       " 0.90688410063819114,\n",
       " 0.90147164786494904,\n",
       " 0.88907923617041984,\n",
       " 0.88785610848165519,\n",
       " 0.88416894255087952,\n",
       " 0.88004173404394681,\n",
       " 0.87810604024902517,\n",
       " 0.87732957934289402,\n",
       " 0.87432797224148251,\n",
       " 0.866960706185949,\n",
       " 0.86398226923530685,\n",
       " 0.86333286895628403,\n",
       " 0.85051789509935027,\n",
       " 0.84720185012442051,\n",
       " 0.84512793693931731,\n",
       " 0.84342788621740994,\n",
       " 0.84333207511592101,\n",
       " 0.83968515484498762,\n",
       " 0.83463303168832792,\n",
       " 0.82663031168081325,\n",
       " 0.81840862824535177,\n",
       " 0.81706467899195245,\n",
       " 0.81567627782737451,\n",
       " 0.81419686544585501,\n",
       " 0.8128616154274807,\n",
       " 0.81214195746221329,\n",
       " 0.81162566680887982,\n",
       " 0.80960443604696086,\n",
       " 0.80749617975329502,\n",
       " 0.8015182295380413,\n",
       " 0.79488545807229505,\n",
       " 0.79381896136444918,\n",
       " 0.79253189443198813,\n",
       " 0.79125962441945574,\n",
       " 0.78625386421503185,\n",
       " 0.78066651121540021,\n",
       " 0.7800221765288109,\n",
       " 0.77942108359537454,\n",
       " 0.77790830760481644,\n",
       " 0.77728949230326205,\n",
       " 0.98643277402301888,\n",
       " 0.97624088887718274,\n",
       " 0.96945996611998009,\n",
       " 0.95816586996256481,\n",
       " 0.93449324109223186,\n",
       " 0.93134183543352345,\n",
       " 0.91795845788283414,\n",
       " 0.91792050534942116,\n",
       " 0.91398823602153001,\n",
       " 0.9088452469270194,\n",
       " 0.90688410063819114,\n",
       " 0.90147164786494904,\n",
       " 0.88907923617041984,\n",
       " 0.88785610848165519,\n",
       " 0.88416894255087952,\n",
       " 0.88004173404394681,\n",
       " 0.87810604024902517,\n",
       " 0.87732957934289402,\n",
       " 0.87432797224148251,\n",
       " 0.866960706185949,\n",
       " 0.86398226923530685,\n",
       " 0.86333286895628403,\n",
       " 0.85051789509935027,\n",
       " 0.84720185012442051,\n",
       " 0.84512793693931731,\n",
       " 0.84342788621740994,\n",
       " 0.84333207511592101,\n",
       " 0.83968515484498762,\n",
       " 0.83463303168832792,\n",
       " 0.82663031168081325,\n",
       " 0.81840862824535177,\n",
       " 0.81706467899195245,\n",
       " 0.81567627782737451,\n",
       " 0.81419686544585501,\n",
       " 0.8128616154274807,\n",
       " 0.81214195746221329,\n",
       " 0.81162566680887982,\n",
       " 0.80960443604696086,\n",
       " 0.80749617975329502,\n",
       " 0.8015182295380413,\n",
       " 0.79488545807229505,\n",
       " 0.79381896136444918,\n",
       " 0.79253189443198813,\n",
       " 0.79125962441945574,\n",
       " 0.78625386421503185,\n",
       " 0.78066651121540021,\n",
       " 0.7800221765288109,\n",
       " 0.77942108359537454,\n",
       " 0.77790830760481644,\n",
       " 0.77728949230326205,\n",
       " 0.98643277402301888,\n",
       " 0.97624088887718274,\n",
       " 0.96945996611998009,\n",
       " 0.95816586996256481,\n",
       " 0.93449324109223186,\n",
       " 0.93134183543352345,\n",
       " 0.91795845788283414,\n",
       " 0.91792050534942116,\n",
       " 0.91398823602153001,\n",
       " 0.9088452469270194,\n",
       " 0.90688410063819114,\n",
       " 0.90147164786494904,\n",
       " 0.88907923617041984,\n",
       " 0.88785610848165519,\n",
       " 0.88416894255087952,\n",
       " 0.88004173404394681,\n",
       " 0.87810604024902517,\n",
       " 0.87732957934289402,\n",
       " 0.87432797224148251,\n",
       " 0.866960706185949,\n",
       " 0.86398226923530685,\n",
       " 0.86333286895628403,\n",
       " 0.85051789509935027,\n",
       " 0.84720185012442051,\n",
       " 0.84512793693931731,\n",
       " 0.84342788621740994,\n",
       " 0.84333207511592101,\n",
       " 0.83968515484498762,\n",
       " 0.83463303168832792,\n",
       " 0.82663031168081325,\n",
       " 0.81840862824535177,\n",
       " 0.81706467899195245,\n",
       " 0.81567627782737451,\n",
       " 0.81419686544585501,\n",
       " 0.8128616154274807,\n",
       " 0.81214195746221329,\n",
       " 0.81162566680887982,\n",
       " 0.80960443604696086,\n",
       " 0.80749617975329502,\n",
       " 0.8015182295380413,\n",
       " 0.79488545807229505,\n",
       " 0.79381896136444918,\n",
       " 0.79253189443198813,\n",
       " 0.79125962441945574,\n",
       " 0.78625386421503185,\n",
       " 0.78066651121540021,\n",
       " 0.7800221765288109,\n",
       " 0.77942108359537454,\n",
       " 0.77790830760481644,\n",
       " 0.77728949230326205,\n",
       " 0.98643277402301888,\n",
       " 0.97624088887718274,\n",
       " 0.96945996611998009,\n",
       " 0.95816586996256481,\n",
       " 0.93449324109223186,\n",
       " 0.93134183543352345,\n",
       " 0.91795845788283414,\n",
       " 0.91792050534942116,\n",
       " 0.91398823602153001,\n",
       " 0.9088452469270194,\n",
       " 0.90688410063819114,\n",
       " 0.90147164786494904,\n",
       " 0.88907923617041984,\n",
       " 0.88785610848165519,\n",
       " 0.88416894255087952,\n",
       " 0.88004173404394681,\n",
       " 0.87810604024902517,\n",
       " 0.87732957934289402,\n",
       " 0.87432797224148251,\n",
       " 0.866960706185949,\n",
       " 0.86398226923530685,\n",
       " 0.86333286895628403,\n",
       " 0.85051789509935027,\n",
       " 0.84720185012442051,\n",
       " 0.84512793693931731,\n",
       " 0.84342788621740994,\n",
       " 0.84333207511592101,\n",
       " 0.83968515484498762,\n",
       " 0.83463303168832792,\n",
       " 0.82663031168081325,\n",
       " 0.81840862824535177,\n",
       " 0.81706467899195245,\n",
       " 0.81567627782737451,\n",
       " 0.81419686544585501,\n",
       " 0.8128616154274807,\n",
       " 0.81214195746221329,\n",
       " 0.81162566680887982,\n",
       " 0.80960443604696086,\n",
       " 0.80749617975329502,\n",
       " 0.8015182295380413,\n",
       " 0.79488545807229505,\n",
       " 0.79381896136444918,\n",
       " 0.79253189443198813,\n",
       " 0.79125962441945574,\n",
       " 0.78625386421503185,\n",
       " 0.78066651121540021,\n",
       " 0.7800221765288109,\n",
       " 0.77942108359537454,\n",
       " 0.77790830760481644,\n",
       " 0.77728949230326205,\n",
       " 0.98643277402301888,\n",
       " 0.97624088887718274,\n",
       " 0.96945996611998009,\n",
       " 0.95816586996256481,\n",
       " 0.93449324109223186,\n",
       " 0.93134183543352345,\n",
       " 0.91795845788283414,\n",
       " 0.91792050534942116,\n",
       " 0.91398823602153001,\n",
       " 0.9088452469270194,\n",
       " 0.90688410063819114,\n",
       " 0.90147164786494904,\n",
       " 0.88907923617041984,\n",
       " 0.88785610848165519,\n",
       " 0.88416894255087952,\n",
       " 0.88004173404394681,\n",
       " 0.87810604024902517,\n",
       " 0.87732957934289402,\n",
       " 0.87432797224148251,\n",
       " 0.866960706185949,\n",
       " 0.86398226923530685,\n",
       " 0.86333286895628403,\n",
       " 0.85051789509935027,\n",
       " 0.84720185012442051,\n",
       " 0.84512793693931731,\n",
       " 0.84342788621740994,\n",
       " 0.84333207511592101,\n",
       " 0.83968515484498762,\n",
       " 0.83463303168832792,\n",
       " 0.82663031168081325,\n",
       " 0.81840862824535177,\n",
       " 0.81706467899195245,\n",
       " 0.81567627782737451,\n",
       " 0.81419686544585501,\n",
       " 0.8128616154274807,\n",
       " 0.81214195746221329,\n",
       " 0.81162566680887982,\n",
       " 0.80960443604696086,\n",
       " 0.80749617975329502,\n",
       " 0.8015182295380413,\n",
       " 0.79488545807229505,\n",
       " 0.79381896136444918,\n",
       " 0.79253189443198813,\n",
       " 0.79125962441945574,\n",
       " 0.78625386421503185,\n",
       " 0.78066651121540021,\n",
       " 0.7800221765288109,\n",
       " 0.77942108359537454,\n",
       " 0.77790830760481644,\n",
       " 0.77728949230326205,\n",
       " 0.98643277402301888,\n",
       " 0.97624088887718274,\n",
       " 0.96945996611998009,\n",
       " 0.95816586996256481,\n",
       " 0.93449324109223186,\n",
       " 0.93134183543352345,\n",
       " 0.91795845788283414,\n",
       " 0.91792050534942116,\n",
       " 0.91398823602153001,\n",
       " 0.9088452469270194,\n",
       " 0.90688410063819114,\n",
       " 0.90147164786494904,\n",
       " 0.88907923617041984,\n",
       " 0.88785610848165519,\n",
       " 0.88416894255087952,\n",
       " 0.88004173404394681,\n",
       " 0.87810604024902517,\n",
       " 0.87732957934289402,\n",
       " 0.87432797224148251,\n",
       " 0.866960706185949,\n",
       " 0.86398226923530685,\n",
       " 0.86333286895628403,\n",
       " 0.85051789509935027,\n",
       " 0.84720185012442051,\n",
       " 0.84512793693931731,\n",
       " 0.84342788621740994,\n",
       " 0.84333207511592101,\n",
       " 0.83968515484498762,\n",
       " 0.83463303168832792,\n",
       " 0.82663031168081325,\n",
       " 0.81840862824535177,\n",
       " 0.81706467899195245,\n",
       " 0.81567627782737451,\n",
       " 0.81419686544585501,\n",
       " 0.8128616154274807,\n",
       " 0.81214195746221329,\n",
       " 0.81162566680887982,\n",
       " 0.80960443604696086,\n",
       " 0.80749617975329502,\n",
       " 0.8015182295380413,\n",
       " 0.79488545807229505,\n",
       " 0.79381896136444918,\n",
       " 0.79253189443198813,\n",
       " 0.79125962441945574,\n",
       " 0.78625386421503185,\n",
       " 0.78066651121540021,\n",
       " 0.7800221765288109,\n",
       " 0.77942108359537454,\n",
       " 0.77790830760481644,\n",
       " 0.77728949230326205,\n",
       " 0.98643277402301888,\n",
       " 0.97624088887718274,\n",
       " 0.96945996611998009,\n",
       " 0.95816586996256481,\n",
       " 0.93449324109223186,\n",
       " 0.93134183543352345,\n",
       " 0.91795845788283414,\n",
       " 0.91792050534942116,\n",
       " 0.91398823602153001,\n",
       " 0.9088452469270194,\n",
       " 0.90688410063819114,\n",
       " 0.90147164786494904,\n",
       " 0.88907923617041984,\n",
       " 0.88785610848165519,\n",
       " 0.88416894255087952,\n",
       " 0.88004173404394681,\n",
       " 0.87810604024902517,\n",
       " 0.87732957934289402,\n",
       " 0.87432797224148251,\n",
       " 0.866960706185949,\n",
       " 0.86398226923530685,\n",
       " 0.86333286895628403,\n",
       " 0.85051789509935027,\n",
       " 0.84720185012442051,\n",
       " 0.84512793693931731,\n",
       " 0.84342788621740994,\n",
       " 0.84333207511592101,\n",
       " 0.83968515484498762,\n",
       " 0.83463303168832792,\n",
       " 0.82663031168081325,\n",
       " 0.81840862824535177,\n",
       " 0.81706467899195245,\n",
       " 0.81567627782737451,\n",
       " 0.81419686544585501,\n",
       " 0.8128616154274807,\n",
       " 0.81214195746221329,\n",
       " 0.81162566680887982,\n",
       " 0.80960443604696086,\n",
       " 0.80749617975329502,\n",
       " 0.8015182295380413,\n",
       " 0.79488545807229505,\n",
       " 0.79381896136444918,\n",
       " 0.79253189443198813,\n",
       " 0.79125962441945574,\n",
       " 0.78625386421503185,\n",
       " 0.78066651121540021,\n",
       " 0.7800221765288109,\n",
       " 0.77942108359537454,\n",
       " 0.77790830760481644,\n",
       " 0.77728949230326205,\n",
       " 0.98643277402301888,\n",
       " 0.97624088887718274,\n",
       " 0.96945996611998009,\n",
       " 0.95816586996256481,\n",
       " 0.93449324109223186,\n",
       " 0.93134183543352345,\n",
       " 0.91795845788283414,\n",
       " 0.91792050534942116,\n",
       " 0.91398823602153001,\n",
       " 0.9088452469270194,\n",
       " 0.90688410063819114,\n",
       " 0.90147164786494904,\n",
       " 0.88907923617041984,\n",
       " 0.88785610848165519,\n",
       " 0.88416894255087952,\n",
       " 0.88004173404394681,\n",
       " 0.87810604024902517,\n",
       " 0.87732957934289402,\n",
       " 0.87432797224148251,\n",
       " 0.866960706185949,\n",
       " 0.86398226923530685,\n",
       " 0.86333286895628403,\n",
       " 0.85051789509935027,\n",
       " 0.84720185012442051,\n",
       " 0.84512793693931731,\n",
       " 0.84342788621740994,\n",
       " 0.84333207511592101,\n",
       " 0.83968515484498762,\n",
       " 0.83463303168832792,\n",
       " 0.82663031168081325,\n",
       " 0.81840862824535177,\n",
       " 0.81706467899195245,\n",
       " 0.81567627782737451,\n",
       " 0.81419686544585501,\n",
       " 0.8128616154274807,\n",
       " 0.81214195746221329,\n",
       " 0.81162566680887982,\n",
       " 0.80960443604696086,\n",
       " 0.80749617975329502,\n",
       " 0.8015182295380413,\n",
       " 0.79488545807229505,\n",
       " 0.79381896136444918,\n",
       " 0.79253189443198813,\n",
       " 0.79125962441945574,\n",
       " 0.78625386421503185,\n",
       " 0.78066651121540021,\n",
       " 0.7800221765288109,\n",
       " 0.77942108359537454,\n",
       " 0.77790830760481644,\n",
       " 0.77728949230326205,\n",
       " 0.98643277402301888,\n",
       " 0.97624088887718274,\n",
       " 0.96945996611998009,\n",
       " 0.95816586996256481,\n",
       " 0.93449324109223186,\n",
       " 0.93134183543352345,\n",
       " 0.91795845788283414,\n",
       " 0.91792050534942116,\n",
       " 0.91398823602153001,\n",
       " 0.9088452469270194,\n",
       " 0.90688410063819114,\n",
       " 0.90147164786494904,\n",
       " 0.88907923617041984,\n",
       " 0.88785610848165519,\n",
       " 0.88416894255087952,\n",
       " 0.88004173404394681,\n",
       " 0.87810604024902517,\n",
       " 0.87732957934289402,\n",
       " 0.87432797224148251,\n",
       " 0.866960706185949,\n",
       " 0.86398226923530685,\n",
       " 0.86333286895628403,\n",
       " 0.85051789509935027,\n",
       " 0.84720185012442051,\n",
       " 0.84512793693931731,\n",
       " 0.84342788621740994,\n",
       " 0.84333207511592101,\n",
       " 0.83968515484498762,\n",
       " 0.83463303168832792,\n",
       " 0.82663031168081325,\n",
       " 0.81840862824535177,\n",
       " 0.81706467899195245,\n",
       " 0.81567627782737451,\n",
       " 0.81419686544585501,\n",
       " 0.8128616154274807,\n",
       " 0.81214195746221329,\n",
       " 0.81162566680887982,\n",
       " 0.80960443604696086,\n",
       " 0.80749617975329502,\n",
       " 0.8015182295380413,\n",
       " 0.79488545807229505,\n",
       " 0.79381896136444918,\n",
       " 0.79253189443198813,\n",
       " 0.79125962441945574,\n",
       " 0.78625386421503185,\n",
       " 0.78066651121540021,\n",
       " 0.7800221765288109,\n",
       " 0.77942108359537454,\n",
       " 0.77790830760481644,\n",
       " 0.77728949230326205,\n",
       " 0.98643277402301888,\n",
       " 0.97624088887718274,\n",
       " 0.96945996611998009,\n",
       " 0.95816586996256481,\n",
       " 0.93449324109223186,\n",
       " 0.93134183543352345,\n",
       " 0.91795845788283414,\n",
       " 0.91792050534942116,\n",
       " 0.91398823602153001,\n",
       " 0.9088452469270194,\n",
       " 0.90688410063819114,\n",
       " 0.90147164786494904,\n",
       " 0.88907923617041984,\n",
       " 0.88785610848165519,\n",
       " 0.88416894255087952,\n",
       " 0.88004173404394681,\n",
       " 0.87810604024902517,\n",
       " 0.87732957934289402,\n",
       " 0.87432797224148251,\n",
       " 0.866960706185949,\n",
       " 0.86398226923530685,\n",
       " 0.86333286895628403,\n",
       " 0.85051789509935027,\n",
       " 0.84720185012442051,\n",
       " 0.84512793693931731,\n",
       " 0.84342788621740994,\n",
       " 0.84333207511592101,\n",
       " 0.83968515484498762,\n",
       " 0.83463303168832792,\n",
       " 0.82663031168081325,\n",
       " 0.81840862824535177,\n",
       " 0.81706467899195245,\n",
       " 0.81567627782737451,\n",
       " 0.81419686544585501,\n",
       " 0.8128616154274807,\n",
       " 0.81214195746221329,\n",
       " 0.81162566680887982,\n",
       " 0.80960443604696086,\n",
       " 0.80749617975329502,\n",
       " 0.8015182295380413,\n",
       " 0.79488545807229505,\n",
       " 0.79381896136444918,\n",
       " 0.79253189443198813,\n",
       " 0.79125962441945574,\n",
       " 0.78625386421503185,\n",
       " 0.78066651121540021,\n",
       " 0.7800221765288109,\n",
       " 0.77942108359537454,\n",
       " 0.77790830760481644,\n",
       " 0.77728949230326205,\n",
       " 0.98643277402301888,\n",
       " 0.97624088887718274,\n",
       " 0.96945996611998009,\n",
       " 0.95816586996256481,\n",
       " 0.93449324109223186,\n",
       " 0.93134183543352345,\n",
       " 0.91795845788283414,\n",
       " 0.91792050534942116,\n",
       " 0.91398823602153001,\n",
       " 0.9088452469270194,\n",
       " 0.90688410063819114,\n",
       " 0.90147164786494904,\n",
       " 0.88907923617041984,\n",
       " 0.88785610848165519,\n",
       " 0.88416894255087952,\n",
       " 0.88004173404394681,\n",
       " 0.87810604024902517,\n",
       " 0.87732957934289402,\n",
       " 0.87432797224148251,\n",
       " 0.866960706185949,\n",
       " 0.86398226923530685,\n",
       " 0.86333286895628403,\n",
       " 0.85051789509935027,\n",
       " 0.84720185012442051,\n",
       " 0.84512793693931731,\n",
       " 0.84342788621740994,\n",
       " 0.84333207511592101,\n",
       " 0.83968515484498762,\n",
       " 0.83463303168832792,\n",
       " 0.82663031168081325,\n",
       " 0.81840862824535177,\n",
       " 0.81706467899195245,\n",
       " 0.81567627782737451,\n",
       " 0.81419686544585501,\n",
       " 0.8128616154274807,\n",
       " 0.81214195746221329,\n",
       " 0.81162566680887982,\n",
       " 0.80960443604696086,\n",
       " 0.80749617975329502,\n",
       " 0.8015182295380413,\n",
       " 0.79488545807229505,\n",
       " 0.79381896136444918,\n",
       " 0.79253189443198813,\n",
       " 0.79125962441945574,\n",
       " 0.78625386421503185,\n",
       " 0.78066651121540021,\n",
       " 0.7800221765288109,\n",
       " 0.77942108359537454,\n",
       " 0.77790830760481644,\n",
       " 0.77728949230326205,\n",
       " 0.98643277402301888,\n",
       " 0.97624088887718274,\n",
       " 0.96945996611998009,\n",
       " 0.95816586996256481,\n",
       " 0.93449324109223186,\n",
       " 0.93134183543352345,\n",
       " 0.91795845788283414,\n",
       " 0.91792050534942116,\n",
       " 0.91398823602153001,\n",
       " 0.9088452469270194,\n",
       " 0.90688410063819114,\n",
       " 0.90147164786494904,\n",
       " 0.88907923617041984,\n",
       " 0.88785610848165519,\n",
       " 0.88416894255087952,\n",
       " 0.88004173404394681,\n",
       " 0.87810604024902517,\n",
       " 0.87732957934289402,\n",
       " 0.87432797224148251,\n",
       " 0.866960706185949,\n",
       " 0.86398226923530685,\n",
       " 0.86333286895628403,\n",
       " 0.85051789509935027,\n",
       " 0.84720185012442051,\n",
       " 0.84512793693931731,\n",
       " 0.84342788621740994,\n",
       " 0.84333207511592101,\n",
       " 0.83968515484498762,\n",
       " 0.83463303168832792,\n",
       " 0.82663031168081325,\n",
       " 0.81840862824535177,\n",
       " 0.81706467899195245,\n",
       " 0.81567627782737451,\n",
       " 0.81419686544585501,\n",
       " 0.8128616154274807,\n",
       " 0.81214195746221329,\n",
       " 0.81162566680887982,\n",
       " 0.80960443604696086,\n",
       " 0.80749617975329502,\n",
       " 0.8015182295380413,\n",
       " 0.79488545807229505,\n",
       " 0.79381896136444918,\n",
       " 0.79253189443198813,\n",
       " 0.79125962441945574,\n",
       " 0.78625386421503185,\n",
       " 0.78066651121540021,\n",
       " 0.7800221765288109,\n",
       " 0.77942108359537454,\n",
       " 0.77790830760481644,\n",
       " 0.77728949230326205,\n",
       " 0.98643277402301888,\n",
       " 0.97624088887718274,\n",
       " 0.96945996611998009,\n",
       " 0.95816586996256481,\n",
       " 0.93449324109223186,\n",
       " 0.93134183543352345,\n",
       " 0.91795845788283414,\n",
       " 0.91792050534942116,\n",
       " 0.91398823602153001,\n",
       " 0.9088452469270194,\n",
       " 0.90688410063819114,\n",
       " 0.90147164786494904,\n",
       " 0.88907923617041984,\n",
       " 0.88785610848165519,\n",
       " 0.88416894255087952,\n",
       " 0.88004173404394681,\n",
       " 0.87810604024902517,\n",
       " 0.87732957934289402,\n",
       " 0.87432797224148251,\n",
       " 0.866960706185949,\n",
       " 0.86398226923530685,\n",
       " 0.86333286895628403,\n",
       " 0.85051789509935027,\n",
       " 0.84720185012442051,\n",
       " 0.84512793693931731,\n",
       " 0.84342788621740994,\n",
       " 0.84333207511592101,\n",
       " 0.83968515484498762,\n",
       " 0.83463303168832792,\n",
       " 0.82663031168081325,\n",
       " 0.81840862824535177,\n",
       " 0.81706467899195245,\n",
       " 0.81567627782737451,\n",
       " 0.81419686544585501,\n",
       " 0.8128616154274807,\n",
       " 0.81214195746221329,\n",
       " 0.81162566680887982,\n",
       " 0.80960443604696086,\n",
       " 0.80749617975329502,\n",
       " 0.8015182295380413,\n",
       " 0.79488545807229505,\n",
       " 0.79381896136444918,\n",
       " 0.79253189443198813,\n",
       " 0.79125962441945574,\n",
       " 0.78625386421503185,\n",
       " 0.78066651121540021,\n",
       " 0.7800221765288109,\n",
       " 0.77942108359537454,\n",
       " 0.77790830760481644,\n",
       " 0.77728949230326205,\n",
       " 0.98643277402301888,\n",
       " 0.97624088887718274,\n",
       " 0.96945996611998009,\n",
       " 0.95816586996256481,\n",
       " 0.93449324109223186,\n",
       " 0.93134183543352345,\n",
       " 0.91795845788283414,\n",
       " 0.91792050534942116,\n",
       " 0.91398823602153001,\n",
       " 0.9088452469270194,\n",
       " 0.90688410063819114,\n",
       " 0.90147164786494904,\n",
       " 0.88907923617041984,\n",
       " 0.88785610848165519,\n",
       " 0.88416894255087952,\n",
       " 0.88004173404394681,\n",
       " 0.87810604024902517,\n",
       " 0.87732957934289402,\n",
       " 0.87432797224148251,\n",
       " 0.866960706185949,\n",
       " 0.86398226923530685,\n",
       " 0.86333286895628403,\n",
       " 0.85051789509935027,\n",
       " 0.84720185012442051,\n",
       " 0.84512793693931731,\n",
       " 0.84342788621740994,\n",
       " 0.84333207511592101,\n",
       " 0.83968515484498762,\n",
       " 0.83463303168832792,\n",
       " 0.82663031168081325,\n",
       " 0.81840862824535177,\n",
       " 0.81706467899195245,\n",
       " 0.81567627782737451,\n",
       " 0.81419686544585501,\n",
       " 0.8128616154274807,\n",
       " 0.81214195746221329,\n",
       " 0.81162566680887982,\n",
       " 0.80960443604696086,\n",
       " 0.80749617975329502,\n",
       " 0.8015182295380413,\n",
       " 0.79488545807229505,\n",
       " 0.79381896136444918,\n",
       " 0.79253189443198813,\n",
       " 0.79125962441945574,\n",
       " 0.78625386421503185,\n",
       " 0.78066651121540021,\n",
       " 0.7800221765288109,\n",
       " 0.77942108359537454,\n",
       " 0.77790830760481644,\n",
       " 0.77728949230326205,\n",
       " 0.98643277402301888,\n",
       " 0.97624088887718274,\n",
       " 0.96945996611998009,\n",
       " 0.95816586996256481,\n",
       " 0.93449324109223186,\n",
       " 0.93134183543352345,\n",
       " 0.91795845788283414,\n",
       " 0.91792050534942116,\n",
       " 0.91398823602153001,\n",
       " 0.9088452469270194,\n",
       " 0.90688410063819114,\n",
       " 0.90147164786494904,\n",
       " 0.88907923617041984,\n",
       " 0.88785610848165519,\n",
       " 0.88416894255087952,\n",
       " 0.88004173404394681,\n",
       " 0.87810604024902517,\n",
       " 0.87732957934289402,\n",
       " 0.87432797224148251,\n",
       " 0.866960706185949,\n",
       " 0.86398226923530685,\n",
       " 0.86333286895628403,\n",
       " 0.85051789509935027,\n",
       " 0.84720185012442051,\n",
       " 0.84512793693931731,\n",
       " 0.84342788621740994,\n",
       " 0.84333207511592101,\n",
       " 0.83968515484498762,\n",
       " 0.83463303168832792,\n",
       " 0.82663031168081325,\n",
       " 0.81840862824535177,\n",
       " 0.81706467899195245,\n",
       " 0.81567627782737451,\n",
       " 0.81419686544585501,\n",
       " 0.8128616154274807,\n",
       " 0.81214195746221329,\n",
       " 0.81162566680887982,\n",
       " 0.80960443604696086,\n",
       " 0.80749617975329502,\n",
       " 0.8015182295380413,\n",
       " 0.79488545807229505,\n",
       " 0.79381896136444918,\n",
       " 0.79253189443198813,\n",
       " 0.79125962441945574,\n",
       " 0.78625386421503185,\n",
       " 0.78066651121540021,\n",
       " 0.7800221765288109,\n",
       " 0.77942108359537454,\n",
       " 0.77790830760481644,\n",
       " 0.77728949230326205,\n",
       " 0.98643277402301888,\n",
       " 0.97624088887718274,\n",
       " 0.96945996611998009,\n",
       " 0.95816586996256481,\n",
       " 0.93449324109223186,\n",
       " 0.93134183543352345,\n",
       " 0.91795845788283414,\n",
       " 0.91792050534942116,\n",
       " 0.91398823602153001,\n",
       " 0.9088452469270194,\n",
       " 0.90688410063819114,\n",
       " 0.90147164786494904,\n",
       " 0.88907923617041984,\n",
       " 0.88785610848165519,\n",
       " 0.88416894255087952,\n",
       " 0.88004173404394681,\n",
       " 0.87810604024902517,\n",
       " 0.87732957934289402,\n",
       " 0.87432797224148251,\n",
       " 0.866960706185949,\n",
       " 0.86398226923530685,\n",
       " 0.86333286895628403,\n",
       " 0.85051789509935027,\n",
       " 0.84720185012442051,\n",
       " 0.84512793693931731,\n",
       " 0.84342788621740994,\n",
       " 0.84333207511592101,\n",
       " 0.83968515484498762,\n",
       " 0.83463303168832792,\n",
       " 0.82663031168081325,\n",
       " 0.81840862824535177,\n",
       " 0.81706467899195245,\n",
       " 0.81567627782737451,\n",
       " 0.81419686544585501,\n",
       " 0.8128616154274807,\n",
       " 0.81214195746221329,\n",
       " 0.81162566680887982,\n",
       " 0.80960443604696086,\n",
       " 0.80749617975329502,\n",
       " 0.8015182295380413,\n",
       " 0.79488545807229505,\n",
       " 0.79381896136444918,\n",
       " 0.79253189443198813,\n",
       " 0.79125962441945574,\n",
       " 0.78625386421503185,\n",
       " 0.78066651121540021,\n",
       " 0.7800221765288109,\n",
       " 0.77942108359537454,\n",
       " 0.77790830760481644,\n",
       " 0.77728949230326205,\n",
       " 0.98643277402301888,\n",
       " 0.97624088887718274,\n",
       " 0.96945996611998009,\n",
       " 0.95816586996256481,\n",
       " 0.93449324109223186,\n",
       " 0.93134183543352345,\n",
       " 0.91795845788283414,\n",
       " 0.91792050534942116,\n",
       " 0.91398823602153001,\n",
       " 0.9088452469270194,\n",
       " 0.90688410063819114,\n",
       " 0.90147164786494904,\n",
       " 0.88907923617041984,\n",
       " 0.88785610848165519,\n",
       " 0.88416894255087952,\n",
       " 0.88004173404394681,\n",
       " 0.87810604024902517,\n",
       " 0.87732957934289402,\n",
       " 0.87432797224148251,\n",
       " 0.866960706185949,\n",
       " 0.86398226923530685,\n",
       " 0.86333286895628403,\n",
       " 0.85051789509935027,\n",
       " 0.84720185012442051,\n",
       " 0.84512793693931731,\n",
       " 0.84342788621740994,\n",
       " 0.84333207511592101,\n",
       " 0.83968515484498762,\n",
       " 0.83463303168832792,\n",
       " 0.82663031168081325,\n",
       " 0.81840862824535177,\n",
       " 0.81706467899195245,\n",
       " 0.81567627782737451,\n",
       " 0.81419686544585501,\n",
       " 0.8128616154274807,\n",
       " 0.81214195746221329,\n",
       " 0.81162566680887982,\n",
       " 0.80960443604696086,\n",
       " 0.80749617975329502,\n",
       " 0.8015182295380413,\n",
       " 0.79488545807229505,\n",
       " 0.79381896136444918,\n",
       " 0.79253189443198813,\n",
       " 0.79125962441945574,\n",
       " 0.78625386421503185,\n",
       " 0.78066651121540021,\n",
       " 0.7800221765288109,\n",
       " 0.77942108359537454,\n",
       " 0.77790830760481644,\n",
       " 0.77728949230326205,\n",
       " 0.98643277402301888,\n",
       " 0.97624088887718274,\n",
       " 0.96945996611998009,\n",
       " 0.95816586996256481,\n",
       " 0.93449324109223186,\n",
       " 0.93134183543352345,\n",
       " 0.91795845788283414,\n",
       " 0.91792050534942116,\n",
       " 0.91398823602153001,\n",
       " 0.9088452469270194,\n",
       " 0.90688410063819114,\n",
       " 0.90147164786494904,\n",
       " 0.88907923617041984,\n",
       " 0.88785610848165519,\n",
       " 0.88416894255087952,\n",
       " 0.88004173404394681,\n",
       " 0.87810604024902517,\n",
       " 0.87732957934289402,\n",
       " 0.87432797224148251,\n",
       " 0.866960706185949,\n",
       " 0.86398226923530685,\n",
       " 0.86333286895628403,\n",
       " 0.85051789509935027,\n",
       " 0.84720185012442051,\n",
       " 0.84512793693931731,\n",
       " 0.84342788621740994,\n",
       " 0.84333207511592101,\n",
       " 0.83968515484498762,\n",
       " 0.83463303168832792,\n",
       " 0.82663031168081325,\n",
       " 0.81840862824535177,\n",
       " 0.81706467899195245,\n",
       " 0.81567627782737451,\n",
       " 0.81419686544585501,\n",
       " 0.8128616154274807,\n",
       " 0.81214195746221329,\n",
       " 0.81162566680887982,\n",
       " 0.80960443604696086,\n",
       " 0.80749617975329502,\n",
       " 0.8015182295380413,\n",
       " 0.79488545807229505,\n",
       " 0.79381896136444918,\n",
       " 0.79253189443198813,\n",
       " 0.79125962441945574,\n",
       " 0.78625386421503185,\n",
       " 0.78066651121540021,\n",
       " 0.7800221765288109,\n",
       " 0.77942108359537454,\n",
       " 0.77790830760481644,\n",
       " 0.77728949230326205,\n",
       " 0.98643277402301888,\n",
       " 0.97624088887718274,\n",
       " 0.96945996611998009,\n",
       " 0.95816586996256481,\n",
       " 0.93449324109223186,\n",
       " 0.93134183543352345,\n",
       " 0.91795845788283414,\n",
       " 0.91792050534942116,\n",
       " 0.91398823602153001,\n",
       " 0.9088452469270194,\n",
       " 0.90688410063819114,\n",
       " 0.90147164786494904,\n",
       " 0.88907923617041984,\n",
       " 0.88785610848165519,\n",
       " 0.88416894255087952,\n",
       " 0.88004173404394681,\n",
       " 0.87810604024902517,\n",
       " 0.87732957934289402,\n",
       " 0.87432797224148251,\n",
       " 0.866960706185949,\n",
       " 0.86398226923530685,\n",
       " 0.86333286895628403,\n",
       " 0.85051789509935027,\n",
       " 0.84720185012442051,\n",
       " 0.84512793693931731,\n",
       " 0.84342788621740994,\n",
       " 0.84333207511592101,\n",
       " 0.83968515484498762,\n",
       " 0.83463303168832792,\n",
       " 0.82663031168081325,\n",
       " 0.81840862824535177,\n",
       " 0.81706467899195245,\n",
       " 0.81567627782737451,\n",
       " 0.81419686544585501,\n",
       " 0.8128616154274807,\n",
       " 0.81214195746221329,\n",
       " 0.81162566680887982,\n",
       " 0.80960443604696086,\n",
       " 0.80749617975329502,\n",
       " 0.8015182295380413,\n",
       " 0.79488545807229505,\n",
       " 0.79381896136444918,\n",
       " 0.79253189443198813,\n",
       " 0.79125962441945574,\n",
       " 0.78625386421503185,\n",
       " 0.78066651121540021,\n",
       " 0.7800221765288109,\n",
       " 0.77942108359537454,\n",
       " 0.77790830760481644,\n",
       " 0.77728949230326205,\n",
       " ...]"
      ]
     },
     "execution_count": 100,
     "metadata": {},
     "output_type": "execute_result"
    }
   ],
   "source": [
    "edge_list = [(word1, word2) for word1, word2, weight in edges]\n",
    "weight_list = [weight for word1, word2, weight in edges]"
   ]
  },
  {
   "cell_type": "markdown",
   "metadata": {},
   "source": [
    "# 상관관계 시각화"
   ]
  },
  {
   "cell_type": "code",
   "execution_count": 85,
   "metadata": {
    "collapsed": true
   },
   "outputs": [],
   "source": [
    "import networkx"
   ]
  },
  {
   "cell_type": "code",
   "execution_count": 86,
   "metadata": {
    "collapsed": false
   },
   "outputs": [],
   "source": [
    "G = networkx.Graph()\n",
    "\n",
    "edge_set = set()\n",
    "for word1, word2, weight in edges:\n",
    "    G.add_edge(word1, word2, weight=weight)\n",
    "    edge_set.add((word1, word2))"
   ]
  },
  {
   "cell_type": "markdown",
   "metadata": {},
   "source": [
    "* [spring layout](http://networkx.readthedocs.io/en/networkx-1.11/reference/generated/networkx.drawing.layout.spring_layout.html#networkx.drawing.layout.spring_layout)\n",
    "* [draw_networkx_nodes](http://networkx.readthedocs.io/en/networkx-1.11/reference/generated/networkx.drawing.nx_pylab.draw_networkx_nodes.html#networkx.drawing.nx_pylab.draw_networkx_nodes)\n",
    "* [draw_networkx_edges](http://networkx.readthedocs.io/en/networkx-1.11/reference/generated/networkx.drawing.nx_pylab.draw_networkx_edges.html#networkx.drawing.nx_pylab.draw_networkx_edges)\n",
    "* [draw_networkx_labels](http://networkx.readthedocs.io/en/networkx-1.11/reference/generated/networkx.drawing.nx_pylab.draw_networkx_labels.html#networkx.drawing.nx_pylab.draw_networkx_labels)"
   ]
  },
  {
   "cell_type": "code",
   "execution_count": 101,
   "metadata": {
    "collapsed": false
   },
   "outputs": [
    {
     "data": {
      "image/png": "[encoded data removed]",
      "text/plain": [
       "<matplotlib.figure.Figure at 0x22a2fdfe630>"
      ]
     },
     "metadata": {},
     "output_type": "display_data"
    }
   ],
   "source": [
    "position = networkx.spring_layout(G, iterations=30) #좌표 계산, 여러가지 레이아웃과 좌표 강제 지정 등의 방법이 있음\n",
    "pyplot.figure(figsize=(12, 9))\n",
    "networkx.draw_networkx_nodes(G, position, node_size=100)\n",
    "networkx.draw_networkx_edges(G, position, edgelist=edge_list, width=weight_list, edge_color='lightgray')\n",
    "networkx.draw_networkx_labels(G, position, font_size=15, font_family='Malgun Gothic')\n",
    "pyplot.axis('off')\n",
    "pyplot.show()"
   ]
  },
  {
   "cell_type": "code",
   "execution_count": null,
   "metadata": {
    "collapsed": true
   },
   "outputs": [],
   "source": []
  }
 ],
 "metadata": {
  "kernelspec": {
   "display_name": "Python 3",
   "language": "python",
   "name": "python3"
  },
  "language_info": {
   "codemirror_mode": {
    "name": "ipython",
    "version": 3
   },
   "file_extension": ".py",
   "mimetype": "text/x-python",
   "name": "python",
   "nbconvert_exporter": "python",
   "pygments_lexer": "ipython3",
   "version": "3.5.1"
  }
 },
 "nbformat": 4,
 "nbformat_minor": 0
}

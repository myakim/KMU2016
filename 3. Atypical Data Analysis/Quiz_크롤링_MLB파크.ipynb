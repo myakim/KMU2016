{
 "cells": [
  {
   "cell_type": "markdown",
   "metadata": {},
   "source": [
    "# MLB파크 -  한국야구타운"
   ]
  },
  {
   "cell_type": "code",
   "execution_count": 221,
   "metadata": {
    "collapsed": false
   },
   "outputs": [
    {
     "data": {
      "text/plain": [
       "'비속어 처리 내용 & 문의 주1회 제한'"
      ]
     },
     "execution_count": 221,
     "metadata": {},
     "output_type": "execute_result"
    }
   ],
   "source": [
    "import requests\n",
    "import lxml.html\n",
    "from urllib.parse import urljoin\n",
    "\n",
    "board_url = 'http://mlbpark.donga.com/mlbpark/b.php?b=kbotown2'\n",
    "response = requests.get(board_url)\n",
    "#response.content.decode('utf8')\n",
    "\n",
    "root = lxml.html.fromstring(response.content)\n",
    "root.xpath('.//td[@class=\"t_left\"]')[0].text_content()\n"
   ]
  },
  {
   "cell_type": "code",
   "execution_count": 239,
   "metadata": {
    "collapsed": false
   },
   "outputs": [
    {
     "name": "stdout",
     "output_type": "stream",
     "text": [
      "삼성야수들 배터박스 등장음악 원래 다 하나씩 있나요? \n",
      "http://mlbpark.donga.com/mlbpark/b.php?id=2325860&p=1&b=kbotown2&m=view&select=title&query=&user=\n",
      "\n",
      "전 최형우 풍문으로 들었소 랑 채태인 bomba 만 기억에 남는데\n",
      "\n",
      "다 있나요?\n",
      "━━━━━━━━━━━━━━━━━━━━━━━━━━━━━━\n",
      "kt이대형선수 일단 500도루까지는 충분히 하겠네요... \n",
      "http://mlbpark.donga.com/mlbpark/b.php?id=2325859&p=1&b=kbotown2&m=view&select=title&query=&user=\n",
      "\n",
      "http://sports.news.naver.com/kbaseball/news/read.nhn?oid=515&aid=0000000062 2003년 LG에 입단한 이후 2014년 KIA를 거쳐 지난해부터 kt에서 활약 중인 이대형은 4월 11일 현재 447도루로 450도루에 3개 만을 남겨두고 있다. 447도루는 통산 도루 부문에서 4위, 현역선수 중에는 최다 기록이다.   이대형은 2003년 4월 10일 대전구장에서 열린 한화와의 경기에서 첫 도루에 성공했고, 2003년 7개, 2004년 2개로 한 자리 수 도루에 머물렀지만, 데뷔 3시즌 째인 2005년 37도루(3위)를 기록하며 빠른 발의 장점을 살리기 시작했다. 지난해까지 11년 연속 두 자릿수 도루를 기록할 만큼 꾸준히 달려온 이대형은 2007년 53도루로 처음 1위에 오른 뒤 2007년부터 2010년까지 KBO 리그 최초로 4년 연속 50도루라는 진기록을 세우기도 했으며 정수근(롯데, 1998~2001)에 이어 두 번째로 4년 연속 도루왕까지 차지했다.  KBO 리그에서 450도루를 달성한 선수는 2004년 전준호(히어로즈, 당시 현대), 2005년 이종범(KIA), 2008년 정수근이 있으며, KBO는 이대형이 450도루를 달성할 경우 표창규정에 의거해 기념상을 수여할 예정이다.KBO 통산 최다도루가 전준호코치의 550개...2위는 이종범해설의 5103위는 정수근의 474개..\n",
      "━━━━━━━━━━━━━━━━━━━━━━━━━━━━━━\n",
      "한화같은 병명이라도 체질에 따라 그 처방이 다른데 \n",
      "http://mlbpark.donga.com/mlbpark/b.php?id=2325858&p=1&b=kbotown2&m=view&select=title&query=&user=\n",
      "\n",
      " 김성근은 매번 똑같이 처방을 하는 것 같군요진단과 처방이 잘 맞아 떨어진게 SK 시절이고그 전 태평양이나 쌍방울 엘지시절에도 뭐 부작용이 없지 않았지만 괜찮은 치료를 했었고(치료후 다시 망가진건 함정)삼성시절과 현재의 한화에는 그 처방전이 맞지 않은데또 이전 환자들에게 했던 처방과 똑같이 하고 있다는게 문제특히나 작년의 처방전이 오진이었는데 스스로는 오진이라 인정허지 않고  체질이 바뀐 환자에게도 마찬가지의 진단과 처방을 내리니치료하는데도 오래 걸리고 제대로 치료도 안되고 부작용만 늘고 있음이러다 또 환자 죽일 지경....의사가 환자를 대할 때도 병명을 제대로 모르면 자문도 구하고 이것저것 자료도 찾아보고 하는데 이분은 자신만의 아집에 가득차서 기필코 자신의 방식으로만 환자를 일으켜 세우고자하는 독선에 차 있음작년에도 이에 반발했던 코치들 잘라버렸고주위에 바른말 해주는 사람도 없나봄.....제발 좀...\n",
      "━━━━━━━━━━━━━━━━━━━━━━━━━━━━━━\n",
      "한화김성근감독 투수운영 작년보다 나아지긴했더군요 [1]\n",
      "http://mlbpark.donga.com/mlbpark/b.php?id=2325857&p=1&b=kbotown2&m=view&select=title&query=&user=\n",
      "\n",
      "작년엔 권.정.진 혹사였다면  \n",
      "\n",
      "올시즌은  투수진 전체를 혹사..\n",
      "\n",
      "뭐 과부화가 나눠진다는 장점이야 있겠지만.. 문젠 선발이 먹어주는 이닝이 작년보다 못한..\n",
      "\n",
      "그래도 송은범은 잘 챙겨주는듯\n",
      "━━━━━━━━━━━━━━━━━━━━━━━━━━━━━━\n",
      "NC내일 삼성이기는 방법 [1]\n",
      "http://mlbpark.donga.com/mlbpark/b.php?id=2325856&p=1&b=kbotown2&m=view&select=title&query=&user=\n",
      "\n",
      " 박민우와 2번타자가 출루한다나성범-테임즈-박석민-이호준이 홈런 1개씩 날려준다손시헌선수가 삼성전 강한만큼 홈런 2개를 날린다선발들이 호투해준다불펜이 여전히 잘해준다이정도면 이기겠죠?\n",
      "━━━━━━━━━━━━━━━━━━━━━━━━━━━━━━\n",
      "LG우리 불펜이 기가 막힙니다.. [3]\n",
      "http://mlbpark.donga.com/mlbpark/b.php?id=2325855&p=1&b=kbotown2&m=view&select=title&query=&user=\n",
      "\n",
      " 25와 1/3 이닝동안 비자책 포함 6실점을 했는데.. 이승현이 연투하던날 3실점하고..  정우가 자책으로 2실점.. 수비 실책으로 1심점 햇네요..  그외에 이동현.최성훈.최동환.진해수.신승현.김지용 모두 방어율 제로 입니다.. 선수들의 면면으로 보면.. 이동현 정도말고는.. a급 선수도 없는데.. 적재적소에 투입이 되어 조합을 맞추니.. 여트 수십억 불펜 부럽지 않습니다..  이승현에게 연투 안시키고 관리를 해줬다면.. 더 좋았을테고.. 정우가 마무리 답게 좀더 잘했다면.. 더 좋앗을텐데..  불펜이 너무 잘해주고 있어서.. 선발보강되고.. 공격력이 나아지면.. 성적이 충분히 좋아지겠네요..   \n",
      "━━━━━━━━━━━━━━━━━━━━━━━━━━━━━━\n",
      "단문KBO리그 비연고지 시민들도 야구 볼까요? [2]\n",
      "http://mlbpark.donga.com/mlbpark/b.php?id=2325854&p=1&b=kbotown2&m=view&select=title&query=&user=\n",
      "\n",
      " 야구경기를 개최하지 않는 도시의 시민들도 야구를 볼까요?TV시청률에서 어느정도 영향을 줄지 궁금하네요.\n",
      "━━━━━━━━━━━━━━━━━━━━━━━━━━━━━━\n",
      "한화송은범은 생각할수록 황당하네요 ㅋㅋㅋ [6]\n",
      "http://mlbpark.donga.com/mlbpark/b.php?id=2325853&p=1&b=kbotown2&m=view&select=title&query=&user=\n",
      "\n",
      " 은밤이가 비록 값비싼 FA투수이긴 하나 저는 은밤이에게 큰 기대를 하지 않습니다.왜냐하면 최근 몇년은 극타고의 시대였고 아무래도 이번 시즌까지는 그 여파가 지속될 것 같고한두해전이면 몰라도 3점대를 기록했던 시절은 자그마치 런던올림픽보다 전입니다....무엇보다 3년 연속 7점대 투수가 해봐야 뭘 얼마나 더 잘하겠어요 ㅠㅠ그래서 더도말고 덜도말고 딱 평자점 1점만 떨궈서 6점대 투수만 되줘도 만족한다 생각했는데1점을 낮춰 6점이 되긴 커녕 1점을 올려 8점대 투수가 됐네요 ㅜㅜ아직 두경기밖에 안했으니 더 지켜봐야겠지만 정말 기대치를 하염없이 낮췄는데도 더 못할 줄이야 ㅜㅜ흐아... 내일은 평소보다 잘던져서 6점대 진입했으면..\n",
      "━━━━━━━━━━━━━━━━━━━━━━━━━━━━━━\n",
      "LG생각보다 득점권 OPS평균은 되네요? [2]\n",
      "http://mlbpark.donga.com/mlbpark/b.php?id=2325852&p=1&b=kbotown2&m=view&select=title&query=&user=\n",
      "\n",
      " 아직 통계내기는 조금 경기수가 적지만요... 생각보다 득점권 OPS 평균되는게 놀랍네요.  다만 득점권 타석자체가 상위권의 60%수준..    나가면 점수가 나긴하는데, 나가질 못하는게 문제였군요. 하긴 일단나가야 득점권타율 올릴기회라도 있겠죠..\n",
      "━━━━━━━━━━━━━━━━━━━━━━━━━━━━━━\n",
      "LG문득 든 응원가 아이디어 [4]\n",
      "http://mlbpark.donga.com/mlbpark/b.php?id=2325851&p=1&b=kbotown2&m=view&select=title&query=&user=\n",
      "\n",
      "10개구단이 다 이길때 이기는 싸우자 이기자 하는 응원가만부르는데\n",
      "\n",
      "저는 졌을때 심금을 자극하는 응원가하나만들면 좋겠다고생각하네요\n",
      "\n",
      "곡명은 god  촛불하나\n",
      "\n",
      "\n",
      "지치고 힘들때 내게 기대 언제나 LG에 서잇을게 \n",
      "\n",
      "\n",
      "혼자라는 생각이 들지 않게 우리가 손잡아줄게\n",
      "\n",
      "어떤가요..?\n",
      "━━━━━━━━━━━━━━━━━━━━━━━━━━━━━━\n",
      "LG공격 극강 타선과 공수 밸런스 타선 [1]\n",
      "http://mlbpark.donga.com/mlbpark/b.php?id=2325850&p=1&b=kbotown2&m=view&select=title&query=&user=\n",
      "\n",
      " 공격 최선 타선 1.임    훈 (중견수)2.정주현 (  2루수)3.박용택 (좌익수)4.서상우 (지   명)5.히   메 (  3루수)6.이병규 (우익수)7.정성훈 (  1루수)8.오지환 (유격수)9.정상호 or 유강남 (포 수)  공수 밸런스 타선 1.임    훈 (중견수)2.정주현 (  2루수)3.박용택 (지   명)4.이병규 (좌익수)5.히   메 (  3루수)6.정성훈 (  1루수)7.이천웅 (우익수)8.오지환 (유격수)9.정상호 or 유강남 (포 수)  정찬헌 봉중근 2명 빼고 모두 돌아 오는데 타선에 오지환 정성훈 들어가니 모두 강해 보이네요.    \n",
      "━━━━━━━━━━━━━━━━━━━━━━━━━━━━━━\n",
      "한화아무리 그래도 댓글 70개가 넘어가는데 삭튀를 하시면;; [8]\n",
      "http://mlbpark.donga.com/mlbpark/b.php?id=2325849&p=1&b=kbotown2&m=view&select=title&query=&user=\n",
      "\n",
      " 댓글 길게달고 있는데 글이 사라졌다니;;;;;;아놔\n",
      "━━━━━━━━━━━━━━━━━━━━━━━━━━━━━━\n",
      "한화김성근감독의 한화는 최소 3위는 해야죠 [5]\n",
      "http://mlbpark.donga.com/mlbpark/b.php?id=2325848&p=1&b=kbotown2&m=view&select=title&query=&user=\n",
      "\n",
      "김감독 본인말처럼 하루살이 야구\n",
      "오늘만 보는야구인데 그정도는 해야죠\n",
      "\n",
      "유망주들 죄다 내주고 노인정되는판에 5-6위 하면  어쩌나요..\n",
      "\n",
      "안그런가요?\n",
      "━━━━━━━━━━━━━━━━━━━━━━━━━━━━━━\n",
      "단문유명 파워블로거의 시구연습. [1]\n",
      "http://mlbpark.donga.com/mlbpark/b.php?id=2325847&p=1&b=kbotown2&m=view&select=title&query=&user=\n",
      "\n",
      " https://www.facebook.com/ktwiz/videos/1079927492063935/\n",
      "━━━━━━━━━━━━━━━━━━━━━━━━━━━━━━\n",
      "넥센우리가 kbo 레스터시티가 됐으면 좋겠어요ㅋㅋ [1]\n",
      "http://mlbpark.donga.com/mlbpark/b.php?id=2325846&p=1&b=kbotown2&m=view&select=title&query=&user=\n",
      "\n",
      "초반반짝이 아니고 계속 쭉 상위권이였으면 함ㅋㅋ\n",
      "걍 희망사항이예요ㅋㅋ 주현이 첫승이나했으면~\n",
      "━━━━━━━━━━━━━━━━━━━━━━━━━━━━━━\n",
      "롯데울팀에 87년생들이 많네요....... [2]\n",
      "http://mlbpark.donga.com/mlbpark/b.php?id=2325845&p=1&b=kbotown2&m=view&select=title&query=&user=\n",
      "\n",
      "87년생이 김문호,정훈,손용석,배장호까지 30을 코앞에 두고 데뷔10년차이기도 하고 이제 팀의 주축을 이뤄야 할선수들인데 무노랑 훈이 용슥이 모두 팀의 주축선수가 되길 바랍니다.\n",
      "━━━━━━━━━━━━━━━━━━━━━━━━━━━━━━\n",
      "NC이민호 삼성상대 14,15시즌 기록.jpg [6]\n",
      "http://mlbpark.donga.com/mlbpark/b.php?id=2325844&p=1&b=kbotown2&m=view&select=title&query=&user=\n",
      "\n",
      " 2015년 - 일단, 나바로, 채태인, 박혜자, 진갑용 없음.단, 5할 김상수, 5할 구자욱, 3할3푼 승짱2014년 - 승짱 9타수 5안타 1홈런, 박해민....출처 : 스탯티즈---------------주의할 타자--------------------이승엽, 김상수, 구자욱, 박해민올해 잘하는 백상원원래 잘하는 이지영...으응????????그냥 민호야....볼질만 하지 말자어제 충분히 어질어질했어.,......\n",
      "━━━━━━━━━━━━━━━━━━━━━━━━━━━━━━\n",
      "LG외국인 타자 성적 [3]\n",
      "http://mlbpark.donga.com/mlbpark/b.php?id=2325843&p=1&b=kbotown2&m=view&select=title&query=&user=\n",
      "\n",
      "아직 시즌 극초반이어서 의미없긴 하지만, LG 외국인타자 성적이 상대적으로 탑인 이런 때도 있군요..히메네스 (LG)  .367   3홈런  6타점필 (KIA)            .320  0홈런  5타점마르테 (kt)         .294  0홈런  5타점로사리오 (한화) .258  1홈런  5타점발디리스 (삼성) .235  1홈런  7타점테임즈 (NC)       .231  1홈런  5타점에반스 (두산)     .200  1홈런  3타점대니돈 (넥센)     .200  2홈런  7타점아두치 (롯데)     .167  0홈런  5타점고메즈 (SK)       .147  2홈런  6타점\n",
      "━━━━━━━━━━━━━━━━━━━━━━━━━━━━━━\n",
      "KIA오준혁 진짜 빠르네요 [5]\n",
      "http://mlbpark.donga.com/mlbpark/b.php?id=2325842&p=1&b=kbotown2&m=view&select=title&query=&user=\n",
      "\n",
      "동무의 긴 스트라이드와 주처 노피어 주루를 합친듯한\n",
      "\n",
      "다시보기로 찾아 보는데\n",
      "\n",
      "정말 좋네요\n",
      "\n",
      "설마 2군에서 익숙한 낮경기라 잘한건 아니겠죠?ㅎ\n",
      "━━━━━━━━━━━━━━━━━━━━━━━━━━━━━━\n",
      "롯데수요일 원정팀선수들 사전투표했을까요?? \n",
      "http://mlbpark.donga.com/mlbpark/b.php?id=2325841&p=1&b=kbotown2&m=view&select=title&query=&user=\n",
      "\n",
      " 선수도 국민인데............원정오는 팀 선수들 사전투표했겠지요??............못했을라니................음`````````\n",
      "━━━━━━━━━━━━━━━━━━━━━━━━━━━━━━\n",
      "근데 작년에는 한화가 성적 낸 거 아닌가요? [18]\n",
      "http://mlbpark.donga.com/mlbpark/b.php?id=2325840&p=1&b=kbotown2&m=view&select=title&query=&user=\n",
      "\n",
      " 저는 밑에 글 올렸듯이 김성근 감독 빠이고작년 150경기 넘게 경기하고 6위 했으면 최종 성적으로는적합한거 아닌가요?난 단순히 성적표만 보면 작년 괜찮은 거 같은데;\n",
      "━━━━━━━━━━━━━━━━━━━━━━━━━━━━━━\n",
      "한화이번주는 돗돔이 월척이었으면 좋겠네요 [8]\n",
      "http://mlbpark.donga.com/mlbpark/b.php?id=2325839&p=1&b=kbotown2&m=view&select=title&query=&user=\n",
      "\n",
      "월척일겁니다.ㅎ이제 잡힐때가 된거같거든요 ㅎㅎㅎ\n",
      "━━━━━━━━━━━━━━━━━━━━━━━━━━━━━━\n",
      "한화감독님 투수 운영이 작년보다 나아진 건 맞는데 [7]\n",
      "http://mlbpark.donga.com/mlbpark/b.php?id=2325838&p=1&b=kbotown2&m=view&select=title&query=&user=\n",
      "\n",
      " 그럼에도 혹사 순위 1~5위 중  1,3,4위가 한화 투수ㅡ2위 투수와 5위 투수가 속한 팀 팬들은 일체의 쉴드도 없이 혹사를 욕하는데 정작 무려 3명이나 혹사를 당하는 한화는 생각보다 감독 쉴더가  ㄷㄷㄷ암튼 작년에 비하면 괜찮지만 그래도 매일 욕먹어야할 정도의 혹사를 하는 김성근 투수 운영을 괜찮다고 하는 팬분들 정체가 궁금하네요 \n",
      "━━━━━━━━━━━━━━━━━━━━━━━━━━━━━━\n",
      "한화하주석 생각만하면 너무 안타깝습니다. [11]\n",
      "http://mlbpark.donga.com/mlbpark/b.php?id=2325837&p=1&b=kbotown2&m=view&select=title&query=&user=\n",
      "\n",
      "그냥 제가 개인적으로 팬이라서 더 그렇고 오랬동안 터지길 기다리고 있어서 더 그렇지만 그놈의 삼단분리 타법에서 벗어나서 아직 몇타석 되진않지만 확실히 타격쪽은 이전에비하면 나아진거같은데툴중에 가장 좋고 인정받던 수비에서 이리 무너져서 현재로선 주전경쟁에서 밀려지고 있는 모습이라 너무 안타깝네요 ㅜㅜ진짜 느려터진 이 한화 타선에 근우 용큐와 함께 달릴수 있는 녀석이고 장타 능력도 있고.. 수비 범위도 넓고.. 아직도 팀내 타점 1위인지는 모르겠네요.일단.. 스캠을 제대로 못치룬게 큰거같고.. 개막전부터 시작된 크리티컬한 에러들이더욱 하주석을 긴장하게 만드는게 아닌가 싶고.. 이건뭐 팬이라고해도 쉴드 치기도 힘든 에러들이라.. 3루 알바도 좋지만.. 앞으로 10년은 한화 유격수 자리 지켜줄꺼라 믿는놈인데.. 2군 한번 다녀오는일이 있더라도 자리좀 잘 잡아 줬으면 좋겠네요 \n",
      "━━━━━━━━━━━━━━━━━━━━━━━━━━━━━━\n",
      "롯데이쯤에서 보는 90년대 후반 부산 고교야구 트로이카.jpg [4]\n",
      "http://mlbpark.donga.com/mlbpark/b.php?id=2325836&p=1&b=kbotown2&m=view&select=title&query=&user=\n",
      "\n",
      " 그당시 초 고교급 투수였던 사율신아직도 초 고교급이라고......\n",
      "━━━━━━━━━━━━━━━━━━━━━━━━━━━━━━\n",
      "삼성내일 희망타순 [6]\n",
      "http://mlbpark.donga.com/mlbpark/b.php?id=2325835&p=1&b=kbotown2&m=view&select=title&query=&user=\n",
      "\n",
      "1. 배영섭 중견\n",
      "2. 박한이 우익\n",
      "3. 구자욱 1루\n",
      "4. 최향우 좌익\n",
      "5. 이승엽 지명\n",
      "6. 발디리스 3루\n",
      "7. 백상원 2루\n",
      "8.이지영 포수\n",
      "9. 김상수 유격\n",
      "\n",
      "이렇게 갑시다\n",
      "━━━━━━━━━━━━━━━━━━━━━━━━━━━━━━\n",
      "한화한화팬분들중 김성근좋아하시는분들 감독때문에 선수들좀 비하는 하지맙시다. [11]\n",
      "http://mlbpark.donga.com/mlbpark/b.php?id=2325834&p=1&b=kbotown2&m=view&select=title&query=&user=\n",
      "\n",
      " 김성근 온 이후에,  경기 성적 안나오면, 특정 선수 깍아내리기 (ex 김태균)   호구 트레이드 이후에 ( 트레이드 된 선수들 깍아내리기)    양훈 군제대하고 감독이 살빼게 해서..구위안나오니깐 , 자기 사용못하니깐 득달같이 트레이드 시켰구만..  양훈 군대이후로 못쓸정도로 잘 트레이드 했다고 양훈 깍아내렸던거 기억나네요. 14년 본인 커리어 하이 찍고, 100이닝도 아닌 상태에서 한화 투수중에 상위권 war 획득, 타고투저에서 좋은 방어율  찍고, 15년 시즌전에 기대 컷던 유창식도 감독이 투구폼 변경 시키고,, 못써먹으니 트레이드 +거기에 한화에서 가장 툴좋은 외야 유망주 유출시킴, 이러고 말나오니깐 유창식은 잘보냈다? 유창식은 한화에서 안되는다는 등 (현실은 유창식 14년 시즌이 한화 젊은 투수중에 최상위권 기록 ),  오준혁도 트레이드해서..아까워 하던 많은 팬들이 들고 일어나니깐, 1군에서 살아남을수 없다? 혹은 수비가 안된다?(현실은 기아에서 기회받고 수비도 많이 성장했습니다,)  여기에 추가적으로 더많지만..간단히 여기까지 적겠습니다.  현대에서 누가 누굴 좋아하고 응원하는건 자기 마음입니다.. 그래서 김성근을 좋아하든 김응용을 좋아하든 자기 마음인데요,  좋아하는것 좋은데, 팬이면 감독때문에 엄한 자팀팬들 깍아내리지 않았으면 좋겠네요.\n",
      "━━━━━━━━━━━━━━━━━━━━━━━━━━━━━━\n",
      "내가 김성근 빠이지만 시즌 중반까지는 좀 지켜보면 좋겠음 [6]\n",
      "http://mlbpark.donga.com/mlbpark/b.php?id=2325833&p=1&b=kbotown2&m=view&select=title&query=&user=\n",
      "\n",
      " 아직 10경기도 안 치른 시점에서성적을 논하기에는 너무 이른거 아닌가 싶기도 하고적어도 팀 간 한바퀴 돌고 시즌 중반까지는 지켜봐야죠혹사야 김성근 선임하고 대부분 다 예측한거고올해도 가을야구 못하면 욕먹고 잘려도 더이상 김성근 감독옹호도 못 하겠음 말 그대로 김성근 감독은 성적으로 입증해야죠성적으로 입증못하면 아무리 빠라도 옹호 못함;기냥 좀 지켜보면 좋겠어요 ㅋㅋㅋ\n",
      "━━━━━━━━━━━━━━━━━━━━━━━━━━━━━━\n",
      "두산쇼월터가 경기전에 한 말 지금 봤는데 너무 화나네요.. [4]\n",
      "http://mlbpark.donga.com/mlbpark/b.php?id=2325832&p=1&b=kbotown2&m=view&select=title&query=&user=\n",
      "\n",
      " 3~4안타 쳐서 계속 우리 옵션으로 남길 바란다.이게 한 팀의 '감독'이 첫 데뷔전 치르는 선수에게 입에 올릴 수나 있는 말인가요?그것도 언론에 대고? 스캠 절반부터 경기도 안내보내고 강제 셧다운 시켜놓고..진짜 이게 사람인가... 옵션..와...이거 보는데 순간 피가 확 뜨거워지면서.. 도대체 본인이 뭔데 이렇게 사람을 무시하고 짓밟지...사람 대 사람으로서 정말 한번 만나서 대화해보고 싶네요..생각할수록 화나서 몸이 떨리네..솔직히 저는 이딴 팀에서 나와서 타팀 마이너라도 갔음 좋겠는데..그 힘든 생활을 선수에게 하라고 말할수도 없고..근데 저 팀 감독이며 단장이 혀 함부로 놀릴때마다정신적으로 너무 힘드네요..진짜 선수 하나 망가뜨리려고 작정한 인간들 보는것 같달까..니들이 하는 짓 인생에서 꼭 부메랑 되어 날아갈거다..저딴게 야구 팀 감독이라는게 야구라는 스포츠의 팬으로서 수치스러움..아씨 눈물나네요..\n",
      "━━━━━━━━━━━━━━━━━━━━━━━━━━━━━━\n",
      "넥센그러고보니 이장석대표 조태룡 전단장님 암흑기때 욕이란욕은 다먹은걸로.. [5]\n",
      "http://mlbpark.donga.com/mlbpark/b.php?id=2325831&p=1&b=kbotown2&m=view&select=title&query=&user=\n",
      "\n",
      "희대의 장원삼트레이드부터해서 팀 주축선수 대거 트레이드할때 욕엄청 먹은걸로 기억을하는데...구단 유지를 위해 어쩔수없었다지만 팀의 에이스 자원인 장원삼비롯해서 하루가멀다하고 나오는 주축선수 트레이드로 팀이 약해지고 하위권이나 꼴지도 해봤고...지금이야 이장석대표가 재평가 되어가고있지만..당시는 뭐 그냥 조롱의 대상이었죠...조태룡단장님 고생하셨습니다강원fc가셔서도 능력 보여주세요\n",
      "━━━━━━━━━━━━━━━━━━━━━━━━━━━━━━\n"
     ]
    }
   ],
   "source": [
    "for node in root.xpath('.//td[@class=\"t_left\"]/a'):\n",
    "    # 공지사항 예외처리\n",
    "    if node.attrib['href'].find('b=notice') > 0 :\n",
    "        continue\n",
    "    \n",
    "    # 게시물 리스트 제목 출력\n",
    "    print(node.text_content())\n",
    "\n",
    "    # 게시물 본문 URL\n",
    "    main_text_url = urljoin(board_url, node.attrib['href'])\n",
    "    print(main_text_url)\n",
    "    print()\n",
    "    \n",
    "    # 게시물 본문 조회 및 출력\n",
    "    response_main = requests.get(main_text_url)\n",
    "    root_main_text = lxml.html.fromstring(response_main.content)\n",
    "    main_text = root_main_text.xpath('//div[@id=\"contentDetail\"]')[0].text_content()\n",
    "    print(main_text)\n",
    "    print('━'*30)"
   ]
  },
  {
   "cell_type": "code",
   "execution_count": 206,
   "metadata": {
    "collapsed": false
   },
   "outputs": [
    {
     "name": "stdout",
     "output_type": "stream",
     "text": [
      "은수미 의원 해명글 올라왔네요\n",
      "http://mlbpark.donga.com/mlbpark/b.php?b=bullpen2&id=4809893&m=view\n"
     ]
    }
   ],
   "source": [
    "print(node.text_content())\n",
    "print(urljoin(board_url, node.attrib['href']))"
   ]
  },
  {
   "cell_type": "code",
   "execution_count": 204,
   "metadata": {
    "collapsed": false,
    "scrolled": true
   },
   "outputs": [
    {
     "ename": "TypeError",
     "evalue": "'NoneType' object is not callable",
     "output_type": "error",
     "traceback": [
      "\u001b[1;31m---------------------------------------------------------------------------\u001b[0m",
      "\u001b[1;31mTypeError\u001b[0m                                 Traceback (most recent call last)",
      "\u001b[1;32m<ipython-input-204-627bc4de490d>\u001b[0m in \u001b[0;36m<module>\u001b[1;34m()\u001b[0m\n\u001b[0;32m      5\u001b[0m \u001b[0mroot\u001b[0m\u001b[1;33m.\u001b[0m\u001b[0mxpath\u001b[0m\u001b[1;33m(\u001b[0m\u001b[1;34m'//div[@id=\"contentDetail\"]'\u001b[0m\u001b[1;33m)\u001b[0m\u001b[1;33m[\u001b[0m\u001b[1;36m0\u001b[0m\u001b[1;33m]\u001b[0m\u001b[1;33m.\u001b[0m\u001b[0mtext_content\u001b[0m\u001b[1;33m(\u001b[0m\u001b[1;33m)\u001b[0m\u001b[1;33m\u001b[0m\u001b[0m\n\u001b[0;32m      6\u001b[0m \u001b[1;33m\u001b[0m\u001b[0m\n\u001b[1;32m----> 7\u001b[1;33m \u001b[0mroot_main_text\u001b[0m\u001b[1;33m.\u001b[0m\u001b[0mxpath\u001b[0m\u001b[1;33m(\u001b[0m\u001b[1;34m'//div[@id=\"contentDetail\"]'\u001b[0m\u001b[1;33m)\u001b[0m\u001b[1;33m[\u001b[0m\u001b[1;36m0\u001b[0m\u001b[1;33m]\u001b[0m\u001b[1;33m.\u001b[0m\u001b[0mtext\u001b[0m\u001b[1;33m(\u001b[0m\u001b[1;33m)\u001b[0m\u001b[1;33m\u001b[0m\u001b[0m\n\u001b[0m",
      "\u001b[1;31mTypeError\u001b[0m: 'NoneType' object is not callable"
     ]
    }
   ],
   "source": [
    "#print(root.xpath('.//div[@class=\"ar_txt\"]')[0].text_content())\n",
    "root.xpath('.//div[@class=\"ar_txt\"]')\n",
    "\n",
    "root.xpath('//div[@class=\"ar_txt\"]')[0].text_content()\n",
    "root.xpath('//div[@id=\"contentDetail\"]')[0].text_content()\n",
    "\n",
    "root_main_text.xpath('//div[@id=\"contentDetail\"]')[0].text()"
   ]
  },
  {
   "cell_type": "code",
   "execution_count": null,
   "metadata": {
    "collapsed": true
   },
   "outputs": [],
   "source": [
    "\n",
    "#This will create a list of buyers:\n",
    "buyers = tree.xpath('//div[@title=\"buyer-name\"]/text()')\n",
    "#This will create a list of prices\n",
    "prices = tree.xpath('//span[@class=\"item-price\"]/text()')"
   ]
  },
  {
   "cell_type": "code",
   "execution_count": 232,
   "metadata": {
    "collapsed": false
   },
   "outputs": [
    {
     "data": {
      "text/plain": [
       "'전 최형우 풍문으로 들었소 랑 채태인 bomba 만 기억에 남는데\\n\\n다 있나요?'"
      ]
     },
     "execution_count": 232,
     "metadata": {},
     "output_type": "execute_result"
    }
   ],
   "source": [
    "root_main_text.xpath('//div[@id=\"contentDetail\"]')[0].text_content()"
   ]
  }
 ],
 "metadata": {
  "kernelspec": {
   "display_name": "Python 3",
   "language": "python",
   "name": "python3"
  },
  "language_info": {
   "codemirror_mode": {
    "name": "ipython",
    "version": 3
   },
   "file_extension": ".py",
   "mimetype": "text/x-python",
   "name": "python",
   "nbconvert_exporter": "python",
   "pygments_lexer": "ipython3",
   "version": "3.5.1"
  }
 },
 "nbformat": 4,
 "nbformat_minor": 0
}
